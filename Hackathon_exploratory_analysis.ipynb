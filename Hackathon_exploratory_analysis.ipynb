{
  "nbformat": 4,
  "nbformat_minor": 0,
  "metadata": {
    "kernelspec": {
      "name": "python3",
      "display_name": "Python 3"
    },
    "language_info": {
      "codemirror_mode": {
        "name": "ipython",
        "version": 3
      },
      "file_extension": ".py",
      "mimetype": "text/x-python",
      "name": "python",
      "nbconvert_exporter": "python",
      "pygments_lexer": "ipython3",
      "version": "3.6.6"
    },
    "colab": {
      "name": "Hackathon_exploratory_analysis.ipynb",
      "provenance": [],
      "collapsed_sections": [],
      "machine_shape": "hm",
      "include_colab_link": true
    },
    "accelerator": "GPU"
  },
  "cells": [
    {
      "cell_type": "markdown",
      "metadata": {
        "id": "view-in-github",
        "colab_type": "text"
      },
      "source": [
        "<a href=\"https://colab.research.google.com/github/ftxsilva/Data-Challenge-CAPGEMINI/blob/master/Hackathon_exploratory_analysis.ipynb\" target=\"_parent\"><img src=\"https://colab.research.google.com/assets/colab-badge.svg\" alt=\"Open In Colab\"/></a>"
      ]
    },
    {
      "cell_type": "markdown",
      "metadata": {
        "id": "dfGPhHI0B392",
        "colab_type": "text"
      },
      "source": [
        "# Hackathon Supaero - Restaurants ratings prediction\n",
        "\n",
        "Predict Yelp restaurants ratings from associated reviews, data about users and restaurants# 0. Packages"
      ]
    },
    {
      "cell_type": "code",
      "metadata": {
        "id": "JGGL0OvMDwnC",
        "colab_type": "code",
        "colab": {
          "base_uri": "https://localhost:8080/",
          "height": 121
        },
        "outputId": "4edb74c7-e4ed-4fa6-da3a-a22125700b07"
      },
      "source": [
        "# utiliser google drive\n",
        "from google.colab import drive\n",
        "drive.mount('/content/drive')"
      ],
      "execution_count": null,
      "outputs": [
        {
          "output_type": "stream",
          "text": [
            "Go to this URL in a browser: https://accounts.google.com/o/oauth2/auth?client_id=947318989803-6bn6qk8qdgf4n4g3pfee6491hc0brc4i.apps.googleusercontent.com&redirect_uri=urn%3aietf%3awg%3aoauth%3a2.0%3aoob&response_type=code&scope=email%20https%3a%2f%2fwww.googleapis.com%2fauth%2fdocs.test%20https%3a%2f%2fwww.googleapis.com%2fauth%2fdrive%20https%3a%2f%2fwww.googleapis.com%2fauth%2fdrive.photos.readonly%20https%3a%2f%2fwww.googleapis.com%2fauth%2fpeopleapi.readonly\n",
            "\n",
            "Enter your authorization code:\n",
            "··········\n",
            "Mounted at /content/drive\n"
          ],
          "name": "stdout"
        }
      ]
    },
    {
      "cell_type": "markdown",
      "metadata": {
        "id": "aspGyKtbB396",
        "colab_type": "text"
      },
      "source": [
        "# 0. Packages"
      ]
    },
    {
      "cell_type": "code",
      "metadata": {
        "_cell_guid": "79c7e3d0-c299-4dcb-8224-4455121ee9b0",
        "_uuid": "d629ff2d2480ee46fbb7e2d37f6b5fab8052498a",
        "collapsed": true,
        "id": "ST7vfgc5B397",
        "colab_type": "code",
        "colab": {
          "base_uri": "https://localhost:8080/",
          "height": 554
        },
        "outputId": "6eb51947-b71e-4af1-91c1-72799723eeab"
      },
      "source": [
        "import pandas as pd\n",
        "import numpy as np\n",
        "from sklearn.model_selection import train_test_split\n",
        "from sklearn.linear_model import LogisticRegression\n",
        "from sklearn.feature_extraction.text import CountVectorizer, TfidfVectorizer\n",
        "from sklearn.pipeline import Pipeline\n",
        "from sklearn.metrics import accuracy_score, f1_score, confusion_matrix, classification_report\n",
        "from sklearn.preprocessing import MinMaxScaler\n",
        "!pip install lime\n",
        "from lime.lime_text import LimeTextExplainer\n",
        "import string\n",
        "import seaborn as sns\n",
        "import matplotlib.pyplot as plt"
      ],
      "execution_count": null,
      "outputs": [
        {
          "output_type": "stream",
          "text": [
            "Collecting lime\n",
            "\u001b[?25l  Downloading https://files.pythonhosted.org/packages/b5/e0/60070b461a589b2fee0dbc45df9987f150fca83667c2f8a064cef7dbac6b/lime-0.1.1.37.tar.gz (275kB)\n",
            "\r\u001b[K     |█▏                              | 10kB 28.5MB/s eta 0:00:01\r\u001b[K     |██▍                             | 20kB 3.1MB/s eta 0:00:01\r\u001b[K     |███▋                            | 30kB 4.2MB/s eta 0:00:01\r\u001b[K     |████▊                           | 40kB 3.0MB/s eta 0:00:01\r\u001b[K     |██████                          | 51kB 3.3MB/s eta 0:00:01\r\u001b[K     |███████▏                        | 61kB 3.9MB/s eta 0:00:01\r\u001b[K     |████████▎                       | 71kB 4.2MB/s eta 0:00:01\r\u001b[K     |█████████▌                      | 81kB 4.6MB/s eta 0:00:01\r\u001b[K     |██████████▊                     | 92kB 5.1MB/s eta 0:00:01\r\u001b[K     |███████████▉                    | 102kB 4.8MB/s eta 0:00:01\r\u001b[K     |█████████████                   | 112kB 4.8MB/s eta 0:00:01\r\u001b[K     |██████████████▎                 | 122kB 4.8MB/s eta 0:00:01\r\u001b[K     |███████████████▍                | 133kB 4.8MB/s eta 0:00:01\r\u001b[K     |████████████████▋               | 143kB 4.8MB/s eta 0:00:01\r\u001b[K     |█████████████████▉              | 153kB 4.8MB/s eta 0:00:01\r\u001b[K     |███████████████████             | 163kB 4.8MB/s eta 0:00:01\r\u001b[K     |████████████████████▏           | 174kB 4.8MB/s eta 0:00:01\r\u001b[K     |█████████████████████▍          | 184kB 4.8MB/s eta 0:00:01\r\u001b[K     |██████████████████████▋         | 194kB 4.8MB/s eta 0:00:01\r\u001b[K     |███████████████████████▊        | 204kB 4.8MB/s eta 0:00:01\r\u001b[K     |█████████████████████████       | 215kB 4.8MB/s eta 0:00:01\r\u001b[K     |██████████████████████████▏     | 225kB 4.8MB/s eta 0:00:01\r\u001b[K     |███████████████████████████▎    | 235kB 4.8MB/s eta 0:00:01\r\u001b[K     |████████████████████████████▌   | 245kB 4.8MB/s eta 0:00:01\r\u001b[K     |█████████████████████████████▊  | 256kB 4.8MB/s eta 0:00:01\r\u001b[K     |██████████████████████████████▉ | 266kB 4.8MB/s eta 0:00:01\r\u001b[K     |████████████████████████████████| 276kB 4.8MB/s \n",
            "\u001b[?25hRequirement already satisfied: numpy in /usr/local/lib/python3.6/dist-packages (from lime) (1.18.2)\n",
            "Requirement already satisfied: scipy in /usr/local/lib/python3.6/dist-packages (from lime) (1.4.1)\n",
            "Collecting progressbar\n",
            "  Downloading https://files.pythonhosted.org/packages/a3/a6/b8e451f6cff1c99b4747a2f7235aa904d2d49e8e1464e0b798272aa84358/progressbar-2.5.tar.gz\n",
            "Requirement already satisfied: scikit-learn>=0.18 in /usr/local/lib/python3.6/dist-packages (from lime) (0.22.2.post1)\n",
            "Requirement already satisfied: matplotlib in /usr/local/lib/python3.6/dist-packages (from lime) (3.2.1)\n",
            "Requirement already satisfied: scikit-image>=0.12 in /usr/local/lib/python3.6/dist-packages (from lime) (0.16.2)\n",
            "Requirement already satisfied: joblib>=0.11 in /usr/local/lib/python3.6/dist-packages (from scikit-learn>=0.18->lime) (0.14.1)\n",
            "Requirement already satisfied: kiwisolver>=1.0.1 in /usr/local/lib/python3.6/dist-packages (from matplotlib->lime) (1.1.0)\n",
            "Requirement already satisfied: pyparsing!=2.0.4,!=2.1.2,!=2.1.6,>=2.0.1 in /usr/local/lib/python3.6/dist-packages (from matplotlib->lime) (2.4.6)\n",
            "Requirement already satisfied: python-dateutil>=2.1 in /usr/local/lib/python3.6/dist-packages (from matplotlib->lime) (2.8.1)\n",
            "Requirement already satisfied: cycler>=0.10 in /usr/local/lib/python3.6/dist-packages (from matplotlib->lime) (0.10.0)\n",
            "Requirement already satisfied: imageio>=2.3.0 in /usr/local/lib/python3.6/dist-packages (from scikit-image>=0.12->lime) (2.4.1)\n",
            "Requirement already satisfied: PyWavelets>=0.4.0 in /usr/local/lib/python3.6/dist-packages (from scikit-image>=0.12->lime) (1.1.1)\n",
            "Requirement already satisfied: pillow>=4.3.0 in /usr/local/lib/python3.6/dist-packages (from scikit-image>=0.12->lime) (7.0.0)\n",
            "Requirement already satisfied: networkx>=2.0 in /usr/local/lib/python3.6/dist-packages (from scikit-image>=0.12->lime) (2.4)\n",
            "Requirement already satisfied: setuptools in /usr/local/lib/python3.6/dist-packages (from kiwisolver>=1.0.1->matplotlib->lime) (46.0.0)\n",
            "Requirement already satisfied: six>=1.5 in /usr/local/lib/python3.6/dist-packages (from python-dateutil>=2.1->matplotlib->lime) (1.12.0)\n",
            "Requirement already satisfied: decorator>=4.3.0 in /usr/local/lib/python3.6/dist-packages (from networkx>=2.0->scikit-image>=0.12->lime) (4.4.2)\n",
            "Building wheels for collected packages: lime, progressbar\n",
            "  Building wheel for lime (setup.py) ... \u001b[?25l\u001b[?25hdone\n",
            "  Created wheel for lime: filename=lime-0.1.1.37-cp36-none-any.whl size=284277 sha256=0a3d0b413ab88863011f45f8c8bd18a2400c0ef1b994205d563e16ff2c8f3ef2\n",
            "  Stored in directory: /root/.cache/pip/wheels/c1/38/e7/50d75d4fb75afa604570dc42f20c5c5f5ab26d3fbe8d6ef27b\n",
            "  Building wheel for progressbar (setup.py) ... \u001b[?25l\u001b[?25hdone\n",
            "  Created wheel for progressbar: filename=progressbar-2.5-cp36-none-any.whl size=12074 sha256=9869cd92f3eee48db03a90b079fd4312e24d7b7cb228c8e10de14097b20be046\n",
            "  Stored in directory: /root/.cache/pip/wheels/c0/e9/6b/ea01090205e285175842339aa3b491adeb4015206cda272ff0\n",
            "Successfully built lime progressbar\n",
            "Installing collected packages: progressbar, lime\n",
            "Successfully installed lime-0.1.1.37 progressbar-2.5\n"
          ],
          "name": "stdout"
        }
      ]
    },
    {
      "cell_type": "code",
      "metadata": {
        "id": "-Qi5U3K9CcMa",
        "colab_type": "code",
        "colab": {}
      },
      "source": [
        "!pip install -q kaggle\n",
        "!mkdir -p ~/.kaggle\n",
        "from google.colab import files\n",
        "files.upload() # Upload the file from your computer here \n",
        "               # (you have to download it at https://www.kaggle.com/<Your_Account>/account at the API Section)\n",
        "!cp kaggle.json ~/.kaggle/\n",
        "#!kaggle competitions submit -c restaurants-ratings-prediction -f [FILE PATH] -m \"[CUSTOM MESSAGE]\""
      ],
      "execution_count": null,
      "outputs": []
    },
    {
      "cell_type": "markdown",
      "metadata": {
        "id": "W1opo9wJB3-D",
        "colab_type": "text"
      },
      "source": [
        "# 1. Data"
      ]
    },
    {
      "cell_type": "code",
      "metadata": {
        "id": "TVi_m6pSB3-E",
        "colab_type": "code",
        "colab": {}
      },
      "source": [
        "df = pd.read_csv(\"/content/drive/My Drive/Hackathon-Capgemini/data/train_set.csv\")\n",
        "df_test = pd.read_csv(\"/content/drive/My Drive/Hackathon-Capgemini/data/test_set.csv\")\n",
        "\n",
        "#df = df.sample(10000)\n",
        "#df_test = df_test.sample(5000)"
      ],
      "execution_count": null,
      "outputs": []
    },
    {
      "cell_type": "code",
      "metadata": {
        "id": "cONW-v50B3-J",
        "colab_type": "code",
        "colab": {
          "base_uri": "https://localhost:8080/",
          "height": 328
        },
        "outputId": "ec170952-9c4b-488a-d00b-b82eda9148da"
      },
      "source": [
        "df.head(2)"
      ],
      "execution_count": null,
      "outputs": [
        {
          "output_type": "execute_result",
          "data": {
            "text/html": [
              "<div>\n",
              "<style scoped>\n",
              "    .dataframe tbody tr th:only-of-type {\n",
              "        vertical-align: middle;\n",
              "    }\n",
              "\n",
              "    .dataframe tbody tr th {\n",
              "        vertical-align: top;\n",
              "    }\n",
              "\n",
              "    .dataframe thead th {\n",
              "        text-align: right;\n",
              "    }\n",
              "</style>\n",
              "<table border=\"1\" class=\"dataframe\">\n",
              "  <thead>\n",
              "    <tr style=\"text-align: right;\">\n",
              "      <th></th>\n",
              "      <th>review_id</th>\n",
              "      <th>review</th>\n",
              "      <th>rating</th>\n",
              "      <th>binary_target</th>\n",
              "      <th>user_id</th>\n",
              "      <th>business_id</th>\n",
              "      <th>useful_review</th>\n",
              "      <th>funny_review</th>\n",
              "      <th>cool_review</th>\n",
              "      <th>name_restaurant</th>\n",
              "      <th>address</th>\n",
              "      <th>city</th>\n",
              "      <th>state</th>\n",
              "      <th>postal_code</th>\n",
              "      <th>latitude</th>\n",
              "      <th>longitude</th>\n",
              "      <th>review_count_restaurant</th>\n",
              "      <th>is_open</th>\n",
              "      <th>name_user</th>\n",
              "      <th>review_count_user</th>\n",
              "      <th>yelping_since</th>\n",
              "      <th>useful_user</th>\n",
              "      <th>funny_user</th>\n",
              "      <th>cool_user</th>\n",
              "      <th>elite</th>\n",
              "      <th>fans</th>\n",
              "      <th>average_stars</th>\n",
              "      <th>compliment_hot</th>\n",
              "      <th>compliment_more</th>\n",
              "      <th>compliment_profile</th>\n",
              "      <th>compliment_cute</th>\n",
              "      <th>compliment_list</th>\n",
              "      <th>compliment_note</th>\n",
              "      <th>compliment_plain</th>\n",
              "      <th>compliment_cool</th>\n",
              "      <th>compliment_funny</th>\n",
              "      <th>compliment_photos</th>\n",
              "    </tr>\n",
              "  </thead>\n",
              "  <tbody>\n",
              "    <tr>\n",
              "      <th>0</th>\n",
              "      <td>1</td>\n",
              "      <td>Like walking back in time, every Saturday morn...</td>\n",
              "      <td>4.0</td>\n",
              "      <td>1</td>\n",
              "      <td>FIk4lQQu1eTe2EpzQ4xhBA</td>\n",
              "      <td>8mIrX_LrOnAqWsB5JrOojQ</td>\n",
              "      <td>0.0</td>\n",
              "      <td>0.0</td>\n",
              "      <td>0.0</td>\n",
              "      <td>Pinball Hall Of Fame</td>\n",
              "      <td>1610 E Tropicana Ave</td>\n",
              "      <td>Las Vegas</td>\n",
              "      <td>NV</td>\n",
              "      <td>89119.0</td>\n",
              "      <td>36.101449</td>\n",
              "      <td>-115.130511</td>\n",
              "      <td>1258.0</td>\n",
              "      <td>1.0</td>\n",
              "      <td>Carol</td>\n",
              "      <td>866.0</td>\n",
              "      <td>2010-08-26 22:09:14</td>\n",
              "      <td>1635.0</td>\n",
              "      <td>314.0</td>\n",
              "      <td>726.0</td>\n",
              "      <td>2011,2012,2013,2014,2015,2016,2017,2018</td>\n",
              "      <td>63.0</td>\n",
              "      <td>4.16</td>\n",
              "      <td>18.0</td>\n",
              "      <td>10.0</td>\n",
              "      <td>3.0</td>\n",
              "      <td>2.0</td>\n",
              "      <td>2.0</td>\n",
              "      <td>29.0</td>\n",
              "      <td>26.0</td>\n",
              "      <td>53.0</td>\n",
              "      <td>53.0</td>\n",
              "      <td>15.0</td>\n",
              "    </tr>\n",
              "    <tr>\n",
              "      <th>1</th>\n",
              "      <td>2</td>\n",
              "      <td>The food is always good and the prices are rea...</td>\n",
              "      <td>4.0</td>\n",
              "      <td>1</td>\n",
              "      <td>3CJUJILq7CLHk_9OrvpvQg</td>\n",
              "      <td>I4Nr-MVc26qWr08-S3Q1ow</td>\n",
              "      <td>0.0</td>\n",
              "      <td>0.0</td>\n",
              "      <td>0.0</td>\n",
              "      <td>Greenberg's Deli</td>\n",
              "      <td>3790 Las Vegas Blvd S</td>\n",
              "      <td>Las Vegas</td>\n",
              "      <td>NV</td>\n",
              "      <td>89136.0</td>\n",
              "      <td>36.102379</td>\n",
              "      <td>-115.174547</td>\n",
              "      <td>333.0</td>\n",
              "      <td>1.0</td>\n",
              "      <td>Ralph</td>\n",
              "      <td>54.0</td>\n",
              "      <td>2014-03-26 00:29:39</td>\n",
              "      <td>27.0</td>\n",
              "      <td>2.0</td>\n",
              "      <td>4.0</td>\n",
              "      <td>NaN</td>\n",
              "      <td>0.0</td>\n",
              "      <td>3.05</td>\n",
              "      <td>0.0</td>\n",
              "      <td>0.0</td>\n",
              "      <td>0.0</td>\n",
              "      <td>0.0</td>\n",
              "      <td>0.0</td>\n",
              "      <td>0.0</td>\n",
              "      <td>1.0</td>\n",
              "      <td>0.0</td>\n",
              "      <td>0.0</td>\n",
              "      <td>0.0</td>\n",
              "    </tr>\n",
              "  </tbody>\n",
              "</table>\n",
              "</div>"
            ],
            "text/plain": [
              "   review_id  ... compliment_photos\n",
              "0          1  ...              15.0\n",
              "1          2  ...               0.0\n",
              "\n",
              "[2 rows x 37 columns]"
            ]
          },
          "metadata": {
            "tags": []
          },
          "execution_count": 6
        }
      ]
    },
    {
      "cell_type": "code",
      "metadata": {
        "id": "fm9du72cB3-N",
        "colab_type": "code",
        "colab": {}
      },
      "source": [
        "df = df.dropna(subset=[\"review\"])\n",
        "df_test = df_test.dropna(subset=[\"review\"])"
      ],
      "execution_count": null,
      "outputs": []
    },
    {
      "cell_type": "code",
      "metadata": {
        "id": "O5GgxFUwOicJ",
        "colab_type": "code",
        "colab": {
          "base_uri": "https://localhost:8080/",
          "height": 34
        },
        "outputId": "2f167ca1-6760-4fa6-9cd1-0120ded8f105"
      },
      "source": [
        "restau_id = df_test[df_test.name_restaurant=='Mon Ami Gabi'].business_id.unique()[0]\n",
        "restau_id"
      ],
      "execution_count": null,
      "outputs": [
        {
          "output_type": "execute_result",
          "data": {
            "text/plain": [
              "'4JNXUYY8wbaaDmk3BPzlWw'"
            ]
          },
          "metadata": {
            "tags": []
          },
          "execution_count": 8
        }
      ]
    },
    {
      "cell_type": "markdown",
      "metadata": {
        "id": "HmJzIOpKVcVa",
        "colab_type": "text"
      },
      "source": [
        "# 4. Feature Engineering\n",
        "\n",
        "Dans cette partie, la démarche a été d'analyser toutes les variables une par une, de manière à comprendre quelles variables doivent être maintenues, quelles variables doivent être utilisées pour faire du feature engineering et quelles variables peuvent simplement être éliminées.\n",
        "\n",
        "- review_id: l'identifiant du review par soi même n'est pas intéréssant. On l'élimine.\n",
        "\n",
        "- user_id et name_user: l'identifiant du user ou son nom par soi même n'est pas intéréssant. Il pourrait être intéréssant d'utiliser l'id pour faire quelques nouvelles moyennes pour cet id apart la moyenne d'étoiles. Par exemple obtenir la moyenne de compliments que la personne qui a laissé le review obtient normalement, ou encore la différence entre les copmliments obtenus dans ce review et la moyenne de compliments obtenus par l'utilisateur. Mais on décide d'éliminer ces 2 variables.\n",
        "\n",
        "- business_id et name_restaurant: on élimine ces variables parce que dans le dataset de test on n'a que le restaurant 'Mon Ami Gabi', qui n'est même pas présent dans le dataset d'entraînement. Dans la partie 2 il peut être intéressant de regarder les restaurants bons pour donner des avis.\n",
        "\n",
        "- address, city, state, postal_code, latitude, longitude: tous ces variables représentent la localization du restaurant em LV. Ainsi, on va faire du feature engineering, faisant un clustering pour créér une variable qui donne une note entre 1 et 3 pour la localization du restaurant. Et on élimine ces 5 variables.\n",
        "\n",
        "- review_count_user et yelping_since: on peut peut-être utiliser ces variables pour créer une feature 'antiquité'. Important pour la deuixième partie, pour donner plus d'importance aux avis de ceraines personnes.\n",
        "\n",
        "- yelping_since: la date par elle même n'ajoute pas beaucoup d'info. Ce qui est intéressant est de savoir l'antiquité du client dans le site Yelp. On va convertir 'yelping_since' en 'antiquite'.\n",
        "\n",
        "- elite: au lieu de conserver la liste complète, on met dans cette variable tout simplement le nombre d'années que la personne a fait partie de la brigade de Yelp. Pour la deuixième partie, il peut être intéressant de donner plus d'importance aux avis en fonction de cette valeur.\n",
        "\n",
        "- les 10 compliments finaux: il peut être intéressant d'obtenir la moyenne de compliments obtenus par l'utilisateur, et peut-être la comparer avec les valeurs de la review\n",
        "\n",
        "Le reste des features sont laissées telles qu'elles sont."
      ]
    },
    {
      "cell_type": "markdown",
      "metadata": {
        "id": "7Gq-3S4fcv-o",
        "colab_type": "text"
      },
      "source": [
        "## 4.2 Drop features"
      ]
    },
    {
      "cell_type": "code",
      "metadata": {
        "id": "ee19XKOqcy5J",
        "colab_type": "code",
        "colab": {
          "base_uri": "https://localhost:8080/",
          "height": 202
        },
        "outputId": "d7d46265-b51b-4af9-bea6-c3c1523be599"
      },
      "source": [
        "cols = df.columns\n",
        "print(cols)"
      ],
      "execution_count": null,
      "outputs": [
        {
          "output_type": "stream",
          "text": [
            "Index(['review_id', 'review', 'rating', 'binary_target', 'user_id',\n",
            "       'business_id', 'useful_review', 'funny_review', 'cool_review',\n",
            "       'name_restaurant', 'address', 'city', 'state', 'postal_code',\n",
            "       'latitude', 'longitude', 'review_count_restaurant', 'is_open',\n",
            "       'name_user', 'review_count_user', 'yelping_since', 'useful_user',\n",
            "       'funny_user', 'cool_user', 'elite', 'fans', 'average_stars',\n",
            "       'compliment_hot', 'compliment_more', 'compliment_profile',\n",
            "       'compliment_cute', 'compliment_list', 'compliment_note',\n",
            "       'compliment_plain', 'compliment_cool', 'compliment_funny',\n",
            "       'compliment_photos'],\n",
            "      dtype='object')\n"
          ],
          "name": "stdout"
        }
      ]
    },
    {
      "cell_type": "code",
      "metadata": {
        "id": "tCWPs2pZdXNH",
        "colab_type": "code",
        "colab": {}
      },
      "source": [
        "#drop_columns = ['review_id', 'name_user', 'name_restaurant', 'address', 'city', 'state', 'postal_code', 'latitude', 'longitude']\n",
        "\n",
        "#df.drop(drop_columns, axis=1, inplace = True)\n",
        "#df_test.drop(drop_columns, axis=1, inplace = True)"
      ],
      "execution_count": null,
      "outputs": []
    },
    {
      "cell_type": "code",
      "metadata": {
        "id": "4wBbKNGhyJI6",
        "colab_type": "code",
        "colab": {
          "base_uri": "https://localhost:8080/",
          "height": 1000
        },
        "outputId": "23b77814-0643-41f2-93ef-ebcf00f452f2"
      },
      "source": [
        "print('\\nColumns with null values in train dataframe:\\n', df.isnull().sum())\n",
        "print(\"-\"*30)\n",
        "print('\\nColumns with null values in test dataframe:\\n', df_test.isnull().sum())"
      ],
      "execution_count": null,
      "outputs": [
        {
          "output_type": "stream",
          "text": [
            "\n",
            "Columns with null values in train dataframe:\n",
            " review                          0\n",
            "rating                         15\n",
            "binary_target                   0\n",
            "user_id                        15\n",
            "business_id                    15\n",
            "useful_review                  15\n",
            "funny_review                   15\n",
            "cool_review                    15\n",
            "review_count_restaurant        15\n",
            "is_open                        15\n",
            "review_count_user              15\n",
            "yelping_since                  15\n",
            "useful_user                    15\n",
            "funny_user                     15\n",
            "cool_user                      15\n",
            "elite                      933474\n",
            "fans                           15\n",
            "average_stars                  15\n",
            "compliment_hot                 15\n",
            "compliment_more                15\n",
            "compliment_profile             15\n",
            "compliment_cute                15\n",
            "compliment_list                15\n",
            "compliment_note                15\n",
            "compliment_plain               15\n",
            "compliment_cool                15\n",
            "compliment_funny               15\n",
            "compliment_photos              15\n",
            "dtype: int64\n",
            "------------------------------\n",
            "\n",
            "Columns with null values in test dataframe:\n",
            " review_id                     0\n",
            "review                        0\n",
            "user_id                       0\n",
            "business_id                   0\n",
            "useful_review                 0\n",
            "funny_review                  0\n",
            "cool_review                   0\n",
            "name_restaurant               0\n",
            "address                       0\n",
            "city                          0\n",
            "state                         0\n",
            "postal_code                   0\n",
            "latitude                      0\n",
            "longitude                     0\n",
            "review_count_restaurant       0\n",
            "is_open                       0\n",
            "name_user                     0\n",
            "review_count_user             0\n",
            "yelping_since                 0\n",
            "useful_user                   0\n",
            "funny_user                    0\n",
            "cool_user                     0\n",
            "elite                      6005\n",
            "fans                          0\n",
            "average_stars                 0\n",
            "compliment_hot                0\n",
            "compliment_more               0\n",
            "compliment_profile            0\n",
            "compliment_cute               0\n",
            "compliment_list               0\n",
            "compliment_note               0\n",
            "compliment_plain              0\n",
            "compliment_cool               0\n",
            "compliment_funny              0\n",
            "compliment_photos             0\n",
            "dtype: int64\n"
          ],
          "name": "stdout"
        }
      ]
    },
    {
      "cell_type": "code",
      "metadata": {
        "id": "-BmJOB9v2Sl6",
        "colab_type": "code",
        "colab": {}
      },
      "source": [
        "cols_to_check = df.columns\n",
        "df['is_na'] = df[cols_to_check].isnull().apply(lambda x: sum(x), axis=1) "
      ],
      "execution_count": null,
      "outputs": []
    },
    {
      "cell_type": "code",
      "metadata": {
        "id": "UjKtPsQU2zMV",
        "colab_type": "code",
        "colab": {
          "base_uri": "https://localhost:8080/",
          "height": 34
        },
        "outputId": "8b30641d-2c11-4a47-ddc8-480b44a4bd0a"
      },
      "source": [
        "df['is_na'].unique()"
      ],
      "execution_count": null,
      "outputs": [
        {
          "output_type": "execute_result",
          "data": {
            "text/plain": [
              "array([ 0,  1,  3,  2, 34])"
            ]
          },
          "metadata": {
            "tags": []
          },
          "execution_count": 274
        }
      ]
    },
    {
      "cell_type": "code",
      "metadata": {
        "id": "4Ew7zBsV3I9S",
        "colab_type": "code",
        "colab": {}
      },
      "source": [
        "index_to_drop = [i for i, x in enumerate((df['is_na']>1).values) if x]\n",
        "df.drop(index_to_drop, inplace = True)"
      ],
      "execution_count": null,
      "outputs": []
    },
    {
      "cell_type": "code",
      "metadata": {
        "id": "wIyiY3i14dkk",
        "colab_type": "code",
        "colab": {
          "base_uri": "https://localhost:8080/",
          "height": 1000
        },
        "outputId": "2d7b2d1b-006c-4e14-be95-c54f04dc0b00"
      },
      "source": [
        "print('\\nColumns with null values in train dataframe:\\n', df.isnull().sum())\n",
        "print(\"-\"*30)\n",
        "print('\\nColumns with null values in test dataframe:\\n', df_test.isnull().sum())"
      ],
      "execution_count": null,
      "outputs": [
        {
          "output_type": "stream",
          "text": [
            "\n",
            "Columns with null values in train dataframe:\n",
            " review                          0\n",
            "rating                          0\n",
            "binary_target                   0\n",
            "user_id                         0\n",
            "business_id                     0\n",
            "useful_review                   0\n",
            "funny_review                    0\n",
            "cool_review                     0\n",
            "review_count_restaurant         0\n",
            "is_open                         0\n",
            "review_count_user               0\n",
            "yelping_since                   0\n",
            "useful_user                     0\n",
            "funny_user                      0\n",
            "cool_user                       0\n",
            "elite                      933459\n",
            "fans                            0\n",
            "average_stars                   0\n",
            "compliment_hot                  0\n",
            "compliment_more                 0\n",
            "compliment_profile              0\n",
            "compliment_cute                 0\n",
            "compliment_list                 0\n",
            "compliment_note                 0\n",
            "compliment_plain                0\n",
            "compliment_cool                 0\n",
            "compliment_funny                0\n",
            "compliment_photos               0\n",
            "is_na                           0\n",
            "dtype: int64\n",
            "------------------------------\n",
            "\n",
            "Columns with null values in test dataframe:\n",
            " review_id                     0\n",
            "review                        0\n",
            "user_id                       0\n",
            "business_id                   0\n",
            "useful_review                 0\n",
            "funny_review                  0\n",
            "cool_review                   0\n",
            "name_restaurant               0\n",
            "address                       0\n",
            "city                          0\n",
            "state                         0\n",
            "postal_code                   0\n",
            "latitude                      0\n",
            "longitude                     0\n",
            "review_count_restaurant       0\n",
            "is_open                       0\n",
            "name_user                     0\n",
            "review_count_user             0\n",
            "yelping_since                 0\n",
            "useful_user                   0\n",
            "funny_user                    0\n",
            "cool_user                     0\n",
            "elite                      6005\n",
            "fans                          0\n",
            "average_stars                 0\n",
            "compliment_hot                0\n",
            "compliment_more               0\n",
            "compliment_profile            0\n",
            "compliment_cute               0\n",
            "compliment_list               0\n",
            "compliment_note               0\n",
            "compliment_plain              0\n",
            "compliment_cool               0\n",
            "compliment_funny              0\n",
            "compliment_photos             0\n",
            "dtype: int64\n"
          ],
          "name": "stdout"
        }
      ]
    },
    {
      "cell_type": "markdown",
      "metadata": {
        "id": "aNu3vuIezvPg",
        "colab_type": "text"
      },
      "source": [
        "## 4.1 Create new features"
      ]
    },
    {
      "cell_type": "code",
      "metadata": {
        "id": "mHDHsDWBb251",
        "colab_type": "code",
        "colab": {}
      },
      "source": [
        "#create new elite\n",
        "df= df.assign(\n",
        "  elite = df.elite.apply(lambda x: len(x.split(','))  if type(x)==str  else  0 )\n",
        ")\n",
        "\n",
        "df_test= df_test.assign(\n",
        "  elite = df_test.elite.apply(lambda x: len(x.split(','))  if type(x)==str  else  0 )\n",
        ")"
      ],
      "execution_count": null,
      "outputs": []
    },
    {
      "cell_type": "code",
      "metadata": {
        "id": "DEOdrF8PcRgB",
        "colab_type": "code",
        "colab": {
          "base_uri": "https://localhost:8080/",
          "height": 50
        },
        "outputId": "3e9194e3-d410-40be-816d-16667db623a8"
      },
      "source": [
        "print(df['elite'].unique())\n",
        "print(df_test['elite'].unique())"
      ],
      "execution_count": null,
      "outputs": [
        {
          "output_type": "stream",
          "text": [
            "[ 8  0  3  2  7  1  5  4  9 10 12  6 11 13]\n",
            "[ 0 13  5  7  4  1  6  2  9 10  3  8 11 12]\n"
          ],
          "name": "stdout"
        }
      ]
    },
    {
      "cell_type": "code",
      "metadata": {
        "id": "-HRH0UqTfVGA",
        "colab_type": "code",
        "colab": {}
      },
      "source": [
        "from datetime import datetime\n",
        "\n",
        "def get_antiquity_years_from_date(date_str):\n",
        "  '''\n",
        "  ex of date_str format: '2010-08-26 22:09:14'\n",
        "  '''\n",
        "  current_datetime = datetime.now()\n",
        "  datetime_object = datetime.strptime(date_str, '%Y-%m-%d %H:%M:%S')\n",
        "\n",
        "  #deltatime given in format (days, seconds, miliseconds)\n",
        "  datetime_difference = current_datetime - datetime_object\n",
        "\n",
        "  days = datetime_difference.days\n",
        "  years = days/365\n",
        "  return years"
      ],
      "execution_count": null,
      "outputs": []
    },
    {
      "cell_type": "code",
      "metadata": {
        "id": "sw7LzCIWel5f",
        "colab_type": "code",
        "colab": {}
      },
      "source": [
        "#create new yelping_since\n",
        "df= df.assign(\n",
        "    yelping_since = df.yelping_since.apply(lambda x: get_antiquity_years_from_date(x) )\n",
        ")\n",
        "\n",
        "df_test= df_test.assign(\n",
        "    yelping_since = df_test.yelping_since.apply(lambda x: get_antiquity_years_from_date(x) )\n",
        ")"
      ],
      "execution_count": null,
      "outputs": []
    },
    {
      "cell_type": "code",
      "metadata": {
        "id": "MUQq7lks7Xao",
        "colab_type": "code",
        "colab": {}
      },
      "source": [
        "df.drop('is_na', axis = 1, inplace = True)"
      ],
      "execution_count": null,
      "outputs": []
    },
    {
      "cell_type": "code",
      "metadata": {
        "id": "ePbCXzAFzk2T",
        "colab_type": "code",
        "colab": {
          "base_uri": "https://localhost:8080/",
          "height": 1000
        },
        "outputId": "651d030e-b0c4-4511-b165-22a8f268d9f5"
      },
      "source": [
        "print('\\nColumns with null values in train dataframe:\\n', df.isnull().sum())\n",
        "print(\"-\"*30)\n",
        "print('\\nColumns with null values in test dataframe:\\n', df_test.isnull().sum())"
      ],
      "execution_count": null,
      "outputs": [
        {
          "output_type": "stream",
          "text": [
            "\n",
            "Columns with null values in train dataframe:\n",
            " review                     0\n",
            "rating                     0\n",
            "binary_target              0\n",
            "user_id                    0\n",
            "business_id                0\n",
            "useful_review              0\n",
            "funny_review               0\n",
            "cool_review                0\n",
            "review_count_restaurant    0\n",
            "is_open                    0\n",
            "review_count_user          0\n",
            "yelping_since              0\n",
            "useful_user                0\n",
            "funny_user                 0\n",
            "cool_user                  0\n",
            "elite                      0\n",
            "fans                       0\n",
            "average_stars              0\n",
            "compliment_hot             0\n",
            "compliment_more            0\n",
            "compliment_profile         0\n",
            "compliment_cute            0\n",
            "compliment_list            0\n",
            "compliment_note            0\n",
            "compliment_plain           0\n",
            "compliment_cool            0\n",
            "compliment_funny           0\n",
            "compliment_photos          0\n",
            "dtype: int64\n",
            "------------------------------\n",
            "\n",
            "Columns with null values in test dataframe:\n",
            " review_id                  0\n",
            "review                     0\n",
            "user_id                    0\n",
            "business_id                0\n",
            "useful_review              0\n",
            "funny_review               0\n",
            "cool_review                0\n",
            "name_restaurant            0\n",
            "address                    0\n",
            "city                       0\n",
            "state                      0\n",
            "postal_code                0\n",
            "latitude                   0\n",
            "longitude                  0\n",
            "review_count_restaurant    0\n",
            "is_open                    0\n",
            "name_user                  0\n",
            "review_count_user          0\n",
            "yelping_since              0\n",
            "useful_user                0\n",
            "funny_user                 0\n",
            "cool_user                  0\n",
            "elite                      0\n",
            "fans                       0\n",
            "average_stars              0\n",
            "compliment_hot             0\n",
            "compliment_more            0\n",
            "compliment_profile         0\n",
            "compliment_cute            0\n",
            "compliment_list            0\n",
            "compliment_note            0\n",
            "compliment_plain           0\n",
            "compliment_cool            0\n",
            "compliment_funny           0\n",
            "compliment_photos          0\n",
            "dtype: int64\n"
          ],
          "name": "stdout"
        }
      ]
    },
    {
      "cell_type": "markdown",
      "metadata": {
        "id": "4229Y4MON7qO",
        "colab_type": "text"
      },
      "source": [
        "# 3. Exploratory Analysis"
      ]
    },
    {
      "cell_type": "code",
      "metadata": {
        "id": "d6R_Ch6ST2MO",
        "colab_type": "code",
        "colab": {
          "base_uri": "https://localhost:8080/",
          "height": 328
        },
        "outputId": "7b6ed2be-eaa3-455a-8cd1-d39c3e464eb7"
      },
      "source": [
        "df.head(2)"
      ],
      "execution_count": null,
      "outputs": [
        {
          "output_type": "execute_result",
          "data": {
            "text/html": [
              "<div>\n",
              "<style scoped>\n",
              "    .dataframe tbody tr th:only-of-type {\n",
              "        vertical-align: middle;\n",
              "    }\n",
              "\n",
              "    .dataframe tbody tr th {\n",
              "        vertical-align: top;\n",
              "    }\n",
              "\n",
              "    .dataframe thead th {\n",
              "        text-align: right;\n",
              "    }\n",
              "</style>\n",
              "<table border=\"1\" class=\"dataframe\">\n",
              "  <thead>\n",
              "    <tr style=\"text-align: right;\">\n",
              "      <th></th>\n",
              "      <th>review</th>\n",
              "      <th>rating</th>\n",
              "      <th>binary_target</th>\n",
              "      <th>user_id</th>\n",
              "      <th>business_id</th>\n",
              "      <th>useful_review</th>\n",
              "      <th>funny_review</th>\n",
              "      <th>cool_review</th>\n",
              "      <th>review_count_restaurant</th>\n",
              "      <th>is_open</th>\n",
              "      <th>review_count_user</th>\n",
              "      <th>yelping_since</th>\n",
              "      <th>useful_user</th>\n",
              "      <th>funny_user</th>\n",
              "      <th>cool_user</th>\n",
              "      <th>elite</th>\n",
              "      <th>fans</th>\n",
              "      <th>average_stars</th>\n",
              "      <th>compliment_hot</th>\n",
              "      <th>compliment_more</th>\n",
              "      <th>compliment_profile</th>\n",
              "      <th>compliment_cute</th>\n",
              "      <th>compliment_list</th>\n",
              "      <th>compliment_note</th>\n",
              "      <th>compliment_plain</th>\n",
              "      <th>compliment_cool</th>\n",
              "      <th>compliment_funny</th>\n",
              "      <th>compliment_photos</th>\n",
              "    </tr>\n",
              "  </thead>\n",
              "  <tbody>\n",
              "    <tr>\n",
              "      <th>0</th>\n",
              "      <td>Like walking back in time, every Saturday morn...</td>\n",
              "      <td>4.0</td>\n",
              "      <td>1</td>\n",
              "      <td>FIk4lQQu1eTe2EpzQ4xhBA</td>\n",
              "      <td>8mIrX_LrOnAqWsB5JrOojQ</td>\n",
              "      <td>0.0</td>\n",
              "      <td>0.0</td>\n",
              "      <td>0.0</td>\n",
              "      <td>1258.0</td>\n",
              "      <td>1.0</td>\n",
              "      <td>866.0</td>\n",
              "      <td>9.586301</td>\n",
              "      <td>1635.0</td>\n",
              "      <td>314.0</td>\n",
              "      <td>726.0</td>\n",
              "      <td>8</td>\n",
              "      <td>63.0</td>\n",
              "      <td>4.16</td>\n",
              "      <td>18.0</td>\n",
              "      <td>10.0</td>\n",
              "      <td>3.0</td>\n",
              "      <td>2.0</td>\n",
              "      <td>2.0</td>\n",
              "      <td>29.0</td>\n",
              "      <td>26.0</td>\n",
              "      <td>53.0</td>\n",
              "      <td>53.0</td>\n",
              "      <td>15.0</td>\n",
              "    </tr>\n",
              "    <tr>\n",
              "      <th>1</th>\n",
              "      <td>The food is always good and the prices are rea...</td>\n",
              "      <td>4.0</td>\n",
              "      <td>1</td>\n",
              "      <td>3CJUJILq7CLHk_9OrvpvQg</td>\n",
              "      <td>I4Nr-MVc26qWr08-S3Q1ow</td>\n",
              "      <td>0.0</td>\n",
              "      <td>0.0</td>\n",
              "      <td>0.0</td>\n",
              "      <td>333.0</td>\n",
              "      <td>1.0</td>\n",
              "      <td>54.0</td>\n",
              "      <td>6.005479</td>\n",
              "      <td>27.0</td>\n",
              "      <td>2.0</td>\n",
              "      <td>4.0</td>\n",
              "      <td>0</td>\n",
              "      <td>0.0</td>\n",
              "      <td>3.05</td>\n",
              "      <td>0.0</td>\n",
              "      <td>0.0</td>\n",
              "      <td>0.0</td>\n",
              "      <td>0.0</td>\n",
              "      <td>0.0</td>\n",
              "      <td>0.0</td>\n",
              "      <td>1.0</td>\n",
              "      <td>0.0</td>\n",
              "      <td>0.0</td>\n",
              "      <td>0.0</td>\n",
              "    </tr>\n",
              "  </tbody>\n",
              "</table>\n",
              "</div>"
            ],
            "text/plain": [
              "                                              review  ...  compliment_photos\n",
              "0  Like walking back in time, every Saturday morn...  ...               15.0\n",
              "1  The food is always good and the prices are rea...  ...                0.0\n",
              "\n",
              "[2 rows x 28 columns]"
            ]
          },
          "metadata": {
            "tags": []
          },
          "execution_count": 24
        }
      ]
    },
    {
      "cell_type": "code",
      "metadata": {
        "id": "COFWUa_kN67F",
        "colab_type": "code",
        "colab": {}
      },
      "source": [
        "df.describe()"
      ],
      "execution_count": null,
      "outputs": []
    },
    {
      "cell_type": "code",
      "metadata": {
        "id": "I-u3btSBRgH4",
        "colab_type": "code",
        "colab": {
          "base_uri": "https://localhost:8080/",
          "height": 261
        },
        "outputId": "ef8d36a2-ac43-4b8b-e1eb-6f63c18421cc"
      },
      "source": [
        "df_test.head(2)"
      ],
      "execution_count": null,
      "outputs": [
        {
          "output_type": "execute_result",
          "data": {
            "text/html": [
              "<div>\n",
              "<style scoped>\n",
              "    .dataframe tbody tr th:only-of-type {\n",
              "        vertical-align: middle;\n",
              "    }\n",
              "\n",
              "    .dataframe tbody tr th {\n",
              "        vertical-align: top;\n",
              "    }\n",
              "\n",
              "    .dataframe thead th {\n",
              "        text-align: right;\n",
              "    }\n",
              "</style>\n",
              "<table border=\"1\" class=\"dataframe\">\n",
              "  <thead>\n",
              "    <tr style=\"text-align: right;\">\n",
              "      <th></th>\n",
              "      <th>review_id</th>\n",
              "      <th>review</th>\n",
              "      <th>user_id</th>\n",
              "      <th>business_id</th>\n",
              "      <th>useful_review</th>\n",
              "      <th>funny_review</th>\n",
              "      <th>cool_review</th>\n",
              "      <th>name_restaurant</th>\n",
              "      <th>address</th>\n",
              "      <th>city</th>\n",
              "      <th>state</th>\n",
              "      <th>postal_code</th>\n",
              "      <th>latitude</th>\n",
              "      <th>longitude</th>\n",
              "      <th>review_count_restaurant</th>\n",
              "      <th>is_open</th>\n",
              "      <th>name_user</th>\n",
              "      <th>review_count_user</th>\n",
              "      <th>yelping_since</th>\n",
              "      <th>useful_user</th>\n",
              "      <th>funny_user</th>\n",
              "      <th>cool_user</th>\n",
              "      <th>elite</th>\n",
              "      <th>fans</th>\n",
              "      <th>average_stars</th>\n",
              "      <th>compliment_hot</th>\n",
              "      <th>compliment_more</th>\n",
              "      <th>compliment_profile</th>\n",
              "      <th>compliment_cute</th>\n",
              "      <th>compliment_list</th>\n",
              "      <th>compliment_note</th>\n",
              "      <th>compliment_plain</th>\n",
              "      <th>compliment_cool</th>\n",
              "      <th>compliment_funny</th>\n",
              "      <th>compliment_photos</th>\n",
              "    </tr>\n",
              "  </thead>\n",
              "  <tbody>\n",
              "    <tr>\n",
              "      <th>0</th>\n",
              "      <td>1234157</td>\n",
              "      <td>Hard to beat this location for table side ente...</td>\n",
              "      <td>x5NpvWNS1cF_4bINIBPGzQ</td>\n",
              "      <td>4JNXUYY8wbaaDmk3BPzlWw</td>\n",
              "      <td>0</td>\n",
              "      <td>0</td>\n",
              "      <td>0</td>\n",
              "      <td>Mon Ami Gabi</td>\n",
              "      <td>3655 Las Vegas Blvd S</td>\n",
              "      <td>Las Vegas</td>\n",
              "      <td>NV</td>\n",
              "      <td>89109</td>\n",
              "      <td>36.112859</td>\n",
              "      <td>-115.172434</td>\n",
              "      <td>8348</td>\n",
              "      <td>1</td>\n",
              "      <td>Sharon</td>\n",
              "      <td>69</td>\n",
              "      <td>5.057534</td>\n",
              "      <td>22</td>\n",
              "      <td>10</td>\n",
              "      <td>15</td>\n",
              "      <td>0</td>\n",
              "      <td>1</td>\n",
              "      <td>4.47</td>\n",
              "      <td>1</td>\n",
              "      <td>0</td>\n",
              "      <td>0</td>\n",
              "      <td>0</td>\n",
              "      <td>0</td>\n",
              "      <td>0</td>\n",
              "      <td>0</td>\n",
              "      <td>0</td>\n",
              "      <td>0</td>\n",
              "      <td>0</td>\n",
              "    </tr>\n",
              "    <tr>\n",
              "      <th>1</th>\n",
              "      <td>1234158</td>\n",
              "      <td>Sometimes, all a girl needs is a great steak.\\...</td>\n",
              "      <td>m5cBT7OYfn0HM0d-RCsdZQ</td>\n",
              "      <td>4JNXUYY8wbaaDmk3BPzlWw</td>\n",
              "      <td>7</td>\n",
              "      <td>6</td>\n",
              "      <td>5</td>\n",
              "      <td>Mon Ami Gabi</td>\n",
              "      <td>3655 Las Vegas Blvd S</td>\n",
              "      <td>Las Vegas</td>\n",
              "      <td>NV</td>\n",
              "      <td>89109</td>\n",
              "      <td>36.112859</td>\n",
              "      <td>-115.172434</td>\n",
              "      <td>8348</td>\n",
              "      <td>1</td>\n",
              "      <td>Miika</td>\n",
              "      <td>1707</td>\n",
              "      <td>13.706849</td>\n",
              "      <td>9059</td>\n",
              "      <td>6281</td>\n",
              "      <td>7867</td>\n",
              "      <td>13</td>\n",
              "      <td>412</td>\n",
              "      <td>3.90</td>\n",
              "      <td>1649</td>\n",
              "      <td>167</td>\n",
              "      <td>95</td>\n",
              "      <td>139</td>\n",
              "      <td>36</td>\n",
              "      <td>473</td>\n",
              "      <td>906</td>\n",
              "      <td>1542</td>\n",
              "      <td>1542</td>\n",
              "      <td>422</td>\n",
              "    </tr>\n",
              "  </tbody>\n",
              "</table>\n",
              "</div>"
            ],
            "text/plain": [
              "   review_id  ... compliment_photos\n",
              "0    1234157  ...                 0\n",
              "1    1234158  ...               422\n",
              "\n",
              "[2 rows x 35 columns]"
            ]
          },
          "metadata": {
            "tags": []
          },
          "execution_count": 25
        }
      ]
    },
    {
      "cell_type": "code",
      "metadata": {
        "id": "Z9cxmN5jOEiI",
        "colab_type": "code",
        "colab": {}
      },
      "source": [
        "df_test.describe()"
      ],
      "execution_count": null,
      "outputs": []
    },
    {
      "cell_type": "code",
      "metadata": {
        "id": "hKlf2q8rtASQ",
        "colab_type": "code",
        "colab": {
          "base_uri": "https://localhost:8080/",
          "height": 34
        },
        "outputId": "37fb9ace-145d-43f3-8778-a5add4dce89f"
      },
      "source": [
        "df_test.shape"
      ],
      "execution_count": null,
      "outputs": [
        {
          "output_type": "execute_result",
          "data": {
            "text/plain": [
              "(8570, 35)"
            ]
          },
          "metadata": {
            "tags": []
          },
          "execution_count": 200
        }
      ]
    },
    {
      "cell_type": "code",
      "metadata": {
        "id": "BY7fGKXAEAM7",
        "colab_type": "code",
        "colab": {
          "base_uri": "https://localhost:8080/",
          "height": 34
        },
        "outputId": "0366b451-5c39-46be-c16d-29da11e2bedb"
      },
      "source": [
        "df.shape"
      ],
      "execution_count": null,
      "outputs": [
        {
          "output_type": "execute_result",
          "data": {
            "text/plain": [
              "(1234155, 38)"
            ]
          },
          "metadata": {
            "tags": []
          },
          "execution_count": 298
        }
      ]
    },
    {
      "cell_type": "markdown",
      "metadata": {
        "id": "qEcFkOxeT5GF",
        "colab_type": "text"
      },
      "source": [
        "### Let's study our consumer database"
      ]
    },
    {
      "cell_type": "code",
      "metadata": {
        "id": "xc5lqvE6Thti",
        "colab_type": "code",
        "colab": {
          "base_uri": "https://localhost:8080/",
          "height": 34
        },
        "outputId": "5c2d7cfb-3ea8-4e90-b1d3-61b5c8e28cf3"
      },
      "source": [
        "clients_restau = set(df_test.user_id.values) #we have all our clientele\n",
        "print(\"Number of our clients: {}\".format(len(clients_restau))) #so we find that there are clients who went twice or more \n",
        "#[(221) visits to account for]"
      ],
      "execution_count": null,
      "outputs": [
        {
          "output_type": "stream",
          "text": [
            "Number of our clients: 8349\n"
          ],
          "name": "stdout"
        }
      ]
    },
    {
      "cell_type": "code",
      "metadata": {
        "id": "1f5LLeiO2f9k",
        "colab_type": "code",
        "colab": {
          "base_uri": "https://localhost:8080/",
          "height": 298
        },
        "outputId": "2b6a970e-7fb7-486e-c77a-4d1cea5266c2"
      },
      "source": [
        "#lets see who are the clients who visited at least twice\n",
        "df_test.groupby('user_id')[['review']].count().plot()"
      ],
      "execution_count": null,
      "outputs": [
        {
          "output_type": "execute_result",
          "data": {
            "text/plain": [
              "<matplotlib.axes._subplots.AxesSubplot at 0x7f19e77b06d8>"
            ]
          },
          "metadata": {
            "tags": []
          },
          "execution_count": 28
        },
        {
          "output_type": "display_data",
          "data": {
            "image/png": "[encoded data removed]",
            "text/plain": [
              "<Figure size 432x288 with 1 Axes>"
            ]
          },
          "metadata": {
            "tags": []
          }
        }
      ]
    },
    {
      "cell_type": "code",
      "metadata": {
        "id": "3IFWj5NqG7Sp",
        "colab_type": "code",
        "colab": {
          "base_uri": "https://localhost:8080/",
          "height": 166
        },
        "outputId": "e17d4851-1db3-4000-e787-5926c13a09ae"
      },
      "source": [
        "freq_clients = df_test.groupby('user_id')[['review']].count()\n",
        "freq_clients = freq_clients[freq_clients.review>2] #\n",
        "freq_clients.sort_values('review', ascending=False).head(3) #we have some interesting clients who came 4 times or more"
      ],
      "execution_count": null,
      "outputs": [
        {
          "output_type": "execute_result",
          "data": {
            "text/html": [
              "<div>\n",
              "<style scoped>\n",
              "    .dataframe tbody tr th:only-of-type {\n",
              "        vertical-align: middle;\n",
              "    }\n",
              "\n",
              "    .dataframe tbody tr th {\n",
              "        vertical-align: top;\n",
              "    }\n",
              "\n",
              "    .dataframe thead th {\n",
              "        text-align: right;\n",
              "    }\n",
              "</style>\n",
              "<table border=\"1\" class=\"dataframe\">\n",
              "  <thead>\n",
              "    <tr style=\"text-align: right;\">\n",
              "      <th></th>\n",
              "      <th>review</th>\n",
              "    </tr>\n",
              "    <tr>\n",
              "      <th>user_id</th>\n",
              "      <th></th>\n",
              "    </tr>\n",
              "  </thead>\n",
              "  <tbody>\n",
              "    <tr>\n",
              "      <th>F_5_UNX-wrAFCXuAkBZRDw</th>\n",
              "      <td>11</td>\n",
              "    </tr>\n",
              "    <tr>\n",
              "      <th>-h3OxE2YbWzFXVkBhYtJTw</th>\n",
              "      <td>4</td>\n",
              "    </tr>\n",
              "    <tr>\n",
              "      <th>7xQ5DkRxO4DfG59H1Xbw-g</th>\n",
              "      <td>4</td>\n",
              "    </tr>\n",
              "  </tbody>\n",
              "</table>\n",
              "</div>"
            ],
            "text/plain": [
              "                        review\n",
              "user_id                       \n",
              "F_5_UNX-wrAFCXuAkBZRDw      11\n",
              "-h3OxE2YbWzFXVkBhYtJTw       4\n",
              "7xQ5DkRxO4DfG59H1Xbw-g       4"
            ]
          },
          "metadata": {
            "tags": []
          },
          "execution_count": 201
        }
      ]
    },
    {
      "cell_type": "code",
      "metadata": {
        "id": "kdv1_1bQm3is",
        "colab_type": "code",
        "colab": {
          "base_uri": "https://localhost:8080/",
          "height": 54
        },
        "outputId": "e0d19a78-556d-45d0-8f27-84335f67db05"
      },
      "source": [
        "freq_clients.index[0]\n",
        "df_test[df_test['user_id'] == freq_clients.index[0]].review.values[0] #most frequent visitor review's example"
      ],
      "execution_count": null,
      "outputs": [
        {
          "output_type": "execute_result",
          "data": {
            "text/plain": [
              "\"Another Vegas trip, another visit to Mon Ami Gabi.  It's probably not surprising if you've read my past reviews that a visit to MAG is always on my must-list.  And once again like my last trip, I visited them twice.  Once for a late mid-week lunch, and then for Saturday brunch.\\\\n\\\\nThis was actually my first time eating at MAG for lunch.  It's actually a different atmosphere compared to Breakfast and Dinner.  In fact, I think it was the most mellowest.  Then again it was a late lunch at around 2pm.  So a good tip would be if you want try MAG for lunch and not have to wait a long time for a table on the patio, go for a late lunch.  I ordered the Seafood Crepe which I've actually have had my sights on for a long time because the pics on yelp looked amazing!\\\\n\\\\nSeafood Crepe with Scallops, Shrimp, Peas & Cream\\\\n(http://www.yelp.com/biz_photos/4JNXUYY8wbaaDmk3BPzlWw?select=r7_bvU2OpBURSOyT8rle9A)\\\\nThis was so delicious!  Huge pieces of Shrimp and Scallops to go with the Crepe.  I'm a big eater, but this surprisingly filled me up.  And that's such a good thing!\\\\n\\\\nOnce again, my last meal in before leaving Vegas was breakfast at MAG.  And being it National Burger Month and I've yet to try it, I ordered their Cheeseburger with Gruyere, Bacon, and Fried Egg.  It's the breakfast of champions!\\\\n\\\\nCheeseburger with Fried Egg, Bacon, and Frites\\\\n(http://www.yelp.com/biz_photos/4JNXUYY8wbaaDmk3BPzlWw?select=h4ePDPYrL1bml0z4aMcdqw)\\\\nHere's a closeup of the Burger (http://www.yelp.com/biz_photos/4JNXUYY8wbaaDmk3BPzlWw?select=h4ePDPYrL1bml0z4aMcdqw#0i7Mnft4JKYgaZW10jsjVg)\\\\nThe Burger was cooked a perfect medium rare and of course paired with their flat handcut Frites made for a very satisfying breakfast!\\\\n\\\\nI love how consistent their food and service has always been for me.  And the surprising part is how I've never had ordered the same thing twice here, yet everything I've had has been spot on!\""
            ]
          },
          "metadata": {
            "tags": []
          },
          "execution_count": 197
        }
      ]
    },
    {
      "cell_type": "code",
      "metadata": {
        "id": "KMO_KKVumHKF",
        "colab_type": "code",
        "colab": {
          "base_uri": "https://localhost:8080/",
          "height": 34
        },
        "outputId": "0d14011d-f980-4337-9d57-1111ffacbabf"
      },
      "source": [
        "print(\"Number of frequent clients:{}\".format(len(freq_clients)))"
      ],
      "execution_count": null,
      "outputs": [
        {
          "output_type": "stream",
          "text": [
            "Number of frequent clients:15\n"
          ],
          "name": "stdout"
        }
      ]
    },
    {
      "cell_type": "code",
      "metadata": {
        "id": "SbFo4uysJpkw",
        "colab_type": "code",
        "colab": {
          "base_uri": "https://localhost:8080/",
          "height": 34
        },
        "outputId": "7ef87428-fd90-44a8-8e9c-1d681b4144cd"
      },
      "source": [
        "print(\"There are {} clients who we might consider frequent ones\".format(freq_clients.size))"
      ],
      "execution_count": null,
      "outputs": [
        {
          "output_type": "stream",
          "text": [
            "There are 15 clients who we might consider frequent ones\n"
          ],
          "name": "stdout"
        }
      ]
    },
    {
      "cell_type": "markdown",
      "metadata": {
        "id": "HdCXMO_KUboJ",
        "colab_type": "text"
      },
      "source": [
        "Since we don't have the ratings for our restaurant, it might be interesting to see who they have enjoyed LA : ). "
      ]
    },
    {
      "cell_type": "markdown",
      "metadata": {
        "id": "hw90s_-JTcxe",
        "colab_type": "text"
      },
      "source": [
        "### Let's go back  a little bit to analysing LA\n"
      ]
    },
    {
      "cell_type": "code",
      "metadata": {
        "id": "5fgoITtAWgtE",
        "colab_type": "code",
        "colab": {
          "base_uri": "https://localhost:8080/",
          "height": 34
        },
        "outputId": "82df110e-e8e5-49d6-cab6-b6e4f2f13105"
      },
      "source": [
        "all_clients = set(df.user_id.values)\n",
        "print(\"Number of clients in LA: {}\".format(len(all_clients))) #distinct clients in LA for the period of time considered"
      ],
      "execution_count": null,
      "outputs": [
        {
          "output_type": "stream",
          "text": [
            "Number of clients in LA: 437211\n"
          ],
          "name": "stdout"
        }
      ]
    },
    {
      "cell_type": "markdown",
      "metadata": {
        "id": "y1KV9pzGTtg_",
        "colab_type": "text"
      },
      "source": [
        "#### Take a look first at those who came to our restaurant"
      ]
    },
    {
      "cell_type": "code",
      "metadata": {
        "id": "aLPzR1BQmW9J",
        "colab_type": "code",
        "colab": {}
      },
      "source": [
        "df_aux = df[df.user_id.isin(clients_restau)] #let's look specifically for those who have come to our restaurant at least once"
      ],
      "execution_count": null,
      "outputs": []
    },
    {
      "cell_type": "code",
      "metadata": {
        "id": "5IME_5T3hg2D",
        "colab_type": "code",
        "colab": {
          "base_uri": "https://localhost:8080/",
          "height": 34
        },
        "outputId": "d47e3d4c-dbf9-457c-865e-56a62ce572ce"
      },
      "source": [
        " print(\"Our clients have made {} visits to other restaurants\".format(df_aux.shape[0])) #so we find 84840 visits (!!!) that our clients made to other restaurants"
      ],
      "execution_count": null,
      "outputs": [
        {
          "output_type": "stream",
          "text": [
            "Our clients have made 84840 visits to other restaurants\n"
          ],
          "name": "stdout"
        }
      ]
    },
    {
      "cell_type": "code",
      "metadata": {
        "id": "4e2eoXuDQHDS",
        "colab_type": "code",
        "colab": {
          "base_uri": "https://localhost:8080/",
          "height": 34
        },
        "outputId": "43b32325-b31c-411f-fba9-82650c829c05"
      },
      "source": [
        "print(\"These visits we performed by {} clients\".format(len(df_aux.groupby('user_id').size())))"
      ],
      "execution_count": null,
      "outputs": [
        {
          "output_type": "stream",
          "text": [
            "These visits we performed by 6397 clients\n"
          ],
          "name": "stdout"
        }
      ]
    },
    {
      "cell_type": "code",
      "metadata": {
        "id": "sKtwu02jWdBQ",
        "colab_type": "code",
        "colab": {
          "base_uri": "https://localhost:8080/",
          "height": 168
        },
        "outputId": "c7d6bb2e-8160-41b6-df99-c0515319f41a"
      },
      "source": [
        "df_aux.rating.describe() #50% of the experience the clients had in this were at least 4/5"
      ],
      "execution_count": null,
      "outputs": [
        {
          "output_type": "execute_result",
          "data": {
            "text/plain": [
              "count    84840.000000\n",
              "mean         3.786304\n",
              "std          1.100013\n",
              "min          1.000000\n",
              "25%          3.000000\n",
              "50%          4.000000\n",
              "75%          5.000000\n",
              "max          5.000000\n",
              "Name: rating, dtype: float64"
            ]
          },
          "metadata": {
            "tags": []
          },
          "execution_count": 119
        }
      ]
    },
    {
      "cell_type": "code",
      "metadata": {
        "id": "Ubg4eSJ7qlSW",
        "colab_type": "code",
        "colab": {
          "base_uri": "https://localhost:8080/",
          "height": 298
        },
        "outputId": "3b235a39-6598-4750-97d8-8144d60aeea8"
      },
      "source": [
        "df_aux.groupby('user_id')[['review']].count().plot() #some of our clients are really active (they have writen several reviews), perhaps we should cross their importance ???"
      ],
      "execution_count": null,
      "outputs": [
        {
          "output_type": "execute_result",
          "data": {
            "text/plain": [
              "<matplotlib.axes._subplots.AxesSubplot at 0x7f991cfad0b8>"
            ]
          },
          "metadata": {
            "tags": []
          },
          "execution_count": 350
        },
        {
          "output_type": "display_data",
          "data": {
            "image/png": "[encoded data removed]",
            "text/plain": [
              "<Figure size 432x288 with 1 Axes>"
            ]
          },
          "metadata": {
            "tags": []
          }
        }
      ]
    },
    {
      "cell_type": "code",
      "metadata": {
        "id": "VK6jdqwKKwVL",
        "colab_type": "code",
        "colab": {
          "base_uri": "https://localhost:8080/",
          "height": 195
        },
        "outputId": "7351e2a7-7778-490b-aa3d-5bcd603ea63a"
      },
      "source": [
        "clients_of_interest = df_aux.groupby('user_id')[['review']].count()\n",
        "clients_of_interest = clients_of_interest[clients_of_interest.review>100]\n",
        "clients_of_interest.sort_values('review', ascending=False).head(4) #those who go frequently to restaurants (and have also tried our own)"
      ],
      "execution_count": null,
      "outputs": [
        {
          "output_type": "execute_result",
          "data": {
            "text/html": [
              "<div>\n",
              "<style scoped>\n",
              "    .dataframe tbody tr th:only-of-type {\n",
              "        vertical-align: middle;\n",
              "    }\n",
              "\n",
              "    .dataframe tbody tr th {\n",
              "        vertical-align: top;\n",
              "    }\n",
              "\n",
              "    .dataframe thead th {\n",
              "        text-align: right;\n",
              "    }\n",
              "</style>\n",
              "<table border=\"1\" class=\"dataframe\">\n",
              "  <thead>\n",
              "    <tr style=\"text-align: right;\">\n",
              "      <th></th>\n",
              "      <th>review</th>\n",
              "    </tr>\n",
              "    <tr>\n",
              "      <th>user_id</th>\n",
              "      <th></th>\n",
              "    </tr>\n",
              "  </thead>\n",
              "  <tbody>\n",
              "    <tr>\n",
              "      <th>bLbSNkLggFnqwNNzzq-Ijw</th>\n",
              "      <td>1381</td>\n",
              "    </tr>\n",
              "    <tr>\n",
              "      <th>PKEzKWv_FktMm2mGPjwd0Q</th>\n",
              "      <td>974</td>\n",
              "    </tr>\n",
              "    <tr>\n",
              "      <th>U4INQZOPSUaj8hMjLlZ3KA</th>\n",
              "      <td>781</td>\n",
              "    </tr>\n",
              "    <tr>\n",
              "      <th>UYcmGbelzRa0Q6JqzLoguw</th>\n",
              "      <td>715</td>\n",
              "    </tr>\n",
              "  </tbody>\n",
              "</table>\n",
              "</div>"
            ],
            "text/plain": [
              "                        review\n",
              "user_id                       \n",
              "bLbSNkLggFnqwNNzzq-Ijw    1381\n",
              "PKEzKWv_FktMm2mGPjwd0Q     974\n",
              "U4INQZOPSUaj8hMjLlZ3KA     781\n",
              "UYcmGbelzRa0Q6JqzLoguw     715"
            ]
          },
          "metadata": {
            "tags": []
          },
          "execution_count": 208
        }
      ]
    },
    {
      "cell_type": "code",
      "metadata": {
        "id": "xfP0UpGeLdJw",
        "colab_type": "code",
        "colab": {
          "base_uri": "https://localhost:8080/",
          "height": 34
        },
        "outputId": "b972138e-d3d3-415b-8af7-b3cdfef65e3f"
      },
      "source": [
        "print(\"Clients of interest: {}\".format(clients_of_interest.size)) #remember all these visits don't take into account the ones they had with us"
      ],
      "execution_count": null,
      "outputs": [
        {
          "output_type": "stream",
          "text": [
            "Clients of interest: 137\n"
          ],
          "name": "stdout"
        }
      ]
    },
    {
      "cell_type": "markdown",
      "metadata": {
        "id": "rDV9_jiFVmuk",
        "colab_type": "text"
      },
      "source": [
        "##### One close look at the average rating these two groups give might serve us as benchmark for our own later"
      ]
    },
    {
      "cell_type": "code",
      "metadata": {
        "id": "PrUUpiU1VQLl",
        "colab_type": "code",
        "colab": {
          "base_uri": "https://localhost:8080/",
          "height": 168
        },
        "outputId": "962d6d4c-7010-4881-fe33-a2a00473ad4a"
      },
      "source": [
        "df_aux[df_aux.user_id.isin(clients_of_interest.index)].rating.describe() #confronting with the stat from previously, these client play a major role in the overall evaluation \n",
        "#they concentrate a lot of power over the means and std\n",
        "#they find LA restaurants to be up to thei tastes given an average 3.78/5 to the ones they have been to. \n",
        "#Althought the std deviation is kind high, showing they have some taste and are not \"easily amused\""
      ],
      "execution_count": null,
      "outputs": [
        {
          "output_type": "execute_result",
          "data": {
            "text/plain": [
              "count    67820.000000\n",
              "mean         3.780212\n",
              "std          1.075607\n",
              "min          1.000000\n",
              "25%          3.000000\n",
              "50%          4.000000\n",
              "75%          5.000000\n",
              "max          5.000000\n",
              "Name: rating, dtype: float64"
            ]
          },
          "metadata": {
            "tags": []
          },
          "execution_count": 120
        }
      ]
    },
    {
      "cell_type": "code",
      "metadata": {
        "id": "lu02md8JYhG9",
        "colab_type": "code",
        "colab": {
          "base_uri": "https://localhost:8080/",
          "height": 50
        },
        "outputId": "ddb698fb-9df1-474f-a6a3-012d835873c5"
      },
      "source": [
        "df_hic = df_aux[df_aux.user_id.isin(clients_of_interest.index)]\n",
        "np.corrcoef(df_hic.groupby('user_id')[['rating']].mean().rating.values,df_hic.groupby('user_id')[['rating']].count().rating.values) \n",
        "#apparently no interenting correlation between those whoe go out more frequently and the rating they give"
      ],
      "execution_count": null,
      "outputs": [
        {
          "output_type": "execute_result",
          "data": {
            "text/plain": [
              "array([[ 1.        , -0.02240656],\n",
              "       [-0.02240656,  1.        ]])"
            ]
          },
          "metadata": {
            "tags": []
          },
          "execution_count": 136
        }
      ]
    },
    {
      "cell_type": "code",
      "metadata": {
        "id": "nyiWf2cNaW4D",
        "colab_type": "code",
        "colab": {
          "base_uri": "https://localhost:8080/",
          "height": 185
        },
        "outputId": "3992e5a9-0e8d-46ba-8c70-42c25f2eb21b"
      },
      "source": [
        "#we can look as well how much their review has influenced other people.\n",
        "print(\"{} other clients influenced by this group\".format(int(df_hic.useful_review.sum())))\n",
        "df_hic.useful_review.describe() #few of the are really of great importance, having influence over people"
      ],
      "execution_count": null,
      "outputs": [
        {
          "output_type": "stream",
          "text": [
            "241430 other clients influenced by this group\n"
          ],
          "name": "stdout"
        },
        {
          "output_type": "execute_result",
          "data": {
            "text/plain": [
              "count    67820.000000\n",
              "mean         3.559864\n",
              "std          5.877412\n",
              "min          0.000000\n",
              "25%          0.000000\n",
              "50%          2.000000\n",
              "75%          4.000000\n",
              "max        107.000000\n",
              "Name: useful_review, dtype: float64"
            ]
          },
          "metadata": {
            "tags": []
          },
          "execution_count": 144
        }
      ]
    },
    {
      "cell_type": "code",
      "metadata": {
        "id": "DYsp6DzNbxUI",
        "colab_type": "code",
        "colab": {
          "base_uri": "https://localhost:8080/",
          "height": 168
        },
        "outputId": "d49bf25d-c718-4dec-a356-0bbe80bd95e9"
      },
      "source": [
        "#let's see the most important reviews here\n",
        "df_hic[df_hic.useful_review>4].rating.describe() #they are very active when coming to reviewing restaurants but are not necessarily more exigent"
      ],
      "execution_count": null,
      "outputs": [
        {
          "output_type": "execute_result",
          "data": {
            "text/plain": [
              "count    16110.000000\n",
              "mean         3.756238\n",
              "std          1.073029\n",
              "min          1.000000\n",
              "25%          3.000000\n",
              "50%          4.000000\n",
              "75%          5.000000\n",
              "max          5.000000\n",
              "Name: rating, dtype: float64"
            ]
          },
          "metadata": {
            "tags": []
          },
          "execution_count": 149
        }
      ]
    },
    {
      "cell_type": "code",
      "metadata": {
        "id": "TvbCBSPDxPx3",
        "colab_type": "code",
        "colab": {
          "base_uri": "https://localhost:8080/",
          "height": 185
        },
        "outputId": "4ce3a2e1-d977-472e-d2c0-22c4d7671c49"
      },
      "source": [
        "#we can look as well how much they influence other people.\n",
        "print(\"{} other clients influenced by this group\".format(int(df_hic.useful_user.sum())))\n",
        "df_hic.useful_user.describe() #few of the are really of great importance, having influence over people"
      ],
      "execution_count": null,
      "outputs": [
        {
          "output_type": "stream",
          "text": [
            "276184769 other clients influenced by this group\n"
          ],
          "name": "stdout"
        },
        {
          "output_type": "execute_result",
          "data": {
            "text/plain": [
              "count    67820.000000\n",
              "mean      4072.320392\n",
              "std       8502.722151\n",
              "min          0.000000\n",
              "25%        190.000000\n",
              "50%        920.000000\n",
              "75%       3404.000000\n",
              "max      89792.000000\n",
              "Name: useful_user, dtype: float64"
            ]
          },
          "metadata": {
            "tags": []
          },
          "execution_count": 204
        }
      ]
    },
    {
      "cell_type": "code",
      "metadata": {
        "id": "twrvBqYEyhay",
        "colab_type": "code",
        "colab": {
          "base_uri": "https://localhost:8080/",
          "height": 168
        },
        "outputId": "a75e72aa-7f4d-4d61-bcd0-85740806cba7"
      },
      "source": [
        "#let's see who are the \"influencers\" here\n",
        "df_hic[df_hic.useful_user>3500].rating.describe() #they are very active when coming to reviewing restaurants but are not necessarily more exigent"
      ],
      "execution_count": null,
      "outputs": [
        {
          "output_type": "execute_result",
          "data": {
            "text/plain": [
              "count    16471.000000\n",
              "mean         3.736689\n",
              "std          0.954745\n",
              "min          1.000000\n",
              "25%          3.000000\n",
              "50%          4.000000\n",
              "75%          4.000000\n",
              "max          5.000000\n",
              "Name: rating, dtype: float64"
            ]
          },
          "metadata": {
            "tags": []
          },
          "execution_count": 205
        }
      ]
    },
    {
      "cell_type": "code",
      "metadata": {
        "id": "xhNQiTLpcJ-m",
        "colab_type": "code",
        "colab": {
          "base_uri": "https://localhost:8080/",
          "height": 34
        },
        "outputId": "99ba0f19-fbab-4817-bddd-530ceeef3759"
      },
      "source": [
        "influencers = df_hic[df_hic.useful_user>3500].user_id\n",
        "print(\"{} Influencers in LA\".format(len(set(influencers)))) #and they have already been to our restaurant!!"
      ],
      "execution_count": null,
      "outputs": [
        {
          "output_type": "stream",
          "text": [
            "153 Influencers in LA\n"
          ],
          "name": "stdout"
        }
      ]
    },
    {
      "cell_type": "markdown",
      "metadata": {
        "id": "5bshXiEeflru",
        "colab_type": "text"
      },
      "source": [
        "### Moving on to the concunrrence: \n",
        "now we will look to business instead of customers"
      ]
    },
    {
      "cell_type": "code",
      "metadata": {
        "id": "lggQidLAtlFQ",
        "colab_type": "code",
        "colab": {
          "base_uri": "https://localhost:8080/",
          "height": 298
        },
        "outputId": "3d67505d-49e4-4a77-a93b-cfbdf2bd421c"
      },
      "source": [
        "#lets take a look if we have competitors\n",
        "df_aux.groupby('business_id')[['user_id']].count().plot() ##some restaurants have really gained the attention of our clientele (several spikes)"
      ],
      "execution_count": null,
      "outputs": [
        {
          "output_type": "execute_result",
          "data": {
            "text/plain": [
              "<matplotlib.axes._subplots.AxesSubplot at 0x7f99245e6dd8>"
            ]
          },
          "metadata": {
            "tags": []
          },
          "execution_count": 345
        },
        {
          "output_type": "display_data",
          "data": {
            "image/png": "[encoded data removed]",
            "text/plain": [
              "<Figure size 432x288 with 1 Axes>"
            ]
          },
          "metadata": {
            "tags": []
          }
        }
      ]
    },
    {
      "cell_type": "code",
      "metadata": {
        "id": "WhzeifSOFra6",
        "colab_type": "code",
        "colab": {
          "base_uri": "https://localhost:8080/",
          "height": 34
        },
        "outputId": "c9de70cc-c90a-4a81-f134-501d75cf06ad"
      },
      "source": [
        "concurrents = set(df_aux.business_id.values)\n",
        "len(concurrents) #quiet a lot actually, seems like our clientele tries to several different places"
      ],
      "execution_count": null,
      "outputs": [
        {
          "output_type": "execute_result",
          "data": {
            "text/plain": [
              "5020"
            ]
          },
          "metadata": {
            "tags": []
          },
          "execution_count": 151
        }
      ]
    },
    {
      "cell_type": "code",
      "metadata": {
        "id": "Clg4rsixhZoH",
        "colab_type": "code",
        "colab": {
          "base_uri": "https://localhost:8080/",
          "height": 431
        },
        "outputId": "213dd59c-263a-425b-f351-cc95669dd458"
      },
      "source": [
        "df_concurrents = df_aux.groupby('business_id')\n",
        "df_concurrents.rating.describe()"
      ],
      "execution_count": null,
      "outputs": [
        {
          "output_type": "execute_result",
          "data": {
            "text/html": [
              "<div>\n",
              "<style scoped>\n",
              "    .dataframe tbody tr th:only-of-type {\n",
              "        vertical-align: middle;\n",
              "    }\n",
              "\n",
              "    .dataframe tbody tr th {\n",
              "        vertical-align: top;\n",
              "    }\n",
              "\n",
              "    .dataframe thead th {\n",
              "        text-align: right;\n",
              "    }\n",
              "</style>\n",
              "<table border=\"1\" class=\"dataframe\">\n",
              "  <thead>\n",
              "    <tr style=\"text-align: right;\">\n",
              "      <th></th>\n",
              "      <th>count</th>\n",
              "      <th>mean</th>\n",
              "      <th>std</th>\n",
              "      <th>min</th>\n",
              "      <th>25%</th>\n",
              "      <th>50%</th>\n",
              "      <th>75%</th>\n",
              "      <th>max</th>\n",
              "    </tr>\n",
              "    <tr>\n",
              "      <th>business_id</th>\n",
              "      <th></th>\n",
              "      <th></th>\n",
              "      <th></th>\n",
              "      <th></th>\n",
              "      <th></th>\n",
              "      <th></th>\n",
              "      <th></th>\n",
              "      <th></th>\n",
              "    </tr>\n",
              "  </thead>\n",
              "  <tbody>\n",
              "    <tr>\n",
              "      <th>--9e1ONYQuAa-CB_Rrw7Tw</th>\n",
              "      <td>143.0</td>\n",
              "      <td>4.195804</td>\n",
              "      <td>0.966034</td>\n",
              "      <td>1.0</td>\n",
              "      <td>4.00</td>\n",
              "      <td>4.0</td>\n",
              "      <td>5.00</td>\n",
              "      <td>5.0</td>\n",
              "    </tr>\n",
              "    <tr>\n",
              "      <th>--q7kSBRb0vWC8lSkXFByA</th>\n",
              "      <td>1.0</td>\n",
              "      <td>4.000000</td>\n",
              "      <td>NaN</td>\n",
              "      <td>4.0</td>\n",
              "      <td>4.00</td>\n",
              "      <td>4.0</td>\n",
              "      <td>4.00</td>\n",
              "      <td>4.0</td>\n",
              "    </tr>\n",
              "    <tr>\n",
              "      <th>-0BxAGlIk5DJAGVkpqBXxg</th>\n",
              "      <td>4.0</td>\n",
              "      <td>3.750000</td>\n",
              "      <td>1.500000</td>\n",
              "      <td>2.0</td>\n",
              "      <td>2.75</td>\n",
              "      <td>4.0</td>\n",
              "      <td>5.00</td>\n",
              "      <td>5.0</td>\n",
              "    </tr>\n",
              "    <tr>\n",
              "      <th>-0RkJ_uIduNLWQrphbADRw</th>\n",
              "      <td>8.0</td>\n",
              "      <td>3.375000</td>\n",
              "      <td>1.407886</td>\n",
              "      <td>1.0</td>\n",
              "      <td>2.75</td>\n",
              "      <td>3.5</td>\n",
              "      <td>4.25</td>\n",
              "      <td>5.0</td>\n",
              "    </tr>\n",
              "    <tr>\n",
              "      <th>-1m9o3vGRA8IBPNvNqKLmA</th>\n",
              "      <td>17.0</td>\n",
              "      <td>4.235294</td>\n",
              "      <td>0.903425</td>\n",
              "      <td>2.0</td>\n",
              "      <td>4.00</td>\n",
              "      <td>4.0</td>\n",
              "      <td>5.00</td>\n",
              "      <td>5.0</td>\n",
              "    </tr>\n",
              "    <tr>\n",
              "      <th>...</th>\n",
              "      <td>...</td>\n",
              "      <td>...</td>\n",
              "      <td>...</td>\n",
              "      <td>...</td>\n",
              "      <td>...</td>\n",
              "      <td>...</td>\n",
              "      <td>...</td>\n",
              "      <td>...</td>\n",
              "    </tr>\n",
              "    <tr>\n",
              "      <th>zwNC-Ow4eIMan2__bS9-rg</th>\n",
              "      <td>42.0</td>\n",
              "      <td>3.976190</td>\n",
              "      <td>1.070402</td>\n",
              "      <td>1.0</td>\n",
              "      <td>4.00</td>\n",
              "      <td>4.0</td>\n",
              "      <td>5.00</td>\n",
              "      <td>5.0</td>\n",
              "    </tr>\n",
              "    <tr>\n",
              "      <th>zwddv6HjTjDx9fOr3MFtwQ</th>\n",
              "      <td>6.0</td>\n",
              "      <td>2.333333</td>\n",
              "      <td>1.366260</td>\n",
              "      <td>1.0</td>\n",
              "      <td>1.25</td>\n",
              "      <td>2.0</td>\n",
              "      <td>3.50</td>\n",
              "      <td>4.0</td>\n",
              "    </tr>\n",
              "    <tr>\n",
              "      <th>zwmKWhyyV-zejEUbQzBtHw</th>\n",
              "      <td>3.0</td>\n",
              "      <td>4.000000</td>\n",
              "      <td>0.000000</td>\n",
              "      <td>4.0</td>\n",
              "      <td>4.00</td>\n",
              "      <td>4.0</td>\n",
              "      <td>4.00</td>\n",
              "      <td>4.0</td>\n",
              "    </tr>\n",
              "    <tr>\n",
              "      <th>zx_j6OuuHHa2afVoAZuLpA</th>\n",
              "      <td>3.0</td>\n",
              "      <td>3.000000</td>\n",
              "      <td>1.000000</td>\n",
              "      <td>2.0</td>\n",
              "      <td>2.50</td>\n",
              "      <td>3.0</td>\n",
              "      <td>3.50</td>\n",
              "      <td>4.0</td>\n",
              "    </tr>\n",
              "    <tr>\n",
              "      <th>zzzaIBwimxVej4tY6qFOUQ</th>\n",
              "      <td>5.0</td>\n",
              "      <td>3.200000</td>\n",
              "      <td>1.303840</td>\n",
              "      <td>2.0</td>\n",
              "      <td>2.00</td>\n",
              "      <td>3.0</td>\n",
              "      <td>4.00</td>\n",
              "      <td>5.0</td>\n",
              "    </tr>\n",
              "  </tbody>\n",
              "</table>\n",
              "<p>5020 rows × 8 columns</p>\n",
              "</div>"
            ],
            "text/plain": [
              "                        count      mean       std  min   25%  50%   75%  max\n",
              "business_id                                                                 \n",
              "--9e1ONYQuAa-CB_Rrw7Tw  143.0  4.195804  0.966034  1.0  4.00  4.0  5.00  5.0\n",
              "--q7kSBRb0vWC8lSkXFByA    1.0  4.000000       NaN  4.0  4.00  4.0  4.00  4.0\n",
              "-0BxAGlIk5DJAGVkpqBXxg    4.0  3.750000  1.500000  2.0  2.75  4.0  5.00  5.0\n",
              "-0RkJ_uIduNLWQrphbADRw    8.0  3.375000  1.407886  1.0  2.75  3.5  4.25  5.0\n",
              "-1m9o3vGRA8IBPNvNqKLmA   17.0  4.235294  0.903425  2.0  4.00  4.0  5.00  5.0\n",
              "...                       ...       ...       ...  ...   ...  ...   ...  ...\n",
              "zwNC-Ow4eIMan2__bS9-rg   42.0  3.976190  1.070402  1.0  4.00  4.0  5.00  5.0\n",
              "zwddv6HjTjDx9fOr3MFtwQ    6.0  2.333333  1.366260  1.0  1.25  2.0  3.50  4.0\n",
              "zwmKWhyyV-zejEUbQzBtHw    3.0  4.000000  0.000000  4.0  4.00  4.0  4.00  4.0\n",
              "zx_j6OuuHHa2afVoAZuLpA    3.0  3.000000  1.000000  2.0  2.50  3.0  3.50  4.0\n",
              "zzzaIBwimxVej4tY6qFOUQ    5.0  3.200000  1.303840  2.0  2.00  3.0  4.00  5.0\n",
              "\n",
              "[5020 rows x 8 columns]"
            ]
          },
          "metadata": {
            "tags": []
          },
          "execution_count": 156
        }
      ]
    },
    {
      "cell_type": "code",
      "metadata": {
        "id": "gniA1OhiiU7t",
        "colab_type": "code",
        "colab": {
          "base_uri": "https://localhost:8080/",
          "height": 373
        },
        "outputId": "8f88b1e9-559a-4093-9a25-3ca037afe581"
      },
      "source": [
        "df_concurrents.count().sort_values('review', ascending = False)[['review']].head(10) #10 most visited, (perhaps learn with them?)"
      ],
      "execution_count": null,
      "outputs": [
        {
          "output_type": "execute_result",
          "data": {
            "text/html": [
              "<div>\n",
              "<style scoped>\n",
              "    .dataframe tbody tr th:only-of-type {\n",
              "        vertical-align: middle;\n",
              "    }\n",
              "\n",
              "    .dataframe tbody tr th {\n",
              "        vertical-align: top;\n",
              "    }\n",
              "\n",
              "    .dataframe thead th {\n",
              "        text-align: right;\n",
              "    }\n",
              "</style>\n",
              "<table border=\"1\" class=\"dataframe\">\n",
              "  <thead>\n",
              "    <tr style=\"text-align: right;\">\n",
              "      <th></th>\n",
              "      <th>review</th>\n",
              "    </tr>\n",
              "    <tr>\n",
              "      <th>business_id</th>\n",
              "      <th></th>\n",
              "    </tr>\n",
              "  </thead>\n",
              "  <tbody>\n",
              "    <tr>\n",
              "      <th>K7lWdNUhCbcnEvI0NhGewg</th>\n",
              "      <td>657</td>\n",
              "    </tr>\n",
              "    <tr>\n",
              "      <th>DkYS3arLOhA8si5uUEmHOw</th>\n",
              "      <td>624</td>\n",
              "    </tr>\n",
              "    <tr>\n",
              "      <th>RESDUcs7fIiihp38-d6_6g</th>\n",
              "      <td>614</td>\n",
              "    </tr>\n",
              "    <tr>\n",
              "      <th>rcaPajgKOJC2vo_l3xa42A</th>\n",
              "      <td>557</td>\n",
              "    </tr>\n",
              "    <tr>\n",
              "      <th>iCQpiavjjPzJ5_3gPD5Ebg</th>\n",
              "      <td>472</td>\n",
              "    </tr>\n",
              "    <tr>\n",
              "      <th>cYwJA2A6I12KNkm2rtXd5g</th>\n",
              "      <td>461</td>\n",
              "    </tr>\n",
              "    <tr>\n",
              "      <th>eoHdUeQDNgQ6WYEnP2aiRw</th>\n",
              "      <td>435</td>\n",
              "    </tr>\n",
              "    <tr>\n",
              "      <th>f4x1YBxkLrZg652xt2KR5g</th>\n",
              "      <td>406</td>\n",
              "    </tr>\n",
              "    <tr>\n",
              "      <th>P7pxQFqr7yBKMMI2J51udw</th>\n",
              "      <td>387</td>\n",
              "    </tr>\n",
              "    <tr>\n",
              "      <th>5LNZ67Yw9RD6nf4_UhXOjw</th>\n",
              "      <td>378</td>\n",
              "    </tr>\n",
              "  </tbody>\n",
              "</table>\n",
              "</div>"
            ],
            "text/plain": [
              "                        review\n",
              "business_id                   \n",
              "K7lWdNUhCbcnEvI0NhGewg     657\n",
              "DkYS3arLOhA8si5uUEmHOw     624\n",
              "RESDUcs7fIiihp38-d6_6g     614\n",
              "rcaPajgKOJC2vo_l3xa42A     557\n",
              "iCQpiavjjPzJ5_3gPD5Ebg     472\n",
              "cYwJA2A6I12KNkm2rtXd5g     461\n",
              "eoHdUeQDNgQ6WYEnP2aiRw     435\n",
              "f4x1YBxkLrZg652xt2KR5g     406\n",
              "P7pxQFqr7yBKMMI2J51udw     387\n",
              "5LNZ67Yw9RD6nf4_UhXOjw     378"
            ]
          },
          "metadata": {
            "tags": []
          },
          "execution_count": 177
        }
      ]
    },
    {
      "cell_type": "code",
      "metadata": {
        "id": "-FwV-jLx_DFz",
        "colab_type": "code",
        "colab": {
          "base_uri": "https://localhost:8080/",
          "height": 50
        },
        "outputId": "ccc66bc5-6efe-420b-e03a-0a15ec9e3aeb"
      },
      "source": [
        "df_concurrents[['review']].count()[df_concurrents[['review']].count().review>387].sum() #they answer for visits"
      ],
      "execution_count": null,
      "outputs": [
        {
          "output_type": "execute_result",
          "data": {
            "text/plain": [
              "review    4226\n",
              "dtype: int64"
            ]
          },
          "metadata": {
            "tags": []
          },
          "execution_count": 291
        }
      ]
    },
    {
      "cell_type": "code",
      "metadata": {
        "id": "-QYtW8fG1crR",
        "colab_type": "code",
        "colab": {
          "base_uri": "https://localhost:8080/",
          "height": 34
        },
        "outputId": "9814552d-e1d0-4605-d81a-dab75c7a2fef"
      },
      "source": [
        "# clients_of_interest = df_aux.groupby('user_id')[['review']].count()\n",
        "# clients_of_interest = clients_of_interest[clients_of_interest.review>100]\n",
        "concurrence=df_concurrents[['review']].count()[df_concurrents[['review']].count().review>387].index\n",
        "len(concurrence)"
      ],
      "execution_count": null,
      "outputs": [
        {
          "output_type": "execute_result",
          "data": {
            "text/plain": [
              "8"
            ]
          },
          "metadata": {
            "tags": []
          },
          "execution_count": 270
        }
      ]
    },
    {
      "cell_type": "code",
      "metadata": {
        "id": "s_pCb8rXszHA",
        "colab_type": "code",
        "colab": {
          "base_uri": "https://localhost:8080/",
          "height": 314
        },
        "outputId": "0138a278-c9a0-452e-921f-c20bcc2db7ec"
      },
      "source": [
        "df[df.business_id.isin(concurrence)].groupby('name_restaurant')[['rating']].mean()"
      ],
      "execution_count": null,
      "outputs": [
        {
          "output_type": "execute_result",
          "data": {
            "text/html": [
              "<div>\n",
              "<style scoped>\n",
              "    .dataframe tbody tr th:only-of-type {\n",
              "        vertical-align: middle;\n",
              "    }\n",
              "\n",
              "    .dataframe tbody tr th {\n",
              "        vertical-align: top;\n",
              "    }\n",
              "\n",
              "    .dataframe thead th {\n",
              "        text-align: right;\n",
              "    }\n",
              "</style>\n",
              "<table border=\"1\" class=\"dataframe\">\n",
              "  <thead>\n",
              "    <tr style=\"text-align: right;\">\n",
              "      <th></th>\n",
              "      <th>rating</th>\n",
              "    </tr>\n",
              "    <tr>\n",
              "      <th>name_restaurant</th>\n",
              "      <th></th>\n",
              "    </tr>\n",
              "  </thead>\n",
              "  <tbody>\n",
              "    <tr>\n",
              "      <th>Bacchanal Buffet</th>\n",
              "      <td>3.776261</td>\n",
              "    </tr>\n",
              "    <tr>\n",
              "      <th>Bouchon</th>\n",
              "      <td>4.012207</td>\n",
              "    </tr>\n",
              "    <tr>\n",
              "      <th>Earl of Sandwich</th>\n",
              "      <td>4.278717</td>\n",
              "    </tr>\n",
              "    <tr>\n",
              "      <th>Gordon Ramsay BurGR</th>\n",
              "      <td>3.894709</td>\n",
              "    </tr>\n",
              "    <tr>\n",
              "      <th>Hash House A Go Go</th>\n",
              "      <td>3.919446</td>\n",
              "    </tr>\n",
              "    <tr>\n",
              "      <th>Secret Pizza</th>\n",
              "      <td>4.142266</td>\n",
              "    </tr>\n",
              "    <tr>\n",
              "      <th>Serendipity 3</th>\n",
              "      <td>3.067898</td>\n",
              "    </tr>\n",
              "    <tr>\n",
              "      <th>Wicked Spoon</th>\n",
              "      <td>3.691593</td>\n",
              "    </tr>\n",
              "  </tbody>\n",
              "</table>\n",
              "</div>"
            ],
            "text/plain": [
              "                       rating\n",
              "name_restaurant              \n",
              "Bacchanal Buffet     3.776261\n",
              "Bouchon              4.012207\n",
              "Earl of Sandwich     4.278717\n",
              "Gordon Ramsay BurGR  3.894709\n",
              "Hash House A Go Go   3.919446\n",
              "Secret Pizza         4.142266\n",
              "Serendipity 3        3.067898\n",
              "Wicked Spoon         3.691593"
            ]
          },
          "metadata": {
            "tags": []
          },
          "execution_count": 284
        }
      ]
    },
    {
      "cell_type": "markdown",
      "metadata": {
        "id": "2WnNOGaR_wHU",
        "colab_type": "text"
      },
      "source": [
        "###### should we be careful with the intersections?! If our recommendations are group oriented, then we shoudn't have to worry."
      ]
    },
    {
      "cell_type": "markdown",
      "metadata": {
        "id": "R7zAiM_V80MQ",
        "colab_type": "text"
      },
      "source": [
        "### Make sure we forget no one! Let's go back and analyse in vegas the clients we never had :) "
      ]
    },
    {
      "cell_type": "code",
      "metadata": {
        "id": "tu6aDjTX-T5f",
        "colab_type": "code",
        "colab": {
          "base_uri": "https://localhost:8080/",
          "height": 362
        },
        "outputId": "6f9ee907-7975-4faf-8053-f73d9bad3876"
      },
      "source": [
        "df_not_client = df[~df.user_id.isin(clients_restau)]\n",
        "df_not_client.head(2)"
      ],
      "execution_count": null,
      "outputs": [
        {
          "output_type": "execute_result",
          "data": {
            "text/html": [
              "<div>\n",
              "<style scoped>\n",
              "    .dataframe tbody tr th:only-of-type {\n",
              "        vertical-align: middle;\n",
              "    }\n",
              "\n",
              "    .dataframe tbody tr th {\n",
              "        vertical-align: top;\n",
              "    }\n",
              "\n",
              "    .dataframe thead th {\n",
              "        text-align: right;\n",
              "    }\n",
              "</style>\n",
              "<table border=\"1\" class=\"dataframe\">\n",
              "  <thead>\n",
              "    <tr style=\"text-align: right;\">\n",
              "      <th></th>\n",
              "      <th>review_id</th>\n",
              "      <th>review</th>\n",
              "      <th>rating</th>\n",
              "      <th>binary_target</th>\n",
              "      <th>user_id</th>\n",
              "      <th>business_id</th>\n",
              "      <th>useful_review</th>\n",
              "      <th>funny_review</th>\n",
              "      <th>cool_review</th>\n",
              "      <th>name_restaurant</th>\n",
              "      <th>address</th>\n",
              "      <th>city</th>\n",
              "      <th>state</th>\n",
              "      <th>postal_code</th>\n",
              "      <th>latitude</th>\n",
              "      <th>longitude</th>\n",
              "      <th>review_count_restaurant</th>\n",
              "      <th>is_open</th>\n",
              "      <th>name_user</th>\n",
              "      <th>review_count_user</th>\n",
              "      <th>yelping_since</th>\n",
              "      <th>useful_user</th>\n",
              "      <th>funny_user</th>\n",
              "      <th>cool_user</th>\n",
              "      <th>elite</th>\n",
              "      <th>fans</th>\n",
              "      <th>average_stars</th>\n",
              "      <th>compliment_hot</th>\n",
              "      <th>compliment_more</th>\n",
              "      <th>compliment_profile</th>\n",
              "      <th>compliment_cute</th>\n",
              "      <th>compliment_list</th>\n",
              "      <th>compliment_note</th>\n",
              "      <th>compliment_plain</th>\n",
              "      <th>compliment_cool</th>\n",
              "      <th>compliment_funny</th>\n",
              "      <th>compliment_photos</th>\n",
              "      <th>is_na</th>\n",
              "    </tr>\n",
              "  </thead>\n",
              "  <tbody>\n",
              "    <tr>\n",
              "      <th>1</th>\n",
              "      <td>2</td>\n",
              "      <td>The food is always good and the prices are rea...</td>\n",
              "      <td>4.0</td>\n",
              "      <td>1</td>\n",
              "      <td>3CJUJILq7CLHk_9OrvpvQg</td>\n",
              "      <td>I4Nr-MVc26qWr08-S3Q1ow</td>\n",
              "      <td>0.0</td>\n",
              "      <td>0.0</td>\n",
              "      <td>0.0</td>\n",
              "      <td>Greenberg's Deli</td>\n",
              "      <td>3790 Las Vegas Blvd S</td>\n",
              "      <td>Las Vegas</td>\n",
              "      <td>NV</td>\n",
              "      <td>89136.0</td>\n",
              "      <td>36.102379</td>\n",
              "      <td>-115.174547</td>\n",
              "      <td>333.0</td>\n",
              "      <td>1.0</td>\n",
              "      <td>Ralph</td>\n",
              "      <td>54.0</td>\n",
              "      <td>2014-03-26 00:29:39</td>\n",
              "      <td>27.0</td>\n",
              "      <td>2.0</td>\n",
              "      <td>4.0</td>\n",
              "      <td>NaN</td>\n",
              "      <td>0.0</td>\n",
              "      <td>3.05</td>\n",
              "      <td>0.0</td>\n",
              "      <td>0.0</td>\n",
              "      <td>0.0</td>\n",
              "      <td>0.0</td>\n",
              "      <td>0.0</td>\n",
              "      <td>0.0</td>\n",
              "      <td>1.0</td>\n",
              "      <td>0.0</td>\n",
              "      <td>0.0</td>\n",
              "      <td>0.0</td>\n",
              "      <td>1</td>\n",
              "    </tr>\n",
              "    <tr>\n",
              "      <th>2</th>\n",
              "      <td>3</td>\n",
              "      <td>Pick any meat on the planet and the chef will ...</td>\n",
              "      <td>5.0</td>\n",
              "      <td>1</td>\n",
              "      <td>2mxBNBeFrgDszqGS5tdEHA</td>\n",
              "      <td>d_L-rfS1vT3JMzgCUGtiow</td>\n",
              "      <td>0.0</td>\n",
              "      <td>0.0</td>\n",
              "      <td>0.0</td>\n",
              "      <td>Border Grill</td>\n",
              "      <td>3950 S Las Vegas Blvd</td>\n",
              "      <td>Las Vegas</td>\n",
              "      <td>NV</td>\n",
              "      <td>89119.0</td>\n",
              "      <td>36.090067</td>\n",
              "      <td>-115.176973</td>\n",
              "      <td>1623.0</td>\n",
              "      <td>1.0</td>\n",
              "      <td>Nareh</td>\n",
              "      <td>24.0</td>\n",
              "      <td>2013-09-06 16:55:36</td>\n",
              "      <td>14.0</td>\n",
              "      <td>4.0</td>\n",
              "      <td>6.0</td>\n",
              "      <td>NaN</td>\n",
              "      <td>0.0</td>\n",
              "      <td>4.68</td>\n",
              "      <td>0.0</td>\n",
              "      <td>0.0</td>\n",
              "      <td>0.0</td>\n",
              "      <td>0.0</td>\n",
              "      <td>0.0</td>\n",
              "      <td>0.0</td>\n",
              "      <td>1.0</td>\n",
              "      <td>0.0</td>\n",
              "      <td>0.0</td>\n",
              "      <td>0.0</td>\n",
              "      <td>1</td>\n",
              "    </tr>\n",
              "  </tbody>\n",
              "</table>\n",
              "</div>"
            ],
            "text/plain": [
              "   review_id  ... is_na\n",
              "1          2  ...     1\n",
              "2          3  ...     1\n",
              "\n",
              "[2 rows x 38 columns]"
            ]
          },
          "metadata": {
            "tags": []
          },
          "execution_count": 297
        }
      ]
    },
    {
      "cell_type": "markdown",
      "metadata": {
        "id": "ivOFFfdwF6eA",
        "colab_type": "text"
      },
      "source": [
        "#### Those who visited restaurants that are near us might bring up some relevant informations about our nearby rivals and are probably potential clients"
      ]
    },
    {
      "cell_type": "code",
      "metadata": {
        "id": "AlrAe0haIICh",
        "colab_type": "code",
        "colab": {
          "base_uri": "https://localhost:8080/",
          "height": 101
        },
        "outputId": "c415f744-5ad7-4c39-a27f-d4d36bd1249b"
      },
      "source": [
        "#Initialize DataFrame\n",
        "\n",
        "#New point Reno 39.53,-119.81\n",
        "newlat=df_test.latitude.values[0]\n",
        "newlon=df_test.longitude.values[0]\n",
        "\n",
        "#Import trig stuff from math\n",
        "from math import sin, cos, sqrt, atan2,radians\n",
        "\n",
        "#Distance function between two lat/lon\n",
        "def getDist(lat1,lon1,lat2,lon2):\n",
        "  R = 6373.0\n",
        "\n",
        "  lat1 = radians(lat1)\n",
        "  lon1 = radians(lon1)\n",
        "  lat2 = radians(lat2)\n",
        "  lon2 = radians(lon2)\n",
        "\n",
        "  dlon = lon2 - lon1\n",
        "  dlat = lat2 - lat1\n",
        "\n",
        "  a = sin(dlat / 2)**2 + cos(lat1) * cos(lat2) * sin(dlon / 2)**2\n",
        "  c = 2 * atan2(sqrt(a), sqrt(1 - a))\n",
        "\n",
        "  return R * c\n",
        "\n",
        "#Apply distance function to dataframe\n",
        "df_not_client['dist']=list(map(lambda k: getDist(df_not_client.loc[k]['latitude'],df.loc[k]['longitude'],newlat,newlon), df_not_client.index))\n",
        "\n",
        "#This will give all locations within radius of 600 km\n",
        "df_nc_near = df_not_client[df_not_client['dist']<600]"
      ],
      "execution_count": null,
      "outputs": [
        {
          "output_type": "stream",
          "text": [
            "/usr/local/lib/python3.6/dist-packages/ipykernel_launcher.py:25: SettingWithCopyWarning: \n",
            "A value is trying to be set on a copy of a slice from a DataFrame.\n",
            "Try using .loc[row_indexer,col_indexer] = value instead\n",
            "\n",
            "See the caveats in the documentation: http://pandas.pydata.org/pandas-docs/stable/user_guide/indexing.html#returning-a-view-versus-a-copy\n"
          ],
          "name": "stderr"
        }
      ]
    },
    {
      "cell_type": "markdown",
      "metadata": {
        "id": "e52NSpHYGIyR",
        "colab_type": "text"
      },
      "source": [
        "#### Those who visited restaurants far away might not be so relevant in an initial approach"
      ]
    },
    {
      "cell_type": "markdown",
      "metadata": {
        "id": "CWXfsWi-B3-S",
        "colab_type": "text"
      },
      "source": [
        "# 2. Data Split"
      ]
    },
    {
      "cell_type": "code",
      "metadata": {
        "id": "6j6teIiEB3-T",
        "colab_type": "code",
        "colab": {}
      },
      "source": [
        "df_train, df_val = train_test_split(\n",
        "    df, \n",
        "    test_size=0.2, \n",
        "    random_state=0, \n",
        "    stratify=df['binary_target']\n",
        ")"
      ],
      "execution_count": null,
      "outputs": []
    },
    {
      "cell_type": "markdown",
      "metadata": {
        "id": "QkQRg3ViB3-Z",
        "colab_type": "text"
      },
      "source": [
        "# 3. Cleaning"
      ]
    },
    {
      "cell_type": "code",
      "metadata": {
        "id": "ZfsrYF6-CCOs",
        "colab_type": "code",
        "colab": {
          "base_uri": "https://localhost:8080/",
          "height": 840
        },
        "outputId": "52634b8e-e7c8-45ee-d4be-7dbf0cdf0d71"
      },
      "source": [
        "import nltk\n",
        "nltk.download(\"popular\")"
      ],
      "execution_count": null,
      "outputs": [
        {
          "output_type": "stream",
          "text": [
            "[nltk_data] Downloading collection 'popular'\n",
            "[nltk_data]    | \n",
            "[nltk_data]    | Downloading package cmudict to /root/nltk_data...\n",
            "[nltk_data]    |   Package cmudict is already up-to-date!\n",
            "[nltk_data]    | Downloading package gazetteers to /root/nltk_data...\n",
            "[nltk_data]    |   Package gazetteers is already up-to-date!\n",
            "[nltk_data]    | Downloading package genesis to /root/nltk_data...\n",
            "[nltk_data]    |   Package genesis is already up-to-date!\n",
            "[nltk_data]    | Downloading package gutenberg to /root/nltk_data...\n",
            "[nltk_data]    |   Package gutenberg is already up-to-date!\n",
            "[nltk_data]    | Downloading package inaugural to /root/nltk_data...\n",
            "[nltk_data]    |   Package inaugural is already up-to-date!\n",
            "[nltk_data]    | Downloading package movie_reviews to\n",
            "[nltk_data]    |     /root/nltk_data...\n",
            "[nltk_data]    |   Package movie_reviews is already up-to-date!\n",
            "[nltk_data]    | Downloading package names to /root/nltk_data...\n",
            "[nltk_data]    |   Package names is already up-to-date!\n",
            "[nltk_data]    | Downloading package shakespeare to /root/nltk_data...\n",
            "[nltk_data]    |   Package shakespeare is already up-to-date!\n",
            "[nltk_data]    | Downloading package stopwords to /root/nltk_data...\n",
            "[nltk_data]    |   Package stopwords is already up-to-date!\n",
            "[nltk_data]    | Downloading package treebank to /root/nltk_data...\n",
            "[nltk_data]    |   Package treebank is already up-to-date!\n",
            "[nltk_data]    | Downloading package twitter_samples to\n",
            "[nltk_data]    |     /root/nltk_data...\n",
            "[nltk_data]    |   Package twitter_samples is already up-to-date!\n",
            "[nltk_data]    | Downloading package omw to /root/nltk_data...\n",
            "[nltk_data]    |   Package omw is already up-to-date!\n",
            "[nltk_data]    | Downloading package wordnet to /root/nltk_data...\n",
            "[nltk_data]    |   Package wordnet is already up-to-date!\n",
            "[nltk_data]    | Downloading package wordnet_ic to /root/nltk_data...\n",
            "[nltk_data]    |   Package wordnet_ic is already up-to-date!\n",
            "[nltk_data]    | Downloading package words to /root/nltk_data...\n",
            "[nltk_data]    |   Package words is already up-to-date!\n",
            "[nltk_data]    | Downloading package maxent_ne_chunker to\n",
            "[nltk_data]    |     /root/nltk_data...\n",
            "[nltk_data]    |   Package maxent_ne_chunker is already up-to-date!\n",
            "[nltk_data]    | Downloading package punkt to /root/nltk_data...\n",
            "[nltk_data]    |   Package punkt is already up-to-date!\n",
            "[nltk_data]    | Downloading package snowball_data to\n",
            "[nltk_data]    |     /root/nltk_data...\n",
            "[nltk_data]    |   Package snowball_data is already up-to-date!\n",
            "[nltk_data]    | Downloading package averaged_perceptron_tagger to\n",
            "[nltk_data]    |     /root/nltk_data...\n",
            "[nltk_data]    |   Package averaged_perceptron_tagger is already up-\n",
            "[nltk_data]    |       to-date!\n",
            "[nltk_data]    | \n",
            "[nltk_data]  Done downloading collection popular\n"
          ],
          "name": "stdout"
        },
        {
          "output_type": "execute_result",
          "data": {
            "text/plain": [
              "True"
            ]
          },
          "metadata": {
            "tags": []
          },
          "execution_count": 20
        }
      ]
    },
    {
      "cell_type": "code",
      "metadata": {
        "id": "zIhc2USUCXbs",
        "colab_type": "code",
        "colab": {}
      },
      "source": [
        "from string import punctuation\n",
        "\n",
        "from nltk.corpus import stopwords\n",
        "\n",
        "from nltk.tokenize import RegexpTokenizer\n",
        "from nltk import wordpunct_tokenize\n",
        "\n",
        "from nltk.stem import WordNetLemmatizer\n",
        "from nltk.stem.porter import PorterStemmer\n",
        "\n",
        "stopw = set(stopwords.words('english'))\n",
        "\n",
        "# Lowercase\n",
        "def convert_text_to_lowercase(df, colname):\n",
        "    df[colname] = df[colname].str.lower()\n",
        "    return df\n",
        "    \n",
        "# Remove punctuation\n",
        "def remove_punctuation(df,colname):\n",
        "\n",
        "    def without_punctuation(text):\n",
        "      return ''.join([c for c in text if c not in punctuation])\n",
        "\n",
        "    df[colname] = df[colname].apply(lambda review: without_punctuation(review))\n",
        "    return df\n",
        "\n",
        "# Tokenize\n",
        "def tokenize(df,colname):\n",
        "\n",
        "    tokenizer = RegexpTokenizer(r'\\w+')\n",
        "    df[colname] = df[colname].apply(lambda review: tokenizer.tokenize(review))\n",
        "    return df\n",
        "\n",
        "# Remove stopwords - low predictive power\n",
        "def remove_stopwords(df, colname):\n",
        "\n",
        "    def without_stopwords(token):\n",
        "      return [w for w in token if w not in stopw]\n",
        "\n",
        "    df[colname] = df[colname].apply(lambda review: without_stopwords(review))\n",
        "    return df\n",
        "\n",
        "# Remove 1-character words\n",
        "def remove_1char_words(df, colname):\n",
        "  \n",
        "    def without_1char_words(token):\n",
        "      # return [w for w in token if len(w)>1]\n",
        "      return ' '.join([w for w in token if len(w)>1])\n",
        "\n",
        "    df[colname] = df[colname].apply(lambda review: without_1char_words(review))\n",
        "    return df\n",
        "\n",
        "# Remove non-alpha\n",
        "def remove_non_alpha_words(df, colname):\n",
        "  \n",
        "    def without_non_alpha_words(text):\n",
        "      return ' '.join([w for w in text.split() if w.isalpha()])\n",
        "\n",
        "    df[colname] = df[colname].apply(lambda review: without_non_alpha_words(review))\n",
        "    return df\n",
        "\n",
        "# Lemmatizing\n",
        "def lemmatize(df,colname):\n",
        "\n",
        "    lemmatizer = WordNetLemmatizer()\n",
        "\n",
        "    def word_lemmatizer(text):\n",
        "      return ' '.join([lemmatizer.lemmatize(w) for w in text.split()])\n",
        "\n",
        "    df[colname] = df[colname].apply(lambda review: word_lemmatizer(review))\n",
        "    return df\n",
        "\n",
        "# OR Stemming\n",
        "def stem(df,colname):\n",
        "\n",
        "    stemmer = PorterStemmer()\n",
        "\n",
        "    def word_stemmer(text):\n",
        "      return ' '.join([stemmer.stem(w) for w in text.split()])\n",
        "\n",
        "    df[colname] = df[colname].apply(lambda review: word_stemmer(review))\n",
        "    return df\n",
        "\n",
        "\n",
        "def text_cleaning(df, colname):\n",
        "    \"\"\"\n",
        "    Takes in a string of text, then performs the following:\n",
        "    1. convert text to lowercase\n",
        "    2. ??\n",
        "    \"\"\"\n",
        "    df = (\n",
        "        df.pipe(convert_text_to_lowercase, colname)\n",
        "        .pipe(remove_punctuation, colname)\n",
        "        .pipe(tokenize, colname)\n",
        "        .pipe(remove_stopwords, colname)\n",
        "        .pipe(remove_1char_words, colname)\n",
        "        #.pipe(remove_non_alpha_words, colname)\n",
        "\n",
        "        .pipe(lemmatize, colname)\n",
        "        #.pipe(stem, colname)\n",
        "    )\n",
        "    return df"
      ],
      "execution_count": null,
      "outputs": []
    },
    {
      "cell_type": "code",
      "metadata": {
        "id": "bLvLGTNRB3-f",
        "colab_type": "code",
        "colab": {
          "base_uri": "https://localhost:8080/",
          "height": 538
        },
        "outputId": "a4cc181e-9600-4b1d-807f-f334a14aef70"
      },
      "source": [
        "df_train_clean = text_cleaning(df_train, 'review')\n",
        "df_val_clean = text_cleaning(df_val, 'review')"
      ],
      "execution_count": null,
      "outputs": [
        {
          "output_type": "stream",
          "text": [
            "/usr/local/lib/python3.6/dist-packages/ipykernel_launcher.py:15: SettingWithCopyWarning: \n",
            "A value is trying to be set on a copy of a slice from a DataFrame.\n",
            "Try using .loc[row_indexer,col_indexer] = value instead\n",
            "\n",
            "See the caveats in the documentation: http://pandas.pydata.org/pandas-docs/stable/user_guide/indexing.html#returning-a-view-versus-a-copy\n",
            "  from ipykernel import kernelapp as app\n",
            "/usr/local/lib/python3.6/dist-packages/ipykernel_launcher.py:24: SettingWithCopyWarning: \n",
            "A value is trying to be set on a copy of a slice from a DataFrame.\n",
            "Try using .loc[row_indexer,col_indexer] = value instead\n",
            "\n",
            "See the caveats in the documentation: http://pandas.pydata.org/pandas-docs/stable/user_guide/indexing.html#returning-a-view-versus-a-copy\n",
            "/usr/local/lib/python3.6/dist-packages/ipykernel_launcher.py:31: SettingWithCopyWarning: \n",
            "A value is trying to be set on a copy of a slice from a DataFrame.\n",
            "Try using .loc[row_indexer,col_indexer] = value instead\n",
            "\n",
            "See the caveats in the documentation: http://pandas.pydata.org/pandas-docs/stable/user_guide/indexing.html#returning-a-view-versus-a-copy\n",
            "/usr/local/lib/python3.6/dist-packages/ipykernel_launcher.py:40: SettingWithCopyWarning: \n",
            "A value is trying to be set on a copy of a slice from a DataFrame.\n",
            "Try using .loc[row_indexer,col_indexer] = value instead\n",
            "\n",
            "See the caveats in the documentation: http://pandas.pydata.org/pandas-docs/stable/user_guide/indexing.html#returning-a-view-versus-a-copy\n",
            "/usr/local/lib/python3.6/dist-packages/ipykernel_launcher.py:50: SettingWithCopyWarning: \n",
            "A value is trying to be set on a copy of a slice from a DataFrame.\n",
            "Try using .loc[row_indexer,col_indexer] = value instead\n",
            "\n",
            "See the caveats in the documentation: http://pandas.pydata.org/pandas-docs/stable/user_guide/indexing.html#returning-a-view-versus-a-copy\n",
            "/usr/local/lib/python3.6/dist-packages/ipykernel_launcher.py:70: SettingWithCopyWarning: \n",
            "A value is trying to be set on a copy of a slice from a DataFrame.\n",
            "Try using .loc[row_indexer,col_indexer] = value instead\n",
            "\n",
            "See the caveats in the documentation: http://pandas.pydata.org/pandas-docs/stable/user_guide/indexing.html#returning-a-view-versus-a-copy\n"
          ],
          "name": "stderr"
        }
      ]
    },
    {
      "cell_type": "markdown",
      "metadata": {
        "id": "o7TiuKH5B3-l",
        "colab_type": "text"
      },
      "source": [
        "# 5. Model"
      ]
    },
    {
      "cell_type": "code",
      "metadata": {
        "id": "TPa4O8MDJuF2",
        "colab_type": "code",
        "colab": {
          "base_uri": "https://localhost:8080/",
          "height": 151
        },
        "outputId": "8304e821-5911-4be3-e5ba-ade5323664a8"
      },
      "source": [
        "df.columns"
      ],
      "execution_count": null,
      "outputs": [
        {
          "output_type": "execute_result",
          "data": {
            "text/plain": [
              "Index(['review', 'rating', 'binary_target', 'useful_review', 'funny_review',\n",
              "       'cool_review', 'review_count_restaurant', 'is_open',\n",
              "       'review_count_user', 'yelping_since', 'useful_user', 'funny_user',\n",
              "       'cool_user', 'elite', 'fans', 'average_stars', 'compliment_hot',\n",
              "       'compliment_more', 'compliment_profile', 'compliment_cute',\n",
              "       'compliment_list', 'compliment_note', 'compliment_plain',\n",
              "       'compliment_cool', 'compliment_funny', 'compliment_photos'],\n",
              "      dtype='object')"
            ]
          },
          "metadata": {
            "tags": []
          },
          "execution_count": 29
        }
      ]
    },
    {
      "cell_type": "code",
      "metadata": {
        "id": "8kei5zzlJGXM",
        "colab_type": "code",
        "colab": {}
      },
      "source": [
        "# cols_to_use = ['useful_review']\n",
        "#, 'funny_review',\n",
        "#        'cool_review', 'review_count_restaurant', 'is_open',\n",
        "#        'review_count_user', 'yelping_since', 'useful_user', 'funny_user',\n",
        "#        'cool_user', 'elite', 'fans', 'average_stars', 'compliment_hot',\n",
        "#        'compliment_more', 'compliment_profile', 'compliment_cute',\n",
        "#        'compliment_list', 'compliment_note', 'compliment_plain',\n",
        "#        'compliment_cool', 'compliment_funny', 'compliment_photos']\n"
      ],
      "execution_count": null,
      "outputs": []
    },
    {
      "cell_type": "code",
      "metadata": {
        "id": "AXwu99IuZHqV",
        "colab_type": "code",
        "colab": {}
      },
      "source": [
        "x_train = df_train_clean['review']\n",
        "y_train = df_train_clean['binary_target']\n",
        "\n",
        "x_val = df_val_clean['review']\n",
        "y_val = df_val_clean['binary_target']"
      ],
      "execution_count": null,
      "outputs": []
    },
    {
      "cell_type": "code",
      "metadata": {
        "id": "TNQnvziLnvXu",
        "colab_type": "code",
        "colab": {}
      },
      "source": [
        "aux = [len(x) for x in x_train]"
      ],
      "execution_count": null,
      "outputs": []
    },
    {
      "cell_type": "code",
      "metadata": {
        "id": "lGtJQYiLqLWp",
        "colab_type": "code",
        "colab": {
          "base_uri": "https://localhost:8080/",
          "height": 34
        },
        "outputId": "ecea72f5-fe29-492b-a7c0-808d7e5cee9f"
      },
      "source": [
        "np.median(aux)"
      ],
      "execution_count": null,
      "outputs": [
        {
          "output_type": "execute_result",
          "data": {
            "text/plain": [
              "259.0"
            ]
          },
          "metadata": {
            "tags": []
          },
          "execution_count": 30
        }
      ]
    },
    {
      "cell_type": "code",
      "metadata": {
        "id": "ugJBS6Cxp3sX",
        "colab_type": "code",
        "colab": {
          "base_uri": "https://localhost:8080/",
          "height": 34
        },
        "outputId": "87fb2851-7cf5-48f2-e054-be30d221d366"
      },
      "source": [
        "np.max(aux)"
      ],
      "execution_count": null,
      "outputs": [
        {
          "output_type": "execute_result",
          "data": {
            "text/plain": [
              "4672"
            ]
          },
          "metadata": {
            "tags": []
          },
          "execution_count": 27
        }
      ]
    },
    {
      "cell_type": "code",
      "metadata": {
        "id": "1qOu14sHOqEZ",
        "colab_type": "code",
        "colab": {}
      },
      "source": [
        "from sklearn.ensemble import RandomForestClassifier"
      ],
      "execution_count": null,
      "outputs": []
    },
    {
      "cell_type": "code",
      "metadata": {
        "id": "Lu7W__ueqh6K",
        "colab_type": "code",
        "colab": {}
      },
      "source": [
        "df_train_clean = df_train_clean.assign(\n",
        "    extension = df_train_clean.review.apply(lambda x:len(x))\n",
        ")"
      ],
      "execution_count": null,
      "outputs": []
    },
    {
      "cell_type": "code",
      "metadata": {
        "id": "R89dPIW-YwbK",
        "colab_type": "code",
        "colab": {}
      },
      "source": [
        "x_train = df_train_clean.review\n",
        "y_train = df_train_clean.binary_target\n",
        "\n",
        "x_val = df_val_clean.review\n",
        "y_val = df_val_clean.binary_target"
      ],
      "execution_count": null,
      "outputs": []
    },
    {
      "cell_type": "code",
      "metadata": {
        "id": "hIbNI0HWmiUf",
        "colab_type": "code",
        "colab": {}
      },
      "source": [
        "# from sklearn.linear_model import SGDClassifier\n",
        "\n",
        "# logit = SGDClassifier(\n",
        "#                     loss='hinge',\n",
        "#                     penalty='l2',\n",
        "#                     alpha=1e-3,\n",
        "#                     random_state=42,\n",
        "#                     max_iter=100,\n",
        "#                     learning_rate='optimal',\n",
        "#                     tol=None,\n",
        "#                 )"
      ],
      "execution_count": null,
      "outputs": []
    },
    {
      "cell_type": "code",
      "metadata": {
        "id": "VXa2W74a0b1K",
        "colab_type": "code",
        "colab": {
          "base_uri": "https://localhost:8080/",
          "height": 202
        },
        "outputId": "eee663b4-153d-4b30-ddf3-c00f68df04cf"
      },
      "source": [
        "Count_Vectorizer = CountVectorizer(max_features=20000)\n",
        "TFidf_Vectorizer = TfidfVectorizer(stop_words=\"english\",max_features=20000, ngram_range=(1,2), min_df = 5)\n",
        "\n",
        "logit = LogisticRegression(random_state=0, max_iter=500, n_jobs = -1, C = 10)\n",
        "#text_classifier = RandomForestClassifier(n_estimators=100, random_state=0)\n",
        "pipeline = Pipeline([\n",
        "    #('vectorizer', Count_Vectorizer),\n",
        "    ('vectorizer', TFidf_Vectorizer),\n",
        "    #('model', text_classifier)\n",
        "    ('model', logit)\n",
        "    ])\n",
        "\n",
        "pipeline.fit(x_train, y_train)\n",
        "\n",
        "y_pred = pipeline.predict(x_val)\n",
        "print(confusion_matrix(y_val, y_pred))\n",
        "print(classification_report(y_val, y_pred))"
      ],
      "execution_count": null,
      "outputs": [
        {
          "output_type": "stream",
          "text": [
            "[[ 69178  13556]\n",
            " [  9508 154586]]\n",
            "              precision    recall  f1-score   support\n",
            "\n",
            "           0       0.88      0.84      0.86     82734\n",
            "           1       0.92      0.94      0.93    164094\n",
            "\n",
            "    accuracy                           0.91    246828\n",
            "   macro avg       0.90      0.89      0.89    246828\n",
            "weighted avg       0.91      0.91      0.91    246828\n",
            "\n"
          ],
          "name": "stdout"
        }
      ]
    },
    {
      "cell_type": "code",
      "metadata": {
        "id": "1c924WeF1OSz",
        "colab_type": "code",
        "colab": {
          "base_uri": "https://localhost:8080/",
          "height": 84
        },
        "outputId": "e257b704-e584-4f40-ae50-60a75826a1ff"
      },
      "source": [
        "df_test_cleaned = text_cleaning(df_test, 'review')\n",
        "x_test = df_test_cleaned['review']\n",
        "predictions = pipeline.predict(x_test)\n",
        "\n",
        "soumission = pd.DataFrame({\"review_id\": df_test['review_id'], \"prediction\": predictions})\n",
        "soumission['prediction'] = soumission['prediction'].astype('bool')\n",
        "soumission['review_id'] = soumission['review_id'].astype('str')\n",
        "\n",
        "soumission.head().dtypes\n",
        "\n",
        "soumission.to_csv('/content/drive/My Drive/Hackathon-Capgemini/submissions/submission_fts.csv', index=False)\n",
        "!kaggle competitions submit -c restaurants-ratings-prediction -f /content/drive/My\\ Drive/Hackathon-Capgemini/submissions/submission_fts.csv -m \"Second submission\"\n"
      ],
      "execution_count": null,
      "outputs": [
        {
          "output_type": "stream",
          "text": [
            "Warning: Your Kaggle API key is readable by other users on this system! To fix this, you can run 'chmod 600 /root/.kaggle/kaggle.json'\n",
            "Warning: Looks like you're using an outdated API Version, please consider updating (server 1.5.6 / client 1.5.4)\n",
            "100% 110k/110k [00:03<00:00, 36.2kB/s]\n",
            "Successfully submitted to Hackathon Supaero - Restaurants ratings prediction"
          ],
          "name": "stdout"
        }
      ]
    },
    {
      "cell_type": "markdown",
      "metadata": {
        "id": "vr7TjHlFAAei",
        "colab_type": "text"
      },
      "source": [
        "## GRIDSEARCH"
      ]
    },
    {
      "cell_type": "code",
      "metadata": {
        "id": "FTyoxScLYXlz",
        "colab_type": "code",
        "colab": {
          "base_uri": "https://localhost:8080/",
          "height": 962
        },
        "outputId": "9a3430a2-db78-4eb9-c990-2b977e84a8f2"
      },
      "source": [
        "from sklearn.model_selection import GridSearchCV\n",
        "from pprint import pprint\n",
        "from time import time\n",
        "from sklearn.model_selection import KFold\n",
        "\n",
        "X = x_train\n",
        "y = y_train\n",
        "\n",
        "tfidf = TfidfVectorizer(max_features=20000,stop_words= \"english\", analyzer='word', strip_accents = 'ascii')\n",
        "\n",
        "logit = LogisticRegression(random_state=0, max_iter=500)\n",
        "\n",
        "pipeline = Pipeline([\n",
        "    ('vectorizer', tfidf),\n",
        "    ('model', logit)])\n",
        "pipeline.fit(X, y)\n",
        "print('done simple fit')\n",
        "\n",
        "parameters = {\n",
        "   'vectorizer__ngram_range': [(1, 2), (1, 3), (2, 2)],\n",
        "   'vectorizer__min_df': [10,20,100],\n",
        "   'vectorizer__max_df':[40000, 4000,400],\n",
        "\n",
        "   'model__C': [0.001, 0.01, 0.1, 1, 10, 100],\n",
        "   'model__class_weight':[{1:0.5, 0:0.5}, {1:0.4, 0:0.6}, {1:0.6, 0:0.4}, {1:0.7, 0:0.3}],\n",
        "   'model__solver': ['liblinear', 'saga']\n",
        "}\n",
        "\n",
        "grid_search = GridSearchCV(pipeline, parameters, \n",
        "                        cv=list(KFold(n_splits=2, shuffle=True).split(X)),\n",
        "                        n_jobs=-1,verbose=1)\n",
        "\n",
        "print(\"Performing grid search...\")\n",
        "print(\"pipeline:\", [name for name, _ in pipeline.steps])\n",
        "print(\"parameters:\")\n",
        "pprint(parameters)\n",
        "t0 = time()\n",
        "grid_search.fit(X, y)\n",
        "print(\"done in %0.3fs\" % (time() - t0))\n",
        "print()\n",
        "\n",
        "print(\"Best score: %0.3f\" % grid_search.best_score_)\n",
        "print(\"Best parameters set:\")\n",
        "best_parameters = grid_search.best_estimator_\n",
        "\n",
        "y_pred = pipeline.predict(x_val)\n",
        "print(confusion_matrix(y_val, y_pred))\n",
        "print(classification_report(y_val, y_pred))\n",
        "\n",
        "\n",
        "df_test_cleaned = text_cleaning(df_test, 'review')\n",
        "x_test = df_test_cleaned['review']\n",
        "predictions = pipeline.predict(x_test)\n",
        "soumission = pd.DataFrame({\"review_id\": df_test['review_id'], \"prediction\": y_pred_test})\n",
        "\n",
        "soumission['prediction'] = soumission['prediction'].astype('bool')\n",
        "soumission['review_id'] = soumission['review_id'].astype('str')\n",
        "\n",
        "soumission.head().dtypes\n",
        "\n",
        "soumission.to_csv('/content/drive/My Drive/Hackathon-Capgemini/submissions/submission_fts.csv', index=False)\n",
        "!kaggle competitions submit -c restaurants-ratings-prediction -f /content/drive/My\\ Drive/Hackathon-Capgemini/submissions/submission_fts.csv -m \"Second submission\""
      ],
      "execution_count": null,
      "outputs": [
        {
          "output_type": "stream",
          "text": [
            "done simple fit\n",
            "Performing grid search...\n",
            "pipeline: ['vectorizer', 'model']\n",
            "parameters:\n",
            "{'model__C': [0.001, 0.01, 0.1, 1, 10, 100],\n",
            " 'model__class_weight': [{0: 0.5, 1: 0.5},\n",
            "                         {0: 0.6, 1: 0.4},\n",
            "                         {0: 0.4, 1: 0.6},\n",
            "                         {0: 0.3, 1: 0.7}],\n",
            " 'model__solver': ['liblinear', 'saga'],\n",
            " 'vectorizer__max_df': [40000, 4000, 400],\n",
            " 'vectorizer__min_df': [10, 20, 100],\n",
            " 'vectorizer__ngram_range': [(1, 2), (1, 3), (2, 2)]}\n",
            "Fitting 2 folds for each of 1296 candidates, totalling 2592 fits\n"
          ],
          "name": "stdout"
        },
        {
          "output_type": "stream",
          "text": [
            "[Parallel(n_jobs=-1)]: Using backend LokyBackend with 4 concurrent workers.\n",
            "exception calling callback for <Future at 0x7fe3f85259e8 state=finished raised TerminatedWorkerError>\n",
            "Traceback (most recent call last):\n",
            "  File \"/usr/local/lib/python3.6/dist-packages/joblib/externals/loky/_base.py\", line 625, in _invoke_callbacks\n",
            "    callback(self)\n",
            "  File \"/usr/local/lib/python3.6/dist-packages/joblib/parallel.py\", line 340, in __call__\n",
            "    self.parallel.dispatch_next()\n",
            "  File \"/usr/local/lib/python3.6/dist-packages/joblib/parallel.py\", line 769, in dispatch_next\n",
            "    if not self.dispatch_one_batch(self._original_iterator):\n",
            "  File \"/usr/local/lib/python3.6/dist-packages/joblib/parallel.py\", line 835, in dispatch_one_batch\n",
            "    self._dispatch(tasks)\n",
            "  File \"/usr/local/lib/python3.6/dist-packages/joblib/parallel.py\", line 754, in _dispatch\n",
            "    job = self._backend.apply_async(batch, callback=cb)\n",
            "  File \"/usr/local/lib/python3.6/dist-packages/joblib/_parallel_backends.py\", line 551, in apply_async\n",
            "    future = self._workers.submit(SafeFunction(func))\n",
            "  File \"/usr/local/lib/python3.6/dist-packages/joblib/externals/loky/reusable_executor.py\", line 160, in submit\n",
            "    fn, *args, **kwargs)\n",
            "  File \"/usr/local/lib/python3.6/dist-packages/joblib/externals/loky/process_executor.py\", line 1027, in submit\n",
            "    raise self._flags.broken\n",
            "joblib.externals.loky.process_executor.TerminatedWorkerError: A worker process managed by the executor was unexpectedly terminated. This could be caused by a segmentation fault while calling the function or by an excessive memory usage causing the Operating System to kill the worker. The exit codes of the workers are {SIGKILL(-9)}\n"
          ],
          "name": "stderr"
        },
        {
          "output_type": "error",
          "ename": "TerminatedWorkerError",
          "evalue": "ignored",
          "traceback": [
            "\u001b[0;31m---------------------------------------------------------------------------\u001b[0m",
            "\u001b[0;31mTerminatedWorkerError\u001b[0m                     Traceback (most recent call last)",
            "\u001b[0;32m<ipython-input-30-abd60d02285d>\u001b[0m in \u001b[0;36m<module>\u001b[0;34m()\u001b[0m\n\u001b[1;32m     36\u001b[0m \u001b[0mpprint\u001b[0m\u001b[0;34m(\u001b[0m\u001b[0mparameters\u001b[0m\u001b[0;34m)\u001b[0m\u001b[0;34m\u001b[0m\u001b[0;34m\u001b[0m\u001b[0m\n\u001b[1;32m     37\u001b[0m \u001b[0mt0\u001b[0m \u001b[0;34m=\u001b[0m \u001b[0mtime\u001b[0m\u001b[0;34m(\u001b[0m\u001b[0;34m)\u001b[0m\u001b[0;34m\u001b[0m\u001b[0;34m\u001b[0m\u001b[0m\n\u001b[0;32m---> 38\u001b[0;31m \u001b[0mgrid_search\u001b[0m\u001b[0;34m.\u001b[0m\u001b[0mfit\u001b[0m\u001b[0;34m(\u001b[0m\u001b[0mX\u001b[0m\u001b[0;34m,\u001b[0m \u001b[0my\u001b[0m\u001b[0;34m)\u001b[0m\u001b[0;34m\u001b[0m\u001b[0;34m\u001b[0m\u001b[0m\n\u001b[0m\u001b[1;32m     39\u001b[0m \u001b[0mprint\u001b[0m\u001b[0;34m(\u001b[0m\u001b[0;34m\"done in %0.3fs\"\u001b[0m \u001b[0;34m%\u001b[0m \u001b[0;34m(\u001b[0m\u001b[0mtime\u001b[0m\u001b[0;34m(\u001b[0m\u001b[0;34m)\u001b[0m \u001b[0;34m-\u001b[0m \u001b[0mt0\u001b[0m\u001b[0;34m)\u001b[0m\u001b[0;34m)\u001b[0m\u001b[0;34m\u001b[0m\u001b[0;34m\u001b[0m\u001b[0m\n\u001b[1;32m     40\u001b[0m \u001b[0mprint\u001b[0m\u001b[0;34m(\u001b[0m\u001b[0;34m)\u001b[0m\u001b[0;34m\u001b[0m\u001b[0;34m\u001b[0m\u001b[0m\n",
            "\u001b[0;32m/usr/local/lib/python3.6/dist-packages/sklearn/model_selection/_search.py\u001b[0m in \u001b[0;36mfit\u001b[0;34m(self, X, y, groups, **fit_params)\u001b[0m\n\u001b[1;32m    708\u001b[0m                 \u001b[0;32mreturn\u001b[0m \u001b[0mresults\u001b[0m\u001b[0;34m\u001b[0m\u001b[0;34m\u001b[0m\u001b[0m\n\u001b[1;32m    709\u001b[0m \u001b[0;34m\u001b[0m\u001b[0m\n\u001b[0;32m--> 710\u001b[0;31m             \u001b[0mself\u001b[0m\u001b[0;34m.\u001b[0m\u001b[0m_run_search\u001b[0m\u001b[0;34m(\u001b[0m\u001b[0mevaluate_candidates\u001b[0m\u001b[0;34m)\u001b[0m\u001b[0;34m\u001b[0m\u001b[0;34m\u001b[0m\u001b[0m\n\u001b[0m\u001b[1;32m    711\u001b[0m \u001b[0;34m\u001b[0m\u001b[0m\n\u001b[1;32m    712\u001b[0m         \u001b[0;31m# For multi-metric evaluation, store the best_index_, best_params_ and\u001b[0m\u001b[0;34m\u001b[0m\u001b[0;34m\u001b[0m\u001b[0;34m\u001b[0m\u001b[0m\n",
            "\u001b[0;32m/usr/local/lib/python3.6/dist-packages/sklearn/model_selection/_search.py\u001b[0m in \u001b[0;36m_run_search\u001b[0;34m(self, evaluate_candidates)\u001b[0m\n\u001b[1;32m   1149\u001b[0m     \u001b[0;32mdef\u001b[0m \u001b[0m_run_search\u001b[0m\u001b[0;34m(\u001b[0m\u001b[0mself\u001b[0m\u001b[0;34m,\u001b[0m \u001b[0mevaluate_candidates\u001b[0m\u001b[0;34m)\u001b[0m\u001b[0;34m:\u001b[0m\u001b[0;34m\u001b[0m\u001b[0;34m\u001b[0m\u001b[0m\n\u001b[1;32m   1150\u001b[0m         \u001b[0;34m\"\"\"Search all candidates in param_grid\"\"\"\u001b[0m\u001b[0;34m\u001b[0m\u001b[0;34m\u001b[0m\u001b[0m\n\u001b[0;32m-> 1151\u001b[0;31m         \u001b[0mevaluate_candidates\u001b[0m\u001b[0;34m(\u001b[0m\u001b[0mParameterGrid\u001b[0m\u001b[0;34m(\u001b[0m\u001b[0mself\u001b[0m\u001b[0;34m.\u001b[0m\u001b[0mparam_grid\u001b[0m\u001b[0;34m)\u001b[0m\u001b[0;34m)\u001b[0m\u001b[0;34m\u001b[0m\u001b[0;34m\u001b[0m\u001b[0m\n\u001b[0m\u001b[1;32m   1152\u001b[0m \u001b[0;34m\u001b[0m\u001b[0m\n\u001b[1;32m   1153\u001b[0m \u001b[0;34m\u001b[0m\u001b[0m\n",
            "\u001b[0;32m/usr/local/lib/python3.6/dist-packages/sklearn/model_selection/_search.py\u001b[0m in \u001b[0;36mevaluate_candidates\u001b[0;34m(candidate_params)\u001b[0m\n\u001b[1;32m    687\u001b[0m                                \u001b[0;32mfor\u001b[0m \u001b[0mparameters\u001b[0m\u001b[0;34m,\u001b[0m \u001b[0;34m(\u001b[0m\u001b[0mtrain\u001b[0m\u001b[0;34m,\u001b[0m \u001b[0mtest\u001b[0m\u001b[0;34m)\u001b[0m\u001b[0;34m\u001b[0m\u001b[0;34m\u001b[0m\u001b[0m\n\u001b[1;32m    688\u001b[0m                                in product(candidate_params,\n\u001b[0;32m--> 689\u001b[0;31m                                           cv.split(X, y, groups)))\n\u001b[0m\u001b[1;32m    690\u001b[0m \u001b[0;34m\u001b[0m\u001b[0m\n\u001b[1;32m    691\u001b[0m                 \u001b[0;32mif\u001b[0m \u001b[0mlen\u001b[0m\u001b[0;34m(\u001b[0m\u001b[0mout\u001b[0m\u001b[0;34m)\u001b[0m \u001b[0;34m<\u001b[0m \u001b[0;36m1\u001b[0m\u001b[0;34m:\u001b[0m\u001b[0;34m\u001b[0m\u001b[0;34m\u001b[0m\u001b[0m\n",
            "\u001b[0;32m/usr/local/lib/python3.6/dist-packages/joblib/parallel.py\u001b[0m in \u001b[0;36m__call__\u001b[0;34m(self, iterable)\u001b[0m\n\u001b[1;32m   1015\u001b[0m \u001b[0;34m\u001b[0m\u001b[0m\n\u001b[1;32m   1016\u001b[0m             \u001b[0;32mwith\u001b[0m \u001b[0mself\u001b[0m\u001b[0;34m.\u001b[0m\u001b[0m_backend\u001b[0m\u001b[0;34m.\u001b[0m\u001b[0mretrieval_context\u001b[0m\u001b[0;34m(\u001b[0m\u001b[0;34m)\u001b[0m\u001b[0;34m:\u001b[0m\u001b[0;34m\u001b[0m\u001b[0;34m\u001b[0m\u001b[0m\n\u001b[0;32m-> 1017\u001b[0;31m                 \u001b[0mself\u001b[0m\u001b[0;34m.\u001b[0m\u001b[0mretrieve\u001b[0m\u001b[0;34m(\u001b[0m\u001b[0;34m)\u001b[0m\u001b[0;34m\u001b[0m\u001b[0;34m\u001b[0m\u001b[0m\n\u001b[0m\u001b[1;32m   1018\u001b[0m             \u001b[0;31m# Make sure that we get a last message telling us we are done\u001b[0m\u001b[0;34m\u001b[0m\u001b[0;34m\u001b[0m\u001b[0;34m\u001b[0m\u001b[0m\n\u001b[1;32m   1019\u001b[0m             \u001b[0melapsed_time\u001b[0m \u001b[0;34m=\u001b[0m \u001b[0mtime\u001b[0m\u001b[0;34m.\u001b[0m\u001b[0mtime\u001b[0m\u001b[0;34m(\u001b[0m\u001b[0;34m)\u001b[0m \u001b[0;34m-\u001b[0m \u001b[0mself\u001b[0m\u001b[0;34m.\u001b[0m\u001b[0m_start_time\u001b[0m\u001b[0;34m\u001b[0m\u001b[0;34m\u001b[0m\u001b[0m\n",
            "\u001b[0;32m/usr/local/lib/python3.6/dist-packages/joblib/parallel.py\u001b[0m in \u001b[0;36mretrieve\u001b[0;34m(self)\u001b[0m\n\u001b[1;32m    907\u001b[0m             \u001b[0;32mtry\u001b[0m\u001b[0;34m:\u001b[0m\u001b[0;34m\u001b[0m\u001b[0;34m\u001b[0m\u001b[0m\n\u001b[1;32m    908\u001b[0m                 \u001b[0;32mif\u001b[0m \u001b[0mgetattr\u001b[0m\u001b[0;34m(\u001b[0m\u001b[0mself\u001b[0m\u001b[0;34m.\u001b[0m\u001b[0m_backend\u001b[0m\u001b[0;34m,\u001b[0m \u001b[0;34m'supports_timeout'\u001b[0m\u001b[0;34m,\u001b[0m \u001b[0;32mFalse\u001b[0m\u001b[0;34m)\u001b[0m\u001b[0;34m:\u001b[0m\u001b[0;34m\u001b[0m\u001b[0;34m\u001b[0m\u001b[0m\n\u001b[0;32m--> 909\u001b[0;31m                     \u001b[0mself\u001b[0m\u001b[0;34m.\u001b[0m\u001b[0m_output\u001b[0m\u001b[0;34m.\u001b[0m\u001b[0mextend\u001b[0m\u001b[0;34m(\u001b[0m\u001b[0mjob\u001b[0m\u001b[0;34m.\u001b[0m\u001b[0mget\u001b[0m\u001b[0;34m(\u001b[0m\u001b[0mtimeout\u001b[0m\u001b[0;34m=\u001b[0m\u001b[0mself\u001b[0m\u001b[0;34m.\u001b[0m\u001b[0mtimeout\u001b[0m\u001b[0;34m)\u001b[0m\u001b[0;34m)\u001b[0m\u001b[0;34m\u001b[0m\u001b[0;34m\u001b[0m\u001b[0m\n\u001b[0m\u001b[1;32m    910\u001b[0m                 \u001b[0;32melse\u001b[0m\u001b[0;34m:\u001b[0m\u001b[0;34m\u001b[0m\u001b[0;34m\u001b[0m\u001b[0m\n\u001b[1;32m    911\u001b[0m                     \u001b[0mself\u001b[0m\u001b[0;34m.\u001b[0m\u001b[0m_output\u001b[0m\u001b[0;34m.\u001b[0m\u001b[0mextend\u001b[0m\u001b[0;34m(\u001b[0m\u001b[0mjob\u001b[0m\u001b[0;34m.\u001b[0m\u001b[0mget\u001b[0m\u001b[0;34m(\u001b[0m\u001b[0;34m)\u001b[0m\u001b[0;34m)\u001b[0m\u001b[0;34m\u001b[0m\u001b[0;34m\u001b[0m\u001b[0m\n",
            "\u001b[0;32m/usr/local/lib/python3.6/dist-packages/joblib/_parallel_backends.py\u001b[0m in \u001b[0;36mwrap_future_result\u001b[0;34m(future, timeout)\u001b[0m\n\u001b[1;32m    560\u001b[0m         AsyncResults.get from multiprocessing.\"\"\"\n\u001b[1;32m    561\u001b[0m         \u001b[0;32mtry\u001b[0m\u001b[0;34m:\u001b[0m\u001b[0;34m\u001b[0m\u001b[0;34m\u001b[0m\u001b[0m\n\u001b[0;32m--> 562\u001b[0;31m             \u001b[0;32mreturn\u001b[0m \u001b[0mfuture\u001b[0m\u001b[0;34m.\u001b[0m\u001b[0mresult\u001b[0m\u001b[0;34m(\u001b[0m\u001b[0mtimeout\u001b[0m\u001b[0;34m=\u001b[0m\u001b[0mtimeout\u001b[0m\u001b[0;34m)\u001b[0m\u001b[0;34m\u001b[0m\u001b[0;34m\u001b[0m\u001b[0m\n\u001b[0m\u001b[1;32m    563\u001b[0m         \u001b[0;32mexcept\u001b[0m \u001b[0mLokyTimeoutError\u001b[0m\u001b[0;34m:\u001b[0m\u001b[0;34m\u001b[0m\u001b[0;34m\u001b[0m\u001b[0m\n\u001b[1;32m    564\u001b[0m             \u001b[0;32mraise\u001b[0m \u001b[0mTimeoutError\u001b[0m\u001b[0;34m(\u001b[0m\u001b[0;34m)\u001b[0m\u001b[0;34m\u001b[0m\u001b[0;34m\u001b[0m\u001b[0m\n",
            "\u001b[0;32m/usr/lib/python3.6/concurrent/futures/_base.py\u001b[0m in \u001b[0;36mresult\u001b[0;34m(self, timeout)\u001b[0m\n\u001b[1;32m    430\u001b[0m                 \u001b[0;32mraise\u001b[0m \u001b[0mCancelledError\u001b[0m\u001b[0;34m(\u001b[0m\u001b[0;34m)\u001b[0m\u001b[0;34m\u001b[0m\u001b[0;34m\u001b[0m\u001b[0m\n\u001b[1;32m    431\u001b[0m             \u001b[0;32melif\u001b[0m \u001b[0mself\u001b[0m\u001b[0;34m.\u001b[0m\u001b[0m_state\u001b[0m \u001b[0;34m==\u001b[0m \u001b[0mFINISHED\u001b[0m\u001b[0;34m:\u001b[0m\u001b[0;34m\u001b[0m\u001b[0;34m\u001b[0m\u001b[0m\n\u001b[0;32m--> 432\u001b[0;31m                 \u001b[0;32mreturn\u001b[0m \u001b[0mself\u001b[0m\u001b[0;34m.\u001b[0m\u001b[0m__get_result\u001b[0m\u001b[0;34m(\u001b[0m\u001b[0;34m)\u001b[0m\u001b[0;34m\u001b[0m\u001b[0;34m\u001b[0m\u001b[0m\n\u001b[0m\u001b[1;32m    433\u001b[0m             \u001b[0;32melse\u001b[0m\u001b[0;34m:\u001b[0m\u001b[0;34m\u001b[0m\u001b[0;34m\u001b[0m\u001b[0m\n\u001b[1;32m    434\u001b[0m                 \u001b[0;32mraise\u001b[0m \u001b[0mTimeoutError\u001b[0m\u001b[0;34m(\u001b[0m\u001b[0;34m)\u001b[0m\u001b[0;34m\u001b[0m\u001b[0;34m\u001b[0m\u001b[0m\n",
            "\u001b[0;32m/usr/lib/python3.6/concurrent/futures/_base.py\u001b[0m in \u001b[0;36m__get_result\u001b[0;34m(self)\u001b[0m\n\u001b[1;32m    382\u001b[0m     \u001b[0;32mdef\u001b[0m \u001b[0m__get_result\u001b[0m\u001b[0;34m(\u001b[0m\u001b[0mself\u001b[0m\u001b[0;34m)\u001b[0m\u001b[0;34m:\u001b[0m\u001b[0;34m\u001b[0m\u001b[0;34m\u001b[0m\u001b[0m\n\u001b[1;32m    383\u001b[0m         \u001b[0;32mif\u001b[0m \u001b[0mself\u001b[0m\u001b[0;34m.\u001b[0m\u001b[0m_exception\u001b[0m\u001b[0;34m:\u001b[0m\u001b[0;34m\u001b[0m\u001b[0;34m\u001b[0m\u001b[0m\n\u001b[0;32m--> 384\u001b[0;31m             \u001b[0;32mraise\u001b[0m \u001b[0mself\u001b[0m\u001b[0;34m.\u001b[0m\u001b[0m_exception\u001b[0m\u001b[0;34m\u001b[0m\u001b[0;34m\u001b[0m\u001b[0m\n\u001b[0m\u001b[1;32m    385\u001b[0m         \u001b[0;32melse\u001b[0m\u001b[0;34m:\u001b[0m\u001b[0;34m\u001b[0m\u001b[0;34m\u001b[0m\u001b[0m\n\u001b[1;32m    386\u001b[0m             \u001b[0;32mreturn\u001b[0m \u001b[0mself\u001b[0m\u001b[0;34m.\u001b[0m\u001b[0m_result\u001b[0m\u001b[0;34m\u001b[0m\u001b[0;34m\u001b[0m\u001b[0m\n",
            "\u001b[0;32m/usr/local/lib/python3.6/dist-packages/joblib/externals/loky/_base.py\u001b[0m in \u001b[0;36m_invoke_callbacks\u001b[0;34m(self)\u001b[0m\n\u001b[1;32m    623\u001b[0m         \u001b[0;32mfor\u001b[0m \u001b[0mcallback\u001b[0m \u001b[0;32min\u001b[0m \u001b[0mself\u001b[0m\u001b[0;34m.\u001b[0m\u001b[0m_done_callbacks\u001b[0m\u001b[0;34m:\u001b[0m\u001b[0;34m\u001b[0m\u001b[0;34m\u001b[0m\u001b[0m\n\u001b[1;32m    624\u001b[0m             \u001b[0;32mtry\u001b[0m\u001b[0;34m:\u001b[0m\u001b[0;34m\u001b[0m\u001b[0;34m\u001b[0m\u001b[0m\n\u001b[0;32m--> 625\u001b[0;31m                 \u001b[0mcallback\u001b[0m\u001b[0;34m(\u001b[0m\u001b[0mself\u001b[0m\u001b[0;34m)\u001b[0m\u001b[0;34m\u001b[0m\u001b[0;34m\u001b[0m\u001b[0m\n\u001b[0m\u001b[1;32m    626\u001b[0m             \u001b[0;32mexcept\u001b[0m \u001b[0mBaseException\u001b[0m\u001b[0;34m:\u001b[0m\u001b[0;34m\u001b[0m\u001b[0;34m\u001b[0m\u001b[0m\n\u001b[1;32m    627\u001b[0m                 \u001b[0mLOGGER\u001b[0m\u001b[0;34m.\u001b[0m\u001b[0mexception\u001b[0m\u001b[0;34m(\u001b[0m\u001b[0;34m'exception calling callback for %r'\u001b[0m\u001b[0;34m,\u001b[0m \u001b[0mself\u001b[0m\u001b[0;34m)\u001b[0m\u001b[0;34m\u001b[0m\u001b[0;34m\u001b[0m\u001b[0m\n",
            "\u001b[0;32m/usr/local/lib/python3.6/dist-packages/joblib/parallel.py\u001b[0m in \u001b[0;36m__call__\u001b[0;34m(self, out)\u001b[0m\n\u001b[1;32m    338\u001b[0m         \u001b[0;32mwith\u001b[0m \u001b[0mself\u001b[0m\u001b[0;34m.\u001b[0m\u001b[0mparallel\u001b[0m\u001b[0;34m.\u001b[0m\u001b[0m_lock\u001b[0m\u001b[0;34m:\u001b[0m\u001b[0;34m\u001b[0m\u001b[0;34m\u001b[0m\u001b[0m\n\u001b[1;32m    339\u001b[0m             \u001b[0;32mif\u001b[0m \u001b[0mself\u001b[0m\u001b[0;34m.\u001b[0m\u001b[0mparallel\u001b[0m\u001b[0;34m.\u001b[0m\u001b[0m_original_iterator\u001b[0m \u001b[0;32mis\u001b[0m \u001b[0;32mnot\u001b[0m \u001b[0;32mNone\u001b[0m\u001b[0;34m:\u001b[0m\u001b[0;34m\u001b[0m\u001b[0;34m\u001b[0m\u001b[0m\n\u001b[0;32m--> 340\u001b[0;31m                 \u001b[0mself\u001b[0m\u001b[0;34m.\u001b[0m\u001b[0mparallel\u001b[0m\u001b[0;34m.\u001b[0m\u001b[0mdispatch_next\u001b[0m\u001b[0;34m(\u001b[0m\u001b[0;34m)\u001b[0m\u001b[0;34m\u001b[0m\u001b[0;34m\u001b[0m\u001b[0m\n\u001b[0m\u001b[1;32m    341\u001b[0m \u001b[0;34m\u001b[0m\u001b[0m\n\u001b[1;32m    342\u001b[0m \u001b[0;34m\u001b[0m\u001b[0m\n",
            "\u001b[0;32m/usr/local/lib/python3.6/dist-packages/joblib/parallel.py\u001b[0m in \u001b[0;36mdispatch_next\u001b[0;34m(self)\u001b[0m\n\u001b[1;32m    767\u001b[0m \u001b[0;34m\u001b[0m\u001b[0m\n\u001b[1;32m    768\u001b[0m         \"\"\"\n\u001b[0;32m--> 769\u001b[0;31m         \u001b[0;32mif\u001b[0m \u001b[0;32mnot\u001b[0m \u001b[0mself\u001b[0m\u001b[0;34m.\u001b[0m\u001b[0mdispatch_one_batch\u001b[0m\u001b[0;34m(\u001b[0m\u001b[0mself\u001b[0m\u001b[0;34m.\u001b[0m\u001b[0m_original_iterator\u001b[0m\u001b[0;34m)\u001b[0m\u001b[0;34m:\u001b[0m\u001b[0;34m\u001b[0m\u001b[0;34m\u001b[0m\u001b[0m\n\u001b[0m\u001b[1;32m    770\u001b[0m             \u001b[0mself\u001b[0m\u001b[0;34m.\u001b[0m\u001b[0m_iterating\u001b[0m \u001b[0;34m=\u001b[0m \u001b[0;32mFalse\u001b[0m\u001b[0;34m\u001b[0m\u001b[0;34m\u001b[0m\u001b[0m\n\u001b[1;32m    771\u001b[0m             \u001b[0mself\u001b[0m\u001b[0;34m.\u001b[0m\u001b[0m_original_iterator\u001b[0m \u001b[0;34m=\u001b[0m \u001b[0;32mNone\u001b[0m\u001b[0;34m\u001b[0m\u001b[0;34m\u001b[0m\u001b[0m\n",
            "\u001b[0;32m/usr/local/lib/python3.6/dist-packages/joblib/parallel.py\u001b[0m in \u001b[0;36mdispatch_one_batch\u001b[0;34m(self, iterator)\u001b[0m\n\u001b[1;32m    833\u001b[0m                 \u001b[0;32mreturn\u001b[0m \u001b[0;32mFalse\u001b[0m\u001b[0;34m\u001b[0m\u001b[0;34m\u001b[0m\u001b[0m\n\u001b[1;32m    834\u001b[0m             \u001b[0;32melse\u001b[0m\u001b[0;34m:\u001b[0m\u001b[0;34m\u001b[0m\u001b[0;34m\u001b[0m\u001b[0m\n\u001b[0;32m--> 835\u001b[0;31m                 \u001b[0mself\u001b[0m\u001b[0;34m.\u001b[0m\u001b[0m_dispatch\u001b[0m\u001b[0;34m(\u001b[0m\u001b[0mtasks\u001b[0m\u001b[0;34m)\u001b[0m\u001b[0;34m\u001b[0m\u001b[0;34m\u001b[0m\u001b[0m\n\u001b[0m\u001b[1;32m    836\u001b[0m                 \u001b[0;32mreturn\u001b[0m \u001b[0;32mTrue\u001b[0m\u001b[0;34m\u001b[0m\u001b[0;34m\u001b[0m\u001b[0m\n\u001b[1;32m    837\u001b[0m \u001b[0;34m\u001b[0m\u001b[0m\n",
            "\u001b[0;32m/usr/local/lib/python3.6/dist-packages/joblib/parallel.py\u001b[0m in \u001b[0;36m_dispatch\u001b[0;34m(self, batch)\u001b[0m\n\u001b[1;32m    752\u001b[0m         \u001b[0;32mwith\u001b[0m \u001b[0mself\u001b[0m\u001b[0;34m.\u001b[0m\u001b[0m_lock\u001b[0m\u001b[0;34m:\u001b[0m\u001b[0;34m\u001b[0m\u001b[0;34m\u001b[0m\u001b[0m\n\u001b[1;32m    753\u001b[0m             \u001b[0mjob_idx\u001b[0m \u001b[0;34m=\u001b[0m \u001b[0mlen\u001b[0m\u001b[0;34m(\u001b[0m\u001b[0mself\u001b[0m\u001b[0;34m.\u001b[0m\u001b[0m_jobs\u001b[0m\u001b[0;34m)\u001b[0m\u001b[0;34m\u001b[0m\u001b[0;34m\u001b[0m\u001b[0m\n\u001b[0;32m--> 754\u001b[0;31m             \u001b[0mjob\u001b[0m \u001b[0;34m=\u001b[0m \u001b[0mself\u001b[0m\u001b[0;34m.\u001b[0m\u001b[0m_backend\u001b[0m\u001b[0;34m.\u001b[0m\u001b[0mapply_async\u001b[0m\u001b[0;34m(\u001b[0m\u001b[0mbatch\u001b[0m\u001b[0;34m,\u001b[0m \u001b[0mcallback\u001b[0m\u001b[0;34m=\u001b[0m\u001b[0mcb\u001b[0m\u001b[0;34m)\u001b[0m\u001b[0;34m\u001b[0m\u001b[0;34m\u001b[0m\u001b[0m\n\u001b[0m\u001b[1;32m    755\u001b[0m             \u001b[0;31m# A job can complete so quickly than its callback is\u001b[0m\u001b[0;34m\u001b[0m\u001b[0;34m\u001b[0m\u001b[0;34m\u001b[0m\u001b[0m\n\u001b[1;32m    756\u001b[0m             \u001b[0;31m# called before we get here, causing self._jobs to\u001b[0m\u001b[0;34m\u001b[0m\u001b[0;34m\u001b[0m\u001b[0;34m\u001b[0m\u001b[0m\n",
            "\u001b[0;32m/usr/local/lib/python3.6/dist-packages/joblib/_parallel_backends.py\u001b[0m in \u001b[0;36mapply_async\u001b[0;34m(self, func, callback)\u001b[0m\n\u001b[1;32m    549\u001b[0m     \u001b[0;32mdef\u001b[0m \u001b[0mapply_async\u001b[0m\u001b[0;34m(\u001b[0m\u001b[0mself\u001b[0m\u001b[0;34m,\u001b[0m \u001b[0mfunc\u001b[0m\u001b[0;34m,\u001b[0m \u001b[0mcallback\u001b[0m\u001b[0;34m=\u001b[0m\u001b[0;32mNone\u001b[0m\u001b[0;34m)\u001b[0m\u001b[0;34m:\u001b[0m\u001b[0;34m\u001b[0m\u001b[0;34m\u001b[0m\u001b[0m\n\u001b[1;32m    550\u001b[0m         \u001b[0;34m\"\"\"Schedule a func to be run\"\"\"\u001b[0m\u001b[0;34m\u001b[0m\u001b[0;34m\u001b[0m\u001b[0m\n\u001b[0;32m--> 551\u001b[0;31m         \u001b[0mfuture\u001b[0m \u001b[0;34m=\u001b[0m \u001b[0mself\u001b[0m\u001b[0;34m.\u001b[0m\u001b[0m_workers\u001b[0m\u001b[0;34m.\u001b[0m\u001b[0msubmit\u001b[0m\u001b[0;34m(\u001b[0m\u001b[0mSafeFunction\u001b[0m\u001b[0;34m(\u001b[0m\u001b[0mfunc\u001b[0m\u001b[0;34m)\u001b[0m\u001b[0;34m)\u001b[0m\u001b[0;34m\u001b[0m\u001b[0;34m\u001b[0m\u001b[0m\n\u001b[0m\u001b[1;32m    552\u001b[0m         \u001b[0mfuture\u001b[0m\u001b[0;34m.\u001b[0m\u001b[0mget\u001b[0m \u001b[0;34m=\u001b[0m \u001b[0mfunctools\u001b[0m\u001b[0;34m.\u001b[0m\u001b[0mpartial\u001b[0m\u001b[0;34m(\u001b[0m\u001b[0mself\u001b[0m\u001b[0;34m.\u001b[0m\u001b[0mwrap_future_result\u001b[0m\u001b[0;34m,\u001b[0m \u001b[0mfuture\u001b[0m\u001b[0;34m)\u001b[0m\u001b[0;34m\u001b[0m\u001b[0;34m\u001b[0m\u001b[0m\n\u001b[1;32m    553\u001b[0m         \u001b[0;32mif\u001b[0m \u001b[0mcallback\u001b[0m \u001b[0;32mis\u001b[0m \u001b[0;32mnot\u001b[0m \u001b[0;32mNone\u001b[0m\u001b[0;34m:\u001b[0m\u001b[0;34m\u001b[0m\u001b[0;34m\u001b[0m\u001b[0m\n",
            "\u001b[0;32m/usr/local/lib/python3.6/dist-packages/joblib/externals/loky/reusable_executor.py\u001b[0m in \u001b[0;36msubmit\u001b[0;34m(self, fn, *args, **kwargs)\u001b[0m\n\u001b[1;32m    158\u001b[0m         \u001b[0;32mwith\u001b[0m \u001b[0mself\u001b[0m\u001b[0;34m.\u001b[0m\u001b[0m_submit_resize_lock\u001b[0m\u001b[0;34m:\u001b[0m\u001b[0;34m\u001b[0m\u001b[0;34m\u001b[0m\u001b[0m\n\u001b[1;32m    159\u001b[0m             return super(_ReusablePoolExecutor, self).submit(\n\u001b[0;32m--> 160\u001b[0;31m                 fn, *args, **kwargs)\n\u001b[0m\u001b[1;32m    161\u001b[0m \u001b[0;34m\u001b[0m\u001b[0m\n\u001b[1;32m    162\u001b[0m     \u001b[0;32mdef\u001b[0m \u001b[0m_resize\u001b[0m\u001b[0;34m(\u001b[0m\u001b[0mself\u001b[0m\u001b[0;34m,\u001b[0m \u001b[0mmax_workers\u001b[0m\u001b[0;34m)\u001b[0m\u001b[0;34m:\u001b[0m\u001b[0;34m\u001b[0m\u001b[0;34m\u001b[0m\u001b[0m\n",
            "\u001b[0;32m/usr/local/lib/python3.6/dist-packages/joblib/externals/loky/process_executor.py\u001b[0m in \u001b[0;36msubmit\u001b[0;34m(self, fn, *args, **kwargs)\u001b[0m\n\u001b[1;32m   1025\u001b[0m         \u001b[0;32mwith\u001b[0m \u001b[0mself\u001b[0m\u001b[0;34m.\u001b[0m\u001b[0m_flags\u001b[0m\u001b[0;34m.\u001b[0m\u001b[0mshutdown_lock\u001b[0m\u001b[0;34m:\u001b[0m\u001b[0;34m\u001b[0m\u001b[0;34m\u001b[0m\u001b[0m\n\u001b[1;32m   1026\u001b[0m             \u001b[0;32mif\u001b[0m \u001b[0mself\u001b[0m\u001b[0;34m.\u001b[0m\u001b[0m_flags\u001b[0m\u001b[0;34m.\u001b[0m\u001b[0mbroken\u001b[0m \u001b[0;32mis\u001b[0m \u001b[0;32mnot\u001b[0m \u001b[0;32mNone\u001b[0m\u001b[0;34m:\u001b[0m\u001b[0;34m\u001b[0m\u001b[0;34m\u001b[0m\u001b[0m\n\u001b[0;32m-> 1027\u001b[0;31m                 \u001b[0;32mraise\u001b[0m \u001b[0mself\u001b[0m\u001b[0;34m.\u001b[0m\u001b[0m_flags\u001b[0m\u001b[0;34m.\u001b[0m\u001b[0mbroken\u001b[0m\u001b[0;34m\u001b[0m\u001b[0;34m\u001b[0m\u001b[0m\n\u001b[0m\u001b[1;32m   1028\u001b[0m             \u001b[0;32mif\u001b[0m \u001b[0mself\u001b[0m\u001b[0;34m.\u001b[0m\u001b[0m_flags\u001b[0m\u001b[0;34m.\u001b[0m\u001b[0mshutdown\u001b[0m\u001b[0;34m:\u001b[0m\u001b[0;34m\u001b[0m\u001b[0;34m\u001b[0m\u001b[0m\n\u001b[1;32m   1029\u001b[0m                 raise ShutdownExecutorError(\n",
            "\u001b[0;31mTerminatedWorkerError\u001b[0m: A worker process managed by the executor was unexpectedly terminated. This could be caused by a segmentation fault while calling the function or by an excessive memory usage causing the Operating System to kill the worker. The exit codes of the workers are {SIGKILL(-9)}"
          ]
        }
      ]
    },
    {
      "cell_type": "markdown",
      "metadata": {
        "id": "YD2636TEB3-m",
        "colab_type": "text"
      },
      "source": [
        "## Vectorization & model initiation"
      ]
    },
    {
      "cell_type": "markdown",
      "metadata": {
        "id": "2QkGJr6tB3-t",
        "colab_type": "text"
      },
      "source": [
        "## Model fit on train set"
      ]
    },
    {
      "cell_type": "markdown",
      "metadata": {
        "id": "Z0uf4-XhB3-4",
        "colab_type": "text"
      },
      "source": [
        "# 6. Evaluation"
      ]
    },
    {
      "cell_type": "code",
      "metadata": {
        "id": "imeXbGz2vg0X",
        "colab_type": "code",
        "colab": {
          "base_uri": "https://localhost:8080/",
          "height": 206
        },
        "outputId": "0d0b4047-5d14-4a52-8c8d-5fd870924bc4"
      },
      "source": [
        "X_final_train = pd.DataFrame({'y_pred_train_TFidf': y_pred_train_TFidf})\n",
        "X_final_train['y_pred_train_MLPR'] = y_pred_train_MLPR\n",
        "X_final_train.head(5)"
      ],
      "execution_count": null,
      "outputs": [
        {
          "output_type": "execute_result",
          "data": {
            "text/html": [
              "<div>\n",
              "<style scoped>\n",
              "    .dataframe tbody tr th:only-of-type {\n",
              "        vertical-align: middle;\n",
              "    }\n",
              "\n",
              "    .dataframe tbody tr th {\n",
              "        vertical-align: top;\n",
              "    }\n",
              "\n",
              "    .dataframe thead th {\n",
              "        text-align: right;\n",
              "    }\n",
              "</style>\n",
              "<table border=\"1\" class=\"dataframe\">\n",
              "  <thead>\n",
              "    <tr style=\"text-align: right;\">\n",
              "      <th></th>\n",
              "      <th>y_pred_train_TFidf</th>\n",
              "      <th>y_pred_train_MLPR</th>\n",
              "    </tr>\n",
              "  </thead>\n",
              "  <tbody>\n",
              "    <tr>\n",
              "      <th>0</th>\n",
              "      <td>1</td>\n",
              "      <td>2.689369</td>\n",
              "    </tr>\n",
              "    <tr>\n",
              "      <th>1</th>\n",
              "      <td>1</td>\n",
              "      <td>3.040268</td>\n",
              "    </tr>\n",
              "    <tr>\n",
              "      <th>2</th>\n",
              "      <td>0</td>\n",
              "      <td>5.506845</td>\n",
              "    </tr>\n",
              "    <tr>\n",
              "      <th>3</th>\n",
              "      <td>1</td>\n",
              "      <td>2.655809</td>\n",
              "    </tr>\n",
              "    <tr>\n",
              "      <th>4</th>\n",
              "      <td>1</td>\n",
              "      <td>2.724503</td>\n",
              "    </tr>\n",
              "  </tbody>\n",
              "</table>\n",
              "</div>"
            ],
            "text/plain": [
              "   y_pred_train_TFidf  y_pred_train_MLPR\n",
              "0                   1           2.689369\n",
              "1                   1           3.040268\n",
              "2                   0           5.506845\n",
              "3                   1           2.655809\n",
              "4                   1           2.724503"
            ]
          },
          "metadata": {
            "tags": []
          },
          "execution_count": 83
        }
      ]
    },
    {
      "cell_type": "markdown",
      "metadata": {
        "id": "rZwVp17iB3_I",
        "colab_type": "text"
      },
      "source": [
        "# 7. Prediction on test set"
      ]
    },
    {
      "cell_type": "code",
      "metadata": {
        "id": "v7fXJ3s4gZ_i",
        "colab_type": "code",
        "colab": {}
      },
      "source": [
        "df_test_cleaned = text_cleaning(df_test, 'review')\n",
        "x_test = df_test_cleaned['review']\n",
        "predictions = pipeline.predict(x_test)\n",
        "soumission = pd.DataFrame({\"review_id\": df_test['review_id'], \"prediction\": y_pred_test})\n",
        "\n",
        "soumission['prediction'] = soumission['prediction'].astype('bool')\n",
        "soumission['review_id'] = soumission['review_id'].astype('str')\n",
        "\n",
        "soumission.head().dtypes\n",
        "\n",
        "soumission.to_csv('/content/drive/My Drive/Hackathon-Capgemini/submissions/submission_fts.csv', index=False)\n",
        "!kaggle competitions submit -c restaurants-ratings-prediction -f /content/drive/My\\ Drive/Hackathon-Capgemini/submissions/submission_fts.csv -m \"Second submission\""
      ],
      "execution_count": null,
      "outputs": []
    },
    {
      "cell_type": "code",
      "metadata": {
        "id": "OQsQtZG6B3_K",
        "colab_type": "code",
        "colab": {}
      },
      "source": [
        "df_test_cleaned = text_cleaning(df_test, 'review')\n",
        "x_test = df_test_cleaned['review']"
      ],
      "execution_count": null,
      "outputs": []
    },
    {
      "cell_type": "code",
      "metadata": {
        "id": "D2xzZv1-g0Yp",
        "colab_type": "code",
        "colab": {}
      },
      "source": [
        "predictions = pipeline.predict(x_test)"
      ],
      "execution_count": null,
      "outputs": []
    },
    {
      "cell_type": "markdown",
      "metadata": {
        "id": "ovJt1hegB3_O",
        "colab_type": "text"
      },
      "source": [
        "# 8. Formatting & export to csv"
      ]
    },
    {
      "cell_type": "code",
      "metadata": {
        "id": "Vu-a33s0B3_P",
        "colab_type": "code",
        "colab": {
          "base_uri": "https://localhost:8080/",
          "height": 690
        },
        "outputId": "79e3e7cf-af80-4a4b-8594-3886f6e1e680"
      },
      "source": [
        "soumission = pd.DataFrame({\"review_id\": df_test['review_id'], \"prediction\": y_pred_test})\n",
        "\n",
        "soumission['prediction'] = soumission['prediction'].astype('bool')\n",
        "soumission['review_id'] = soumission['review_id'].astype('str')\n",
        "\n",
        "soumission.head().dtypes\n",
        "\n",
        "soumission.to_csv('/content/drive/My Drive/Hackathon-Capgemini/submissions/submission_miguel2.csv', index=False)"
      ],
      "execution_count": null,
      "outputs": [
        {
          "output_type": "error",
          "ename": "KeyError",
          "evalue": "ignored",
          "traceback": [
            "\u001b[0;31m---------------------------------------------------------------------------\u001b[0m",
            "\u001b[0;31mKeyError\u001b[0m                                  Traceback (most recent call last)",
            "\u001b[0;32m/usr/local/lib/python3.6/dist-packages/pandas/core/indexes/base.py\u001b[0m in \u001b[0;36mget_loc\u001b[0;34m(self, key, method, tolerance)\u001b[0m\n\u001b[1;32m   2896\u001b[0m             \u001b[0;32mtry\u001b[0m\u001b[0;34m:\u001b[0m\u001b[0;34m\u001b[0m\u001b[0;34m\u001b[0m\u001b[0m\n\u001b[0;32m-> 2897\u001b[0;31m                 \u001b[0;32mreturn\u001b[0m \u001b[0mself\u001b[0m\u001b[0;34m.\u001b[0m\u001b[0m_engine\u001b[0m\u001b[0;34m.\u001b[0m\u001b[0mget_loc\u001b[0m\u001b[0;34m(\u001b[0m\u001b[0mkey\u001b[0m\u001b[0;34m)\u001b[0m\u001b[0;34m\u001b[0m\u001b[0;34m\u001b[0m\u001b[0m\n\u001b[0m\u001b[1;32m   2898\u001b[0m             \u001b[0;32mexcept\u001b[0m \u001b[0mKeyError\u001b[0m\u001b[0;34m:\u001b[0m\u001b[0;34m\u001b[0m\u001b[0;34m\u001b[0m\u001b[0m\n",
            "\u001b[0;32mpandas/_libs/index.pyx\u001b[0m in \u001b[0;36mpandas._libs.index.IndexEngine.get_loc\u001b[0;34m()\u001b[0m\n",
            "\u001b[0;32mpandas/_libs/index.pyx\u001b[0m in \u001b[0;36mpandas._libs.index.IndexEngine.get_loc\u001b[0;34m()\u001b[0m\n",
            "\u001b[0;32mpandas/_libs/hashtable_class_helper.pxi\u001b[0m in \u001b[0;36mpandas._libs.hashtable.PyObjectHashTable.get_item\u001b[0;34m()\u001b[0m\n",
            "\u001b[0;32mpandas/_libs/hashtable_class_helper.pxi\u001b[0m in \u001b[0;36mpandas._libs.hashtable.PyObjectHashTable.get_item\u001b[0;34m()\u001b[0m\n",
            "\u001b[0;31mKeyError\u001b[0m: 'review_id'",
            "\nDuring handling of the above exception, another exception occurred:\n",
            "\u001b[0;31mKeyError\u001b[0m                                  Traceback (most recent call last)",
            "\u001b[0;32m<ipython-input-28-826cd817bdf7>\u001b[0m in \u001b[0;36m<module>\u001b[0;34m()\u001b[0m\n\u001b[0;32m----> 1\u001b[0;31m \u001b[0msoumission\u001b[0m \u001b[0;34m=\u001b[0m \u001b[0mpd\u001b[0m\u001b[0;34m.\u001b[0m\u001b[0mDataFrame\u001b[0m\u001b[0;34m(\u001b[0m\u001b[0;34m{\u001b[0m\u001b[0;34m\"review_id\"\u001b[0m\u001b[0;34m:\u001b[0m \u001b[0mdf_test\u001b[0m\u001b[0;34m[\u001b[0m\u001b[0;34m'review_id'\u001b[0m\u001b[0;34m]\u001b[0m\u001b[0;34m,\u001b[0m \u001b[0;34m\"prediction\"\u001b[0m\u001b[0;34m:\u001b[0m \u001b[0my_pred_test\u001b[0m\u001b[0;34m}\u001b[0m\u001b[0;34m)\u001b[0m\u001b[0;34m\u001b[0m\u001b[0;34m\u001b[0m\u001b[0m\n\u001b[0m\u001b[1;32m      2\u001b[0m \u001b[0;34m\u001b[0m\u001b[0m\n\u001b[1;32m      3\u001b[0m \u001b[0msoumission\u001b[0m\u001b[0;34m[\u001b[0m\u001b[0;34m'prediction'\u001b[0m\u001b[0;34m]\u001b[0m \u001b[0;34m=\u001b[0m \u001b[0msoumission\u001b[0m\u001b[0;34m[\u001b[0m\u001b[0;34m'prediction'\u001b[0m\u001b[0;34m]\u001b[0m\u001b[0;34m.\u001b[0m\u001b[0mastype\u001b[0m\u001b[0;34m(\u001b[0m\u001b[0;34m'bool'\u001b[0m\u001b[0;34m)\u001b[0m\u001b[0;34m\u001b[0m\u001b[0;34m\u001b[0m\u001b[0m\n\u001b[1;32m      4\u001b[0m \u001b[0msoumission\u001b[0m\u001b[0;34m[\u001b[0m\u001b[0;34m'review_id'\u001b[0m\u001b[0;34m]\u001b[0m \u001b[0;34m=\u001b[0m \u001b[0msoumission\u001b[0m\u001b[0;34m[\u001b[0m\u001b[0;34m'review_id'\u001b[0m\u001b[0;34m]\u001b[0m\u001b[0;34m.\u001b[0m\u001b[0mastype\u001b[0m\u001b[0;34m(\u001b[0m\u001b[0;34m'str'\u001b[0m\u001b[0;34m)\u001b[0m\u001b[0;34m\u001b[0m\u001b[0;34m\u001b[0m\u001b[0m\n\u001b[1;32m      5\u001b[0m \u001b[0;34m\u001b[0m\u001b[0m\n",
            "\u001b[0;32m/usr/local/lib/python3.6/dist-packages/pandas/core/frame.py\u001b[0m in \u001b[0;36m__getitem__\u001b[0;34m(self, key)\u001b[0m\n\u001b[1;32m   2993\u001b[0m             \u001b[0;32mif\u001b[0m \u001b[0mself\u001b[0m\u001b[0;34m.\u001b[0m\u001b[0mcolumns\u001b[0m\u001b[0;34m.\u001b[0m\u001b[0mnlevels\u001b[0m \u001b[0;34m>\u001b[0m \u001b[0;36m1\u001b[0m\u001b[0;34m:\u001b[0m\u001b[0;34m\u001b[0m\u001b[0;34m\u001b[0m\u001b[0m\n\u001b[1;32m   2994\u001b[0m                 \u001b[0;32mreturn\u001b[0m \u001b[0mself\u001b[0m\u001b[0;34m.\u001b[0m\u001b[0m_getitem_multilevel\u001b[0m\u001b[0;34m(\u001b[0m\u001b[0mkey\u001b[0m\u001b[0;34m)\u001b[0m\u001b[0;34m\u001b[0m\u001b[0;34m\u001b[0m\u001b[0m\n\u001b[0;32m-> 2995\u001b[0;31m             \u001b[0mindexer\u001b[0m \u001b[0;34m=\u001b[0m \u001b[0mself\u001b[0m\u001b[0;34m.\u001b[0m\u001b[0mcolumns\u001b[0m\u001b[0;34m.\u001b[0m\u001b[0mget_loc\u001b[0m\u001b[0;34m(\u001b[0m\u001b[0mkey\u001b[0m\u001b[0;34m)\u001b[0m\u001b[0;34m\u001b[0m\u001b[0;34m\u001b[0m\u001b[0m\n\u001b[0m\u001b[1;32m   2996\u001b[0m             \u001b[0;32mif\u001b[0m \u001b[0mis_integer\u001b[0m\u001b[0;34m(\u001b[0m\u001b[0mindexer\u001b[0m\u001b[0;34m)\u001b[0m\u001b[0;34m:\u001b[0m\u001b[0;34m\u001b[0m\u001b[0;34m\u001b[0m\u001b[0m\n\u001b[1;32m   2997\u001b[0m                 \u001b[0mindexer\u001b[0m \u001b[0;34m=\u001b[0m \u001b[0;34m[\u001b[0m\u001b[0mindexer\u001b[0m\u001b[0;34m]\u001b[0m\u001b[0;34m\u001b[0m\u001b[0;34m\u001b[0m\u001b[0m\n",
            "\u001b[0;32m/usr/local/lib/python3.6/dist-packages/pandas/core/indexes/base.py\u001b[0m in \u001b[0;36mget_loc\u001b[0;34m(self, key, method, tolerance)\u001b[0m\n\u001b[1;32m   2897\u001b[0m                 \u001b[0;32mreturn\u001b[0m \u001b[0mself\u001b[0m\u001b[0;34m.\u001b[0m\u001b[0m_engine\u001b[0m\u001b[0;34m.\u001b[0m\u001b[0mget_loc\u001b[0m\u001b[0;34m(\u001b[0m\u001b[0mkey\u001b[0m\u001b[0;34m)\u001b[0m\u001b[0;34m\u001b[0m\u001b[0;34m\u001b[0m\u001b[0m\n\u001b[1;32m   2898\u001b[0m             \u001b[0;32mexcept\u001b[0m \u001b[0mKeyError\u001b[0m\u001b[0;34m:\u001b[0m\u001b[0;34m\u001b[0m\u001b[0;34m\u001b[0m\u001b[0m\n\u001b[0;32m-> 2899\u001b[0;31m                 \u001b[0;32mreturn\u001b[0m \u001b[0mself\u001b[0m\u001b[0;34m.\u001b[0m\u001b[0m_engine\u001b[0m\u001b[0;34m.\u001b[0m\u001b[0mget_loc\u001b[0m\u001b[0;34m(\u001b[0m\u001b[0mself\u001b[0m\u001b[0;34m.\u001b[0m\u001b[0m_maybe_cast_indexer\u001b[0m\u001b[0;34m(\u001b[0m\u001b[0mkey\u001b[0m\u001b[0;34m)\u001b[0m\u001b[0;34m)\u001b[0m\u001b[0;34m\u001b[0m\u001b[0;34m\u001b[0m\u001b[0m\n\u001b[0m\u001b[1;32m   2900\u001b[0m         \u001b[0mindexer\u001b[0m \u001b[0;34m=\u001b[0m \u001b[0mself\u001b[0m\u001b[0;34m.\u001b[0m\u001b[0mget_indexer\u001b[0m\u001b[0;34m(\u001b[0m\u001b[0;34m[\u001b[0m\u001b[0mkey\u001b[0m\u001b[0;34m]\u001b[0m\u001b[0;34m,\u001b[0m \u001b[0mmethod\u001b[0m\u001b[0;34m=\u001b[0m\u001b[0mmethod\u001b[0m\u001b[0;34m,\u001b[0m \u001b[0mtolerance\u001b[0m\u001b[0;34m=\u001b[0m\u001b[0mtolerance\u001b[0m\u001b[0;34m)\u001b[0m\u001b[0;34m\u001b[0m\u001b[0;34m\u001b[0m\u001b[0m\n\u001b[1;32m   2901\u001b[0m         \u001b[0;32mif\u001b[0m \u001b[0mindexer\u001b[0m\u001b[0;34m.\u001b[0m\u001b[0mndim\u001b[0m \u001b[0;34m>\u001b[0m \u001b[0;36m1\u001b[0m \u001b[0;32mor\u001b[0m \u001b[0mindexer\u001b[0m\u001b[0;34m.\u001b[0m\u001b[0msize\u001b[0m \u001b[0;34m>\u001b[0m \u001b[0;36m1\u001b[0m\u001b[0;34m:\u001b[0m\u001b[0;34m\u001b[0m\u001b[0;34m\u001b[0m\u001b[0m\n",
            "\u001b[0;32mpandas/_libs/index.pyx\u001b[0m in \u001b[0;36mpandas._libs.index.IndexEngine.get_loc\u001b[0;34m()\u001b[0m\n",
            "\u001b[0;32mpandas/_libs/index.pyx\u001b[0m in \u001b[0;36mpandas._libs.index.IndexEngine.get_loc\u001b[0;34m()\u001b[0m\n",
            "\u001b[0;32mpandas/_libs/hashtable_class_helper.pxi\u001b[0m in \u001b[0;36mpandas._libs.hashtable.PyObjectHashTable.get_item\u001b[0;34m()\u001b[0m\n",
            "\u001b[0;32mpandas/_libs/hashtable_class_helper.pxi\u001b[0m in \u001b[0;36mpandas._libs.hashtable.PyObjectHashTable.get_item\u001b[0;34m()\u001b[0m\n",
            "\u001b[0;31mKeyError\u001b[0m: 'review_id'"
          ]
        }
      ]
    },
    {
      "cell_type": "markdown",
      "metadata": {
        "id": "4byXi6_xB3_T",
        "colab_type": "text"
      },
      "source": [
        "# 9. Model Interpretability - Do not consider for kaggle competition"
      ]
    },
    {
      "cell_type": "code",
      "metadata": {
        "id": "N9SPglXmB3_U",
        "colab_type": "code",
        "colab": {}
      },
      "source": [
        "class_names = [0, 1]\n",
        "explainer = LimeTextExplainer(class_names=class_names)\n",
        "\n",
        "def lime_model_interpreter(clf, idx, n_features):\n",
        "    text_idx = x_val.iloc[idx]\n",
        "    target_idx = y_val.iloc[idx]\n",
        "\n",
        "    exp = explainer.explain_instance(text_idx, clf.predict_proba, num_features=n_features)\n",
        "    print('Document id: %d' % idx)\n",
        "    print('Probability(True) =', clf.predict_proba([text_idx])[0,1])\n",
        "    print('True class: %s' % class_names[target_idx])\n",
        "\n",
        "    exp.show_in_notebook(text=True)"
      ],
      "execution_count": null,
      "outputs": []
    },
    {
      "cell_type": "code",
      "metadata": {
        "id": "vT_wNU_eB3_W",
        "colab_type": "code",
        "colab": {},
        "outputId": "e7d7b717-feb0-46cc-9f59-4688c2c3ea67"
      },
      "source": [
        "lime_model_interpreter(pipeline, 2, n_features=6) "
      ],
      "execution_count": null,
      "outputs": [
        {
          "output_type": "error",
          "ename": "NameError",
          "evalue": "name 'x_val' is not defined",
          "traceback": [
            "\u001b[0;31m---------------------------------------------------------------------------\u001b[0m",
            "\u001b[0;31mNameError\u001b[0m                                 Traceback (most recent call last)",
            "\u001b[0;32m<ipython-input-16-e460e58315e2>\u001b[0m in \u001b[0;36m<module>\u001b[0;34m\u001b[0m\n\u001b[0;32m----> 1\u001b[0;31m \u001b[0mlime_model_interpreter\u001b[0m\u001b[0;34m(\u001b[0m\u001b[0mpipeline\u001b[0m\u001b[0;34m,\u001b[0m \u001b[0;36m2\u001b[0m\u001b[0;34m,\u001b[0m \u001b[0mn_features\u001b[0m\u001b[0;34m=\u001b[0m\u001b[0;36m6\u001b[0m\u001b[0;34m)\u001b[0m\u001b[0;34m\u001b[0m\u001b[0m\n\u001b[0m",
            "\u001b[0;32m<ipython-input-15-85800eda6475>\u001b[0m in \u001b[0;36mlime_model_interpreter\u001b[0;34m(clf, idx, n_features)\u001b[0m\n\u001b[1;32m      3\u001b[0m \u001b[0;34m\u001b[0m\u001b[0m\n\u001b[1;32m      4\u001b[0m \u001b[0;32mdef\u001b[0m \u001b[0mlime_model_interpreter\u001b[0m\u001b[0;34m(\u001b[0m\u001b[0mclf\u001b[0m\u001b[0;34m,\u001b[0m \u001b[0midx\u001b[0m\u001b[0;34m,\u001b[0m \u001b[0mn_features\u001b[0m\u001b[0;34m)\u001b[0m\u001b[0;34m:\u001b[0m\u001b[0;34m\u001b[0m\u001b[0m\n\u001b[0;32m----> 5\u001b[0;31m     \u001b[0mtext_idx\u001b[0m \u001b[0;34m=\u001b[0m \u001b[0mx_val\u001b[0m\u001b[0;34m.\u001b[0m\u001b[0miloc\u001b[0m\u001b[0;34m[\u001b[0m\u001b[0midx\u001b[0m\u001b[0;34m]\u001b[0m\u001b[0;34m\u001b[0m\u001b[0m\n\u001b[0m\u001b[1;32m      6\u001b[0m     \u001b[0mtarget_idx\u001b[0m \u001b[0;34m=\u001b[0m \u001b[0my_val\u001b[0m\u001b[0;34m.\u001b[0m\u001b[0miloc\u001b[0m\u001b[0;34m[\u001b[0m\u001b[0midx\u001b[0m\u001b[0;34m]\u001b[0m\u001b[0;34m\u001b[0m\u001b[0m\n\u001b[1;32m      7\u001b[0m \u001b[0;34m\u001b[0m\u001b[0m\n",
            "\u001b[0;31mNameError\u001b[0m: name 'x_val' is not defined"
          ]
        }
      ]
    },
    {
      "cell_type": "code",
      "metadata": {
        "id": "eWNK08ozB3_a",
        "colab_type": "code",
        "colab": {},
        "outputId": "780b9640-5394-469a-a3b6-f1a16c3cf0b9"
      },
      "source": [
        "lime_model_interpreter(pipeline, 7, n_features=6) "
      ],
      "execution_count": null,
      "outputs": [
        {
          "output_type": "error",
          "ename": "NameError",
          "evalue": "name 'x_val' is not defined",
          "traceback": [
            "\u001b[0;31m---------------------------------------------------------------------------\u001b[0m",
            "\u001b[0;31mNameError\u001b[0m                                 Traceback (most recent call last)",
            "\u001b[0;32m<ipython-input-17-8e2a0be2943f>\u001b[0m in \u001b[0;36m<module>\u001b[0;34m\u001b[0m\n\u001b[0;32m----> 1\u001b[0;31m \u001b[0mlime_model_interpreter\u001b[0m\u001b[0;34m(\u001b[0m\u001b[0mpipeline\u001b[0m\u001b[0;34m,\u001b[0m \u001b[0;36m7\u001b[0m\u001b[0;34m,\u001b[0m \u001b[0mn_features\u001b[0m\u001b[0;34m=\u001b[0m\u001b[0;36m6\u001b[0m\u001b[0;34m)\u001b[0m\u001b[0;34m\u001b[0m\u001b[0m\n\u001b[0m",
            "\u001b[0;32m<ipython-input-15-85800eda6475>\u001b[0m in \u001b[0;36mlime_model_interpreter\u001b[0;34m(clf, idx, n_features)\u001b[0m\n\u001b[1;32m      3\u001b[0m \u001b[0;34m\u001b[0m\u001b[0m\n\u001b[1;32m      4\u001b[0m \u001b[0;32mdef\u001b[0m \u001b[0mlime_model_interpreter\u001b[0m\u001b[0;34m(\u001b[0m\u001b[0mclf\u001b[0m\u001b[0;34m,\u001b[0m \u001b[0midx\u001b[0m\u001b[0;34m,\u001b[0m \u001b[0mn_features\u001b[0m\u001b[0;34m)\u001b[0m\u001b[0;34m:\u001b[0m\u001b[0;34m\u001b[0m\u001b[0m\n\u001b[0;32m----> 5\u001b[0;31m     \u001b[0mtext_idx\u001b[0m \u001b[0;34m=\u001b[0m \u001b[0mx_val\u001b[0m\u001b[0;34m.\u001b[0m\u001b[0miloc\u001b[0m\u001b[0;34m[\u001b[0m\u001b[0midx\u001b[0m\u001b[0;34m]\u001b[0m\u001b[0;34m\u001b[0m\u001b[0m\n\u001b[0m\u001b[1;32m      6\u001b[0m     \u001b[0mtarget_idx\u001b[0m \u001b[0;34m=\u001b[0m \u001b[0my_val\u001b[0m\u001b[0;34m.\u001b[0m\u001b[0miloc\u001b[0m\u001b[0;34m[\u001b[0m\u001b[0midx\u001b[0m\u001b[0;34m]\u001b[0m\u001b[0;34m\u001b[0m\u001b[0m\n\u001b[1;32m      7\u001b[0m \u001b[0;34m\u001b[0m\u001b[0m\n",
            "\u001b[0;31mNameError\u001b[0m: name 'x_val' is not defined"
          ]
        }
      ]
    }
  ]
}