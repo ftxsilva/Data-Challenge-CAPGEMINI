{
  "nbformat": 4,
  "nbformat_minor": 0,
  "metadata": {
    "kernelspec": {
      "name": "python3",
      "display_name": "Python 3"
    },
    "language_info": {
      "codemirror_mode": {
        "name": "ipython",
        "version": 3
      },
      "file_extension": ".py",
      "mimetype": "text/x-python",
      "name": "python",
      "nbconvert_exporter": "python",
      "pygments_lexer": "ipython3",
      "version": "3.6.6"
    },
    "colab": {
      "name": "Lemmatize_Filter.ipynb",
      "provenance": [],
      "collapsed_sections": [],
      "machine_shape": "hm",
      "include_colab_link": true
    },
    "accelerator": "GPU"
  },
  "cells": [
    {
      "cell_type": "markdown",
      "metadata": {
        "id": "view-in-github",
        "colab_type": "text"
      },
      "source": [
        "<a href=\"https://colab.research.google.com/github/ftxsilva/Data-Challenge-CAPGEMINI/blob/master/Lemmatize_Filter.ipynb\" target=\"_parent\"><img src=\"https://colab.research.google.com/assets/colab-badge.svg\" alt=\"Open In Colab\"/></a>"
      ]
    },
    {
      "cell_type": "markdown",
      "metadata": {
        "id": "dfGPhHI0B392",
        "colab_type": "text"
      },
      "source": [
        "# Hackathon Supaero - Restaurants ratings prediction\n",
        "\n",
        "Predict Yelp restaurants ratings from associated reviews, data about users and restaurants# 0. Packages"
      ]
    },
    {
      "cell_type": "markdown",
      "metadata": {
        "id": "aspGyKtbB396",
        "colab_type": "text"
      },
      "source": [
        "# 0. Packages"
      ]
    },
    {
      "cell_type": "code",
      "metadata": {
        "_cell_guid": "79c7e3d0-c299-4dcb-8224-4455121ee9b0",
        "_uuid": "d629ff2d2480ee46fbb7e2d37f6b5fab8052498a",
        "collapsed": true,
        "id": "ST7vfgc5B397",
        "colab_type": "code",
        "colab": {
          "base_uri": "https://localhost:8080/",
          "height": 346
        },
        "outputId": "bc297631-098c-47e0-edd5-e60825736657"
      },
      "source": [
        "import pandas as pd\n",
        "import numpy as np\n",
        "from sklearn.model_selection import train_test_split\n",
        "from sklearn.linear_model import LogisticRegression\n",
        "from sklearn.feature_extraction.text import CountVectorizer\n",
        "from sklearn.pipeline import Pipeline\n",
        "from sklearn.metrics import accuracy_score, f1_score, confusion_matrix, classification_report\n",
        "from sklearn.preprocessing import MinMaxScaler\n",
        "!pip install lime\n",
        "from lime.lime_text import LimeTextExplainer\n",
        "import string\n",
        "import seaborn as sns\n",
        "import matplotlib.pyplot as plt"
      ],
      "execution_count": null,
      "outputs": [
        {
          "output_type": "stream",
          "text": [
            "Requirement already satisfied: lime in /usr/local/lib/python3.6/dist-packages (0.1.1.37)\n",
            "Requirement already satisfied: scikit-learn>=0.18 in /usr/local/lib/python3.6/dist-packages (from lime) (0.22.2.post1)\n",
            "Requirement already satisfied: progressbar in /usr/local/lib/python3.6/dist-packages (from lime) (2.5)\n",
            "Requirement already satisfied: matplotlib; python_version >= \"3.0\" in /usr/local/lib/python3.6/dist-packages (from lime) (3.2.1)\n",
            "Requirement already satisfied: numpy in /usr/local/lib/python3.6/dist-packages (from lime) (1.18.2)\n",
            "Requirement already satisfied: scikit-image>=0.12; python_version >= \"3.0\" in /usr/local/lib/python3.6/dist-packages (from lime) (0.16.2)\n",
            "Requirement already satisfied: scipy in /usr/local/lib/python3.6/dist-packages (from lime) (1.4.1)\n",
            "Requirement already satisfied: joblib>=0.11 in /usr/local/lib/python3.6/dist-packages (from scikit-learn>=0.18->lime) (0.14.1)\n",
            "Requirement already satisfied: kiwisolver>=1.0.1 in /usr/local/lib/python3.6/dist-packages (from matplotlib; python_version >= \"3.0\"->lime) (1.1.0)\n",
            "Requirement already satisfied: python-dateutil>=2.1 in /usr/local/lib/python3.6/dist-packages (from matplotlib; python_version >= \"3.0\"->lime) (2.8.1)\n",
            "Requirement already satisfied: cycler>=0.10 in /usr/local/lib/python3.6/dist-packages (from matplotlib; python_version >= \"3.0\"->lime) (0.10.0)\n",
            "Requirement already satisfied: pyparsing!=2.0.4,!=2.1.2,!=2.1.6,>=2.0.1 in /usr/local/lib/python3.6/dist-packages (from matplotlib; python_version >= \"3.0\"->lime) (2.4.6)\n",
            "Requirement already satisfied: PyWavelets>=0.4.0 in /usr/local/lib/python3.6/dist-packages (from scikit-image>=0.12; python_version >= \"3.0\"->lime) (1.1.1)\n",
            "Requirement already satisfied: imageio>=2.3.0 in /usr/local/lib/python3.6/dist-packages (from scikit-image>=0.12; python_version >= \"3.0\"->lime) (2.4.1)\n",
            "Requirement already satisfied: networkx>=2.0 in /usr/local/lib/python3.6/dist-packages (from scikit-image>=0.12; python_version >= \"3.0\"->lime) (2.4)\n",
            "Requirement already satisfied: pillow>=4.3.0 in /usr/local/lib/python3.6/dist-packages (from scikit-image>=0.12; python_version >= \"3.0\"->lime) (7.0.0)\n",
            "Requirement already satisfied: setuptools in /usr/local/lib/python3.6/dist-packages (from kiwisolver>=1.0.1->matplotlib; python_version >= \"3.0\"->lime) (46.0.0)\n",
            "Requirement already satisfied: six>=1.5 in /usr/local/lib/python3.6/dist-packages (from python-dateutil>=2.1->matplotlib; python_version >= \"3.0\"->lime) (1.12.0)\n",
            "Requirement already satisfied: decorator>=4.3.0 in /usr/local/lib/python3.6/dist-packages (from networkx>=2.0->scikit-image>=0.12; python_version >= \"3.0\"->lime) (4.4.2)\n"
          ],
          "name": "stdout"
        }
      ]
    },
    {
      "cell_type": "markdown",
      "metadata": {
        "id": "W1opo9wJB3-D",
        "colab_type": "text"
      },
      "source": [
        "# 1. Data"
      ]
    },
    {
      "cell_type": "code",
      "metadata": {
        "id": "iVpKct9CD8WB",
        "colab_type": "code",
        "colab": {
          "base_uri": "https://localhost:8080/",
          "height": 33
        },
        "outputId": "9c9b729c-3485-4faa-f532-19a2f7984478"
      },
      "source": [
        "from google.colab import drive\n",
        "drive.mount('/content/drive', force_remount=True)"
      ],
      "execution_count": null,
      "outputs": [
        {
          "output_type": "stream",
          "text": [
            "Mounted at /content/drive\n"
          ],
          "name": "stdout"
        }
      ]
    },
    {
      "cell_type": "code",
      "metadata": {
        "id": "TVi_m6pSB3-E",
        "colab_type": "code",
        "colab": {}
      },
      "source": [
        "df = pd.read_csv(\"/content/drive/My Drive/Hackathon-Capgemini/data/train_set.csv\")\n",
        "df_test = pd.read_csv(\"/content/drive/My Drive/Hackathon-Capgemini/data/test_set.csv\")"
      ],
      "execution_count": null,
      "outputs": []
    },
    {
      "cell_type": "code",
      "metadata": {
        "id": "fm9du72cB3-N",
        "colab_type": "code",
        "colab": {}
      },
      "source": [
        "df = df.dropna(subset=[\"review\"]) # only analysis with review"
      ],
      "execution_count": null,
      "outputs": []
    },
    {
      "cell_type": "code",
      "metadata": {
        "id": "LsEuiq3jRi2b",
        "colab_type": "code",
        "colab": {
          "base_uri": "https://localhost:8080/",
          "height": 66
        },
        "outputId": "ac03bc83-00b9-4963-db9a-a60e25e804ee"
      },
      "source": [
        "print(df['useful_user'].quantile(0.25))\n",
        "print(df['useful_user'].quantile(0.5))\n",
        "print(df['useful_user'].mean())"
      ],
      "execution_count": null,
      "outputs": [
        {
          "output_type": "stream",
          "text": [
            "6.0\n",
            "29.0\n",
            "552.1535579431832\n"
          ],
          "name": "stdout"
        }
      ]
    },
    {
      "cell_type": "code",
      "metadata": {
        "id": "JpsK17XoWS1y",
        "colab_type": "code",
        "colab": {
          "base_uri": "https://localhost:8080/",
          "height": 66
        },
        "outputId": "e92aae05-b1cc-4b0e-967f-53d449ee4ade"
      },
      "source": [
        "print(df['useful_review'].quantile(0.25))\n",
        "print(df['useful_review'].quantile(0.5))\n",
        "print(df['useful_review'].mean())"
      ],
      "execution_count": null,
      "outputs": [
        {
          "output_type": "stream",
          "text": [
            "0.0\n",
            "0.0\n",
            "1.1570299965968205\n"
          ],
          "name": "stdout"
        }
      ]
    },
    {
      "cell_type": "markdown",
      "metadata": {
        "id": "CWXfsWi-B3-S",
        "colab_type": "text"
      },
      "source": [
        "# 2. Data Split"
      ]
    },
    {
      "cell_type": "code",
      "metadata": {
        "id": "6j6teIiEB3-T",
        "colab_type": "code",
        "colab": {}
      },
      "source": [
        "df_train, df_val = train_test_split(\n",
        "    df, \n",
        "    test_size=0.2, \n",
        "    random_state=0, \n",
        "    stratify=df['binary_target'] # keep same proportion of dataset\n",
        ")"
      ],
      "execution_count": null,
      "outputs": []
    },
    {
      "cell_type": "markdown",
      "metadata": {
        "id": "QkQRg3ViB3-Z",
        "colab_type": "text"
      },
      "source": [
        "# 3. Cleaning"
      ]
    },
    {
      "cell_type": "code",
      "metadata": {
        "id": "Ua29x7G5h3jb",
        "colab_type": "code",
        "colab": {
          "base_uri": "https://localhost:8080/",
          "height": 813
        },
        "outputId": "a84640e8-685b-4fe5-9097-2e7266442a8b"
      },
      "source": [
        "import nltk\n",
        "nltk.download(\"popular\")"
      ],
      "execution_count": null,
      "outputs": [
        {
          "output_type": "stream",
          "text": [
            "[nltk_data] Downloading collection 'popular'\n",
            "[nltk_data]    | \n",
            "[nltk_data]    | Downloading package cmudict to /root/nltk_data...\n",
            "[nltk_data]    |   Package cmudict is already up-to-date!\n",
            "[nltk_data]    | Downloading package gazetteers to /root/nltk_data...\n",
            "[nltk_data]    |   Package gazetteers is already up-to-date!\n",
            "[nltk_data]    | Downloading package genesis to /root/nltk_data...\n",
            "[nltk_data]    |   Package genesis is already up-to-date!\n",
            "[nltk_data]    | Downloading package gutenberg to /root/nltk_data...\n",
            "[nltk_data]    |   Package gutenberg is already up-to-date!\n",
            "[nltk_data]    | Downloading package inaugural to /root/nltk_data...\n",
            "[nltk_data]    |   Package inaugural is already up-to-date!\n",
            "[nltk_data]    | Downloading package movie_reviews to\n",
            "[nltk_data]    |     /root/nltk_data...\n",
            "[nltk_data]    |   Package movie_reviews is already up-to-date!\n",
            "[nltk_data]    | Downloading package names to /root/nltk_data...\n",
            "[nltk_data]    |   Package names is already up-to-date!\n",
            "[nltk_data]    | Downloading package shakespeare to /root/nltk_data...\n",
            "[nltk_data]    |   Package shakespeare is already up-to-date!\n",
            "[nltk_data]    | Downloading package stopwords to /root/nltk_data...\n",
            "[nltk_data]    |   Package stopwords is already up-to-date!\n",
            "[nltk_data]    | Downloading package treebank to /root/nltk_data...\n",
            "[nltk_data]    |   Package treebank is already up-to-date!\n",
            "[nltk_data]    | Downloading package twitter_samples to\n",
            "[nltk_data]    |     /root/nltk_data...\n",
            "[nltk_data]    |   Package twitter_samples is already up-to-date!\n",
            "[nltk_data]    | Downloading package omw to /root/nltk_data...\n",
            "[nltk_data]    |   Package omw is already up-to-date!\n",
            "[nltk_data]    | Downloading package wordnet to /root/nltk_data...\n",
            "[nltk_data]    |   Package wordnet is already up-to-date!\n",
            "[nltk_data]    | Downloading package wordnet_ic to /root/nltk_data...\n",
            "[nltk_data]    |   Package wordnet_ic is already up-to-date!\n",
            "[nltk_data]    | Downloading package words to /root/nltk_data...\n",
            "[nltk_data]    |   Package words is already up-to-date!\n",
            "[nltk_data]    | Downloading package maxent_ne_chunker to\n",
            "[nltk_data]    |     /root/nltk_data...\n",
            "[nltk_data]    |   Package maxent_ne_chunker is already up-to-date!\n",
            "[nltk_data]    | Downloading package punkt to /root/nltk_data...\n",
            "[nltk_data]    |   Package punkt is already up-to-date!\n",
            "[nltk_data]    | Downloading package snowball_data to\n",
            "[nltk_data]    |     /root/nltk_data...\n",
            "[nltk_data]    |   Package snowball_data is already up-to-date!\n",
            "[nltk_data]    | Downloading package averaged_perceptron_tagger to\n",
            "[nltk_data]    |     /root/nltk_data...\n",
            "[nltk_data]    |   Package averaged_perceptron_tagger is already up-\n",
            "[nltk_data]    |       to-date!\n",
            "[nltk_data]    | \n",
            "[nltk_data]  Done downloading collection popular\n"
          ],
          "name": "stdout"
        },
        {
          "output_type": "execute_result",
          "data": {
            "text/plain": [
              "True"
            ]
          },
          "metadata": {
            "tags": []
          },
          "execution_count": 82
        }
      ]
    },
    {
      "cell_type": "code",
      "metadata": {
        "id": "sQT8SFDuB3-a",
        "colab_type": "code",
        "colab": {}
      },
      "source": [
        "from string import punctuation\n",
        "\n",
        "from nltk.corpus import stopwords\n",
        "\n",
        "from nltk.tokenize import RegexpTokenizer\n",
        "from nltk import wordpunct_tokenize\n",
        "\n",
        "from nltk.stem import WordNetLemmatizer\n",
        "from nltk.stem.porter import PorterStemmer\n",
        "\n",
        "stopw = set(stopwords.words('english'))\n",
        "\n",
        "# Lowercase\n",
        "def convert_text_to_lowercase(df, colname):\n",
        "    df[colname] = df[colname].str.lower()\n",
        "    return df\n",
        "    \n",
        "# Remove punctuation\n",
        "def remove_punctuation(df,colname):\n",
        "\n",
        "    def without_punctuation(text):\n",
        "      return ''.join([c for c in text if c not in punctuation])\n",
        "\n",
        "    df[colname] = df[colname].apply(lambda review: without_punctuation(review))\n",
        "    return df\n",
        "\n",
        "# Tokenize\n",
        "def tokenize(df,colname):\n",
        "\n",
        "    tokenizer = RegexpTokenizer(r'\\w+')\n",
        "    df[colname] = df[colname].apply(lambda review: tokenizer.tokenize(review))\n",
        "    return df\n",
        "\n",
        "# Remove stopwords - low predictive power\n",
        "def remove_stopwords(df, colname):\n",
        "\n",
        "    def without_stopwords(token):\n",
        "      return [w for w in token if w not in stopw]\n",
        "\n",
        "    df[colname] = df[colname].apply(lambda review: without_stopwords(review))\n",
        "    return df\n",
        "\n",
        "# Remove 1-character words\n",
        "def remove_1char_words(df, colname):\n",
        "  \n",
        "    def without_1char_words(token):\n",
        "      # return [w for w in token if len(w)>1]\n",
        "      return ' '.join([w for w in token if len(w)>1])\n",
        "\n",
        "    df[colname] = df[colname].apply(lambda review: without_1char_words(review))\n",
        "    return df\n",
        "\n",
        "# Remove non-alpha\n",
        "def remove_non_alpha_words(df, colname):\n",
        "  \n",
        "    def without_non_alpha_words(text):\n",
        "      return ' '.join([w for w in text.split() if w.isalpha()])\n",
        "\n",
        "    df[colname] = df[colname].apply(lambda review: without_non_alpha_words(review))\n",
        "    return df\n",
        "\n",
        "# Lemmatizing\n",
        "def lemmatize(df,colname):\n",
        "\n",
        "    lemmatizer = WordNetLemmatizer()\n",
        "\n",
        "    def word_lemmatizer(text):\n",
        "      return ' '.join([lemmatizer.lemmatize(w) for w in text.split()])\n",
        "\n",
        "    df[colname] = df[colname].apply(lambda review: word_lemmatizer(review))\n",
        "    return df\n",
        "\n",
        "# OR Stemming\n",
        "def stem(df,colname):\n",
        "\n",
        "    stemmer = PorterStemmer()\n",
        "\n",
        "    def word_stemmer(text):\n",
        "      return ' '.join([stemmer.stem(w) for w in text.split()])\n",
        "\n",
        "    df[colname] = df[colname].apply(lambda review: word_stemmer(review))\n",
        "    return df\n",
        "\n",
        "\n",
        "def text_cleaning(df, colname):\n",
        "    \"\"\"\n",
        "    Takes in a string of text, then performs the following:\n",
        "    1. convert text to lowercase\n",
        "    2. ??\n",
        "    \"\"\"\n",
        "    df = (\n",
        "        df.pipe(convert_text_to_lowercase, colname)\n",
        "        .pipe(remove_punctuation, colname)\n",
        "        .pipe(tokenize, colname)\n",
        "        .pipe(remove_stopwords, colname)\n",
        "        .pipe(remove_1char_words, colname)\n",
        "        #.pipe(remove_non_alpha_words, colname)\n",
        "\n",
        "        # Choose one\n",
        "        .pipe(lemmatize, colname)\n",
        "        #.pipe(stem, colname)\n",
        "    )\n",
        "    return df"
      ],
      "execution_count": null,
      "outputs": []
    },
    {
      "cell_type": "code",
      "metadata": {
        "id": "_5_WdoshMhwq",
        "colab_type": "code",
        "colab": {
          "base_uri": "https://localhost:8080/",
          "height": 53
        },
        "outputId": "a57cccb0-5c84-4f88-91a6-5ed3ce22ae51"
      },
      "source": [
        "\n",
        "# No filter\n",
        "df_train_filter = df_train[['review', 'binary_target']]\n",
        "\n",
        "'''\n",
        "# Filter \"on Strip\" - not good\n",
        "\n",
        "df_train['address'].fillna('', inplace=True)\n",
        "df_train['in_Strip'] = df_train['address'].str.contains('Las Vegas Blvd').astype(int)\n",
        "\n",
        "df_train_filter = df_train[df_train['in_Strip'] == 1]\n",
        "\n",
        "\n",
        "# Filter on useful review\n",
        "df_train_filter = df_train[df_train['useful_review'] >= 1]\n",
        "'''"
      ],
      "execution_count": null,
      "outputs": [
        {
          "output_type": "execute_result",
          "data": {
            "text/plain": [
              "'\\n# Filter \"on Strip\" - not good\\n\\ndf_train[\\'address\\'].fillna(\\'\\', inplace=True)\\ndf_train[\\'in_Strip\\'] = df_train[\\'address\\'].str.contains(\\'Las Vegas Blvd\\').astype(int)\\n\\ndf_train_filter = df_train[df_train[\\'in_Strip\\'] == 1]\\n\\n\\n# Filter on useful review\\ndf_train_filter = df_train[df_train[\\'useful_review\\'] >= 1]\\n'"
            ]
          },
          "metadata": {
            "tags": []
          },
          "execution_count": 84
        }
      ]
    },
    {
      "cell_type": "code",
      "metadata": {
        "id": "bLvLGTNRB3-f",
        "colab_type": "code",
        "colab": {
          "base_uri": "https://localhost:8080/",
          "height": 521
        },
        "outputId": "b735db91-00ae-4acf-dfbf-f3814ee2804a"
      },
      "source": [
        "df_train_clean = text_cleaning(df_train_filter, 'review')\n",
        "df_val_clean = text_cleaning(df_val, 'review')"
      ],
      "execution_count": null,
      "outputs": [
        {
          "output_type": "stream",
          "text": [
            "/usr/local/lib/python3.6/dist-packages/ipykernel_launcher.py:15: SettingWithCopyWarning: \n",
            "A value is trying to be set on a copy of a slice from a DataFrame.\n",
            "Try using .loc[row_indexer,col_indexer] = value instead\n",
            "\n",
            "See the caveats in the documentation: http://pandas.pydata.org/pandas-docs/stable/user_guide/indexing.html#returning-a-view-versus-a-copy\n",
            "  from ipykernel import kernelapp as app\n",
            "/usr/local/lib/python3.6/dist-packages/ipykernel_launcher.py:24: SettingWithCopyWarning: \n",
            "A value is trying to be set on a copy of a slice from a DataFrame.\n",
            "Try using .loc[row_indexer,col_indexer] = value instead\n",
            "\n",
            "See the caveats in the documentation: http://pandas.pydata.org/pandas-docs/stable/user_guide/indexing.html#returning-a-view-versus-a-copy\n",
            "/usr/local/lib/python3.6/dist-packages/ipykernel_launcher.py:31: SettingWithCopyWarning: \n",
            "A value is trying to be set on a copy of a slice from a DataFrame.\n",
            "Try using .loc[row_indexer,col_indexer] = value instead\n",
            "\n",
            "See the caveats in the documentation: http://pandas.pydata.org/pandas-docs/stable/user_guide/indexing.html#returning-a-view-versus-a-copy\n",
            "/usr/local/lib/python3.6/dist-packages/ipykernel_launcher.py:40: SettingWithCopyWarning: \n",
            "A value is trying to be set on a copy of a slice from a DataFrame.\n",
            "Try using .loc[row_indexer,col_indexer] = value instead\n",
            "\n",
            "See the caveats in the documentation: http://pandas.pydata.org/pandas-docs/stable/user_guide/indexing.html#returning-a-view-versus-a-copy\n",
            "/usr/local/lib/python3.6/dist-packages/ipykernel_launcher.py:50: SettingWithCopyWarning: \n",
            "A value is trying to be set on a copy of a slice from a DataFrame.\n",
            "Try using .loc[row_indexer,col_indexer] = value instead\n",
            "\n",
            "See the caveats in the documentation: http://pandas.pydata.org/pandas-docs/stable/user_guide/indexing.html#returning-a-view-versus-a-copy\n",
            "/usr/local/lib/python3.6/dist-packages/ipykernel_launcher.py:70: SettingWithCopyWarning: \n",
            "A value is trying to be set on a copy of a slice from a DataFrame.\n",
            "Try using .loc[row_indexer,col_indexer] = value instead\n",
            "\n",
            "See the caveats in the documentation: http://pandas.pydata.org/pandas-docs/stable/user_guide/indexing.html#returning-a-view-versus-a-copy\n"
          ],
          "name": "stderr"
        }
      ]
    },
    {
      "cell_type": "code",
      "metadata": {
        "id": "UVIGKF7BMS4e",
        "colab_type": "code",
        "colab": {}
      },
      "source": [
        ""
      ],
      "execution_count": null,
      "outputs": []
    },
    {
      "cell_type": "markdown",
      "metadata": {
        "id": "s365fXtLB3-k",
        "colab_type": "text"
      },
      "source": [
        "# 4. Feature Engineering\n",
        "## Be creative !"
      ]
    },
    {
      "cell_type": "markdown",
      "metadata": {
        "id": "o7TiuKH5B3-l",
        "colab_type": "text"
      },
      "source": [
        "# 5. Model"
      ]
    },
    {
      "cell_type": "markdown",
      "metadata": {
        "id": "YD2636TEB3-m",
        "colab_type": "text"
      },
      "source": [
        "## Vectorization & model initiation"
      ]
    },
    {
      "cell_type": "code",
      "metadata": {
        "id": "oAxuDbmjB3-o",
        "colab_type": "code",
        "colab": {}
      },
      "source": [
        "from sklearn.feature_extraction.text import TfidfVectorizer\n",
        "\n",
        "Count_Vectorizer = CountVectorizer(max_features=20000)\n",
        "tfidf = TfidfVectorizer(ngram_range = (1,2))\n",
        "\n",
        "logit = LogisticRegression(random_state=0, max_iter=500, C=10, class_weight = 'balanced')\n",
        "\n",
        "pipeline = Pipeline([\n",
        "    #('vectorizer', Count_Vectorizer),\n",
        "    ('vectorizer', tfidf),\n",
        "    ('model', logit)])"
      ],
      "execution_count": null,
      "outputs": []
    },
    {
      "cell_type": "markdown",
      "metadata": {
        "id": "2QkGJr6tB3-t",
        "colab_type": "text"
      },
      "source": [
        "## Model fit on train set"
      ]
    },
    {
      "cell_type": "code",
      "metadata": {
        "id": "e-31pym-B3-u",
        "colab_type": "code",
        "colab": {}
      },
      "source": [
        "x_train = df_train_clean['review']\n",
        "y_train = df_train_clean['binary_target']\n",
        "\n",
        "x_val = df_val_clean['review']\n",
        "y_val = df_val_clean['binary_target']"
      ],
      "execution_count": null,
      "outputs": []
    },
    {
      "cell_type": "code",
      "metadata": {
        "id": "EAjwzBaZWihz",
        "colab_type": "code",
        "colab": {
          "base_uri": "https://localhost:8080/",
          "height": 53
        },
        "outputId": "b5b3722d-5a2b-4f64-d8fd-24a0f97671f4"
      },
      "source": [
        "'''\n",
        "from sklearn.model_selection import GridSearchCV\n",
        "from pprint import pprint\n",
        "from time import time\n",
        "from sklearn.linear_model import SGDClassifier\n",
        "from sklearn.model_selection import KFold\n",
        "from sklearn.feature_extraction.text import TfidfVectorizer\n",
        "\n",
        "X = x_train\n",
        "y = y_train\n",
        "pipeline.fit(X, y)\n",
        "\n",
        "# frequency for document (whole review)\n",
        "parameters = {\n",
        "   'vectorizer__ngram_range': [(1, 2), (1, 3)],\n",
        "   'vectorizer__max_df': [1.0, 0.9, 0.8],\n",
        "   'vectorizer__min_df': [0.0, 0.05, 0.1],\n",
        "}\n",
        "\n",
        "grid_search = GridSearchCV(pipeline, parameters, \n",
        "                        cv=list(KFold(n_splits=2, shuffle=True).split(X)),\n",
        "                        verbose=1)\n",
        "\n",
        "print(\"Performing grid search...\")\n",
        "print(\"pipeline:\", [name for name, _ in pipeline.steps])\n",
        "print(\"parameters:\")\n",
        "pprint(parameters)\n",
        "t0 = time()\n",
        "grid_search.fit(X, y)\n",
        "print(\"done in %0.3fs\" % (time() - t0))\n",
        "print()\n",
        "\n",
        "print(\"Best score: %0.3f\" % grid_search.best_score_)\n",
        "print(\"Best parameters set:\")\n",
        "best_parameters = grid_search.best_estimator_\n",
        "\n",
        "y_pred = pipeline.predict(x_val)\n",
        "print(confusion_matrix(y_val, y_pred))\n",
        "print(classification_report(y_val, y_pred))\n",
        "'''"
      ],
      "execution_count": null,
      "outputs": [
        {
          "output_type": "execute_result",
          "data": {
            "text/plain": [
              "'\\nfrom sklearn.model_selection import GridSearchCV\\nfrom pprint import pprint\\nfrom time import time\\nfrom sklearn.linear_model import SGDClassifier\\nfrom sklearn.model_selection import KFold\\nfrom sklearn.feature_extraction.text import TfidfVectorizer\\n\\nX = x_train\\ny = y_train\\npipeline.fit(X, y)\\n\\n# frequency for document (whole review)\\nparameters = {\\n   \\'vectorizer__ngram_range\\': [(1, 2), (1, 3)],\\n   \\'vectorizer__max_df\\': [1.0, 0.9, 0.8],\\n   \\'vectorizer__min_df\\': [0.0, 0.05, 0.1],\\n}\\n\\ngrid_search = GridSearchCV(pipeline, parameters, \\n                        cv=list(KFold(n_splits=2, shuffle=True).split(X)),\\n                        verbose=1)\\n\\nprint(\"Performing grid search...\")\\nprint(\"pipeline:\", [name for name, _ in pipeline.steps])\\nprint(\"parameters:\")\\npprint(parameters)\\nt0 = time()\\ngrid_search.fit(X, y)\\nprint(\"done in %0.3fs\" % (time() - t0))\\nprint()\\n\\nprint(\"Best score: %0.3f\" % grid_search.best_score_)\\nprint(\"Best parameters set:\")\\nbest_parameters = grid_search.best_estimator_\\n\\ny_pred = pipeline.predict(x_val)\\nprint(confusion_matrix(y_val, y_pred))\\nprint(classification_report(y_val, y_pred))\\n'"
            ]
          },
          "metadata": {
            "tags": []
          },
          "execution_count": 88
        }
      ]
    },
    {
      "cell_type": "code",
      "metadata": {
        "id": "f2tgwnqVB3-0",
        "colab_type": "code",
        "colab": {
          "base_uri": "https://localhost:8080/",
          "height": 521
        },
        "outputId": "594182f1-b536-4d75-c849-5cb9d157bbed"
      },
      "source": [
        "pipeline.fit(x_train, y_train)"
      ],
      "execution_count": null,
      "outputs": [
        {
          "output_type": "stream",
          "text": [
            "/usr/local/lib/python3.6/dist-packages/sklearn/linear_model/_logistic.py:940: ConvergenceWarning: lbfgs failed to converge (status=1):\n",
            "STOP: TOTAL NO. of ITERATIONS REACHED LIMIT.\n",
            "\n",
            "Increase the number of iterations (max_iter) or scale the data as shown in:\n",
            "    https://scikit-learn.org/stable/modules/preprocessing.html\n",
            "Please also refer to the documentation for alternative solver options:\n",
            "    https://scikit-learn.org/stable/modules/linear_model.html#logistic-regression\n",
            "  extra_warning_msg=_LOGISTIC_SOLVER_CONVERGENCE_MSG)\n"
          ],
          "name": "stderr"
        },
        {
          "output_type": "execute_result",
          "data": {
            "text/plain": [
              "Pipeline(memory=None,\n",
              "         steps=[('vectorizer',\n",
              "                 TfidfVectorizer(analyzer='word', binary=False,\n",
              "                                 decode_error='strict',\n",
              "                                 dtype=<class 'numpy.float64'>,\n",
              "                                 encoding='utf-8', input='content',\n",
              "                                 lowercase=True, max_df=1.0, max_features=None,\n",
              "                                 min_df=1, ngram_range=(1, 2), norm='l2',\n",
              "                                 preprocessor=None, smooth_idf=True,\n",
              "                                 stop_words=None, strip_accents=None,\n",
              "                                 sublinear_tf=False,\n",
              "                                 token_pattern='(?u)\\\\b\\\\w\\\\w+\\\\b',\n",
              "                                 tokenizer=None, use_idf=True,\n",
              "                                 vocabulary=None)),\n",
              "                ('model',\n",
              "                 LogisticRegression(C=10, class_weight='balanced', dual=False,\n",
              "                                    fit_intercept=True, intercept_scaling=1,\n",
              "                                    l1_ratio=None, max_iter=500,\n",
              "                                    multi_class='auto', n_jobs=None,\n",
              "                                    penalty='l2', random_state=0,\n",
              "                                    solver='lbfgs', tol=0.0001, verbose=0,\n",
              "                                    warm_start=False))],\n",
              "         verbose=False)"
            ]
          },
          "metadata": {
            "tags": []
          },
          "execution_count": 119
        }
      ]
    },
    {
      "cell_type": "markdown",
      "metadata": {
        "id": "Z0uf4-XhB3-4",
        "colab_type": "text"
      },
      "source": [
        "# 6. Evaluation"
      ]
    },
    {
      "cell_type": "code",
      "metadata": {
        "id": "ONf7S4DgB3-5",
        "colab_type": "code",
        "colab": {}
      },
      "source": [
        "y_pred = pipeline.predict(x_val)"
      ],
      "execution_count": null,
      "outputs": []
    },
    {
      "cell_type": "code",
      "metadata": {
        "id": "XIEyLEolB3_C",
        "colab_type": "code",
        "colab": {
          "base_uri": "https://localhost:8080/",
          "height": 196
        },
        "outputId": "46899a4d-2029-4dc0-bf33-afc003db68ad"
      },
      "source": [
        "print(confusion_matrix(y_val, y_pred))\n",
        "print(classification_report(y_val, y_pred))"
      ],
      "execution_count": null,
      "outputs": [
        {
          "output_type": "stream",
          "text": [
            "[[ 72818   9919]\n",
            " [ 11222 152872]]\n",
            "              precision    recall  f1-score   support\n",
            "\n",
            "           0       0.87      0.88      0.87     82737\n",
            "           1       0.94      0.93      0.94    164094\n",
            "\n",
            "    accuracy                           0.91    246831\n",
            "   macro avg       0.90      0.91      0.90    246831\n",
            "weighted avg       0.91      0.91      0.91    246831\n",
            "\n"
          ],
          "name": "stdout"
        }
      ]
    },
    {
      "cell_type": "markdown",
      "metadata": {
        "id": "rZwVp17iB3_I",
        "colab_type": "text"
      },
      "source": [
        "# 7. Prediction on test set"
      ]
    },
    {
      "cell_type": "code",
      "metadata": {
        "id": "OQsQtZG6B3_K",
        "colab_type": "code",
        "colab": {}
      },
      "source": [
        "df_test_cleaned = text_cleaning(df_test, 'review')\n",
        "x_test = df_test_cleaned['review']\n",
        "\n",
        "predictions = pipeline.predict(x_test)"
      ],
      "execution_count": null,
      "outputs": []
    },
    {
      "cell_type": "markdown",
      "metadata": {
        "id": "ovJt1hegB3_O",
        "colab_type": "text"
      },
      "source": [
        "# 8. Formatting & export to csv"
      ]
    },
    {
      "cell_type": "code",
      "metadata": {
        "id": "Vu-a33s0B3_P",
        "colab_type": "code",
        "colab": {}
      },
      "source": [
        "soumission = pd.DataFrame({\"review_id\": df_test['review_id'], \"prediction\": predictions})\n",
        "\n",
        "soumission['prediction'] = soumission['prediction'].astype('bool')\n",
        "soumission['review_id'] = soumission['review_id'].astype('str')\n",
        "\n",
        "soumission.head().dtypes\n",
        "\n",
        "soumission.to_csv('/content/drive/My Drive/Hackathon-Capgemini/submissions/submission_erika_3.csv', index=False)"
      ],
      "execution_count": null,
      "outputs": []
    },
    {
      "cell_type": "code",
      "metadata": {
        "id": "2tITrqiN_fns",
        "colab_type": "code",
        "colab": {
          "base_uri": "https://localhost:8080/",
          "height": 53
        },
        "outputId": "a1960ffe-bda0-45ca-a898-f9f7edee50da"
      },
      "source": [
        "'''\n",
        "!pip install -q kaggle\n",
        "!mkdir -p ~/.kaggle\n",
        "from google.colab import files\n",
        "files.upload() # Upload the file from your computer here \n",
        "               # (you have to download it at https://www.kaggle.com/<Your_Account>/account at the API Section)\n",
        "!cp kaggle.json ~/.kaggle/\n",
        "#!kaggle competitions submit -c restaurants-ratings-prediction -f [FILE PATH] -m \"[CUSTOM MESSAGE]\"\n",
        "'''"
      ],
      "execution_count": null,
      "outputs": [
        {
          "output_type": "execute_result",
          "data": {
            "text/plain": [
              "'\\n!pip install -q kaggle\\n!mkdir -p ~/.kaggle\\nfrom google.colab import files\\nfiles.upload() # Upload the file from your computer here \\n               # (you have to download it at https://www.kaggle.com/<Your_Account>/account at the API Section)\\n!cp kaggle.json ~/.kaggle/\\n#!kaggle competitions submit -c restaurants-ratings-prediction -f [FILE PATH] -m \"[CUSTOM MESSAGE]\"\\n'"
            ]
          },
          "metadata": {
            "tags": []
          },
          "execution_count": 124
        }
      ]
    },
    {
      "cell_type": "code",
      "metadata": {
        "id": "OhMyeejCAOoS",
        "colab_type": "code",
        "colab": {}
      },
      "source": [
        "#!kaggle competitions submit -c restaurants-ratings-prediction -f /content/drive/My\\ Drive/Hackathon-Capgemini/submissions/submission_erika_3.csv -m \"Test submission\""
      ],
      "execution_count": null,
      "outputs": []
    },
    {
      "cell_type": "markdown",
      "metadata": {
        "id": "4byXi6_xB3_T",
        "colab_type": "text"
      },
      "source": [
        "# 9. Model Interpretability - Do not consider for kaggle competition"
      ]
    },
    {
      "cell_type": "code",
      "metadata": {
        "id": "N9SPglXmB3_U",
        "colab_type": "code",
        "colab": {
          "base_uri": "https://localhost:8080/",
          "height": 53
        },
        "outputId": "8296d321-2e07-4d7d-c3c8-6ed7643e0e60"
      },
      "source": [
        "'''\n",
        "class_names = [0, 1]\n",
        "explainer = LimeTextExplainer(class_names=class_names)\n",
        "\n",
        "def lime_model_interpreter(clf, idx, n_features):\n",
        "    text_idx = x_val.iloc[idx]\n",
        "    target_idx = y_val.iloc[idx]\n",
        "\n",
        "    exp = explainer.explain_instance(text_idx, clf.predict_proba, num_features=n_features)\n",
        "    print('Document id: %d' % idx)\n",
        "    print('Probability(True) =', clf.predict_proba([text_idx])[0,1])\n",
        "    print('True class: %s' % class_names[target_idx])\n",
        "\n",
        "    exp.show_in_notebook(text=True)\n",
        "'''    "
      ],
      "execution_count": null,
      "outputs": [
        {
          "output_type": "execute_result",
          "data": {
            "text/plain": [
              "\"\\nclass_names = [0, 1]\\nexplainer = LimeTextExplainer(class_names=class_names)\\n\\ndef lime_model_interpreter(clf, idx, n_features):\\n    text_idx = x_val.iloc[idx]\\n    target_idx = y_val.iloc[idx]\\n\\n    exp = explainer.explain_instance(text_idx, clf.predict_proba, num_features=n_features)\\n    print('Document id: %d' % idx)\\n    print('Probability(True) =', clf.predict_proba([text_idx])[0,1])\\n    print('True class: %s' % class_names[target_idx])\\n\\n    exp.show_in_notebook(text=True)\\n\""
            ]
          },
          "metadata": {
            "tags": []
          },
          "execution_count": 126
        }
      ]
    },
    {
      "cell_type": "code",
      "metadata": {
        "id": "vT_wNU_eB3_W",
        "colab_type": "code",
        "colab": {}
      },
      "source": [
        "#lime_model_interpreter(pipeline, 2, n_features=6) "
      ],
      "execution_count": null,
      "outputs": []
    },
    {
      "cell_type": "code",
      "metadata": {
        "id": "eWNK08ozB3_a",
        "colab_type": "code",
        "colab": {}
      },
      "source": [
        "#lime_model_interpreter(pipeline, 7, n_features=6) "
      ],
      "execution_count": null,
      "outputs": []
    }
  ]
}